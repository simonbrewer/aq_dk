{
 "cells": [
  {
   "cell_type": "markdown",
   "metadata": {},
   "source": [
    "# Basis function construction\n",
    "\n"
   ]
  },
  {
   "cell_type": "markdown",
   "metadata": {},
   "source": [
    "This now creates basis functions for both the observations and for a week(?) of mobile data"
   ]
  },
  {
   "cell_type": "code",
   "execution_count": 1,
   "metadata": {},
   "outputs": [],
   "source": [
    "import pandas as pd\n",
    "import numpy as np\n",
    "import matplotlib.pyplot as plt\n",
    "import geopandas\n",
    "import datetime"
   ]
  },
  {
   "cell_type": "markdown",
   "metadata": {},
   "source": [
    "## Load grid \n",
    "\n",
    "(we'll need to filter this down)"
   ]
  },
  {
   "cell_type": "code",
   "execution_count": 2,
   "metadata": {},
   "outputs": [],
   "source": [
    "grid_gdf = geopandas.read_file(\"./data/coarse_grid_pts/grid_pts_coarse.shp\")"
   ]
  },
  {
   "cell_type": "code",
   "execution_count": 3,
   "metadata": {},
   "outputs": [
    {
     "data": {
      "text/plain": [
       "<Axes: >"
      ]
     },
     "execution_count": 3,
     "metadata": {},
     "output_type": "execute_result"
    },
    {
     "data": {
      "image/png": "[encoded data removed]",
      "text/plain": [
       "<Figure size 640x480 with 1 Axes>"
      ]
     },
     "metadata": {},
     "output_type": "display_data"
    }
   ],
   "source": [
    "grid_gdf.plot()"
   ]
  },
  {
   "cell_type": "code",
   "execution_count": 4,
   "metadata": {},
   "outputs": [
    {
     "name": "stdout",
     "output_type": "stream",
     "text": [
      "-112.25516635714284 -111.55831564285714 40.419293290000006 40.916769710000004\n"
     ]
    }
   ],
   "source": [
    "grid_crds = grid_gdf.get_coordinates()\n",
    "min_x = grid_crds.x.min()\n",
    "max_x = grid_crds.x.max()\n",
    "min_y = grid_crds.y.min()\n",
    "max_y = grid_crds.y.max()\n",
    "print(min_x, max_x, min_y, max_y)\n"
   ]
  },
  {
   "cell_type": "code",
   "execution_count": 5,
   "metadata": {},
   "outputs": [],
   "source": [
    "grid_crds['normalized_lon'] = (grid_crds['x']-min_x)/(max_x - min_x)\n",
    "grid_crds['normalized_lat'] = (grid_crds['y']-min_y)/(max_y-min_y)\n"
   ]
  },
  {
   "cell_type": "markdown",
   "metadata": {},
   "source": [
    "## Load monitor data"
   ]
  },
  {
   "cell_type": "code",
   "execution_count": 6,
   "metadata": {},
   "outputs": [
    {
     "data": {
      "text/html": [
       "<div>\n",
       "<style scoped>\n",
       "    .dataframe tbody tr th:only-of-type {\n",
       "        vertical-align: middle;\n",
       "    }\n",
       "\n",
       "    .dataframe tbody tr th {\n",
       "        vertical-align: top;\n",
       "    }\n",
       "\n",
       "    .dataframe thead th {\n",
       "        text-align: right;\n",
       "    }\n",
       "</style>\n",
       "<table border=\"1\" class=\"dataframe\">\n",
       "  <thead>\n",
       "    <tr style=\"text-align: right;\">\n",
       "      <th></th>\n",
       "      <th>site.num</th>\n",
       "      <th>latitude</th>\n",
       "      <th>longitude</th>\n",
       "      <th>parameter.name</th>\n",
       "      <th>day_time</th>\n",
       "      <th>date</th>\n",
       "      <th>hour</th>\n",
       "      <th>sample.measurement</th>\n",
       "    </tr>\n",
       "  </thead>\n",
       "  <tbody>\n",
       "    <tr>\n",
       "      <th>0</th>\n",
       "      <td>2005</td>\n",
       "      <td>40.598056</td>\n",
       "      <td>-111.894167</td>\n",
       "      <td>Ozone</td>\n",
       "      <td>2023-01-01T00:00:00Z</td>\n",
       "      <td>2023-01-01</td>\n",
       "      <td>0S</td>\n",
       "      <td>0.014</td>\n",
       "    </tr>\n",
       "    <tr>\n",
       "      <th>1</th>\n",
       "      <td>2005</td>\n",
       "      <td>40.598056</td>\n",
       "      <td>-111.894167</td>\n",
       "      <td>Ozone</td>\n",
       "      <td>2023-01-01T01:00:00Z</td>\n",
       "      <td>2023-01-01</td>\n",
       "      <td>1H 0M 0S</td>\n",
       "      <td>0.007</td>\n",
       "    </tr>\n",
       "    <tr>\n",
       "      <th>2</th>\n",
       "      <td>2005</td>\n",
       "      <td>40.598056</td>\n",
       "      <td>-111.894167</td>\n",
       "      <td>Ozone</td>\n",
       "      <td>2023-01-01T02:00:00Z</td>\n",
       "      <td>2023-01-01</td>\n",
       "      <td>2H 0M 0S</td>\n",
       "      <td>0.002</td>\n",
       "    </tr>\n",
       "    <tr>\n",
       "      <th>3</th>\n",
       "      <td>2005</td>\n",
       "      <td>40.598056</td>\n",
       "      <td>-111.894167</td>\n",
       "      <td>Ozone</td>\n",
       "      <td>2023-01-01T03:00:00Z</td>\n",
       "      <td>2023-01-01</td>\n",
       "      <td>3H 0M 0S</td>\n",
       "      <td>0.009</td>\n",
       "    </tr>\n",
       "    <tr>\n",
       "      <th>4</th>\n",
       "      <td>2005</td>\n",
       "      <td>40.598056</td>\n",
       "      <td>-111.894167</td>\n",
       "      <td>Ozone</td>\n",
       "      <td>2023-01-01T04:00:00Z</td>\n",
       "      <td>2023-01-01</td>\n",
       "      <td>4H 0M 0S</td>\n",
       "      <td>0.011</td>\n",
       "    </tr>\n",
       "  </tbody>\n",
       "</table>\n",
       "</div>"
      ],
      "text/plain": [
       "   site.num   latitude   longitude parameter.name              day_time  \\\n",
       "0      2005  40.598056 -111.894167          Ozone  2023-01-01T00:00:00Z   \n",
       "1      2005  40.598056 -111.894167          Ozone  2023-01-01T01:00:00Z   \n",
       "2      2005  40.598056 -111.894167          Ozone  2023-01-01T02:00:00Z   \n",
       "3      2005  40.598056 -111.894167          Ozone  2023-01-01T03:00:00Z   \n",
       "4      2005  40.598056 -111.894167          Ozone  2023-01-01T04:00:00Z   \n",
       "\n",
       "         date      hour  sample.measurement  \n",
       "0  2023-01-01        0S               0.014  \n",
       "1  2023-01-01  1H 0M 0S               0.007  \n",
       "2  2023-01-01  2H 0M 0S               0.002  \n",
       "3  2023-01-01  3H 0M 0S               0.009  \n",
       "4  2023-01-01  4H 0M 0S               0.011  "
      ]
     },
     "execution_count": 6,
     "metadata": {},
     "output_type": "execute_result"
    }
   ],
   "source": [
    "aq_df = pd.read_csv(\"./data/aqs_data.csv\")\n",
    "aq_df.head()"
   ]
  },
  {
   "cell_type": "code",
   "execution_count": 7,
   "metadata": {},
   "outputs": [
    {
     "data": {
      "text/plain": [
       "'2023-09-30T23:00:00Z'"
      ]
     },
     "execution_count": 7,
     "metadata": {},
     "output_type": "execute_result"
    }
   ],
   "source": [
    "aq_df['day_time'].max()"
   ]
  },
  {
   "cell_type": "code",
   "execution_count": 8,
   "metadata": {},
   "outputs": [],
   "source": [
    "aq_df = aq_df[(aq_df.day_time >= \"2023-07-01\") & (aq_df.day_time <= \"2023-07-15\")]"
   ]
  },
  {
   "cell_type": "code",
   "execution_count": 9,
   "metadata": {},
   "outputs": [
    {
     "data": {
      "text/plain": [
       "'2023-07-14T23:00:00Z'"
      ]
     },
     "execution_count": 9,
     "metadata": {},
     "output_type": "execute_result"
    }
   ],
   "source": [
    "aq_df['day_time'].max()"
   ]
  },
  {
   "cell_type": "code",
   "execution_count": 10,
   "metadata": {},
   "outputs": [
    {
     "data": {
      "text/plain": [
       "(2665, 8)"
      ]
     },
     "execution_count": 10,
     "metadata": {},
     "output_type": "execute_result"
    }
   ],
   "source": [
    "aq_df.shape"
   ]
  },
  {
   "cell_type": "code",
   "execution_count": 11,
   "metadata": {},
   "outputs": [
    {
     "data": {
      "text/plain": [
       "[<matplotlib.lines.Line2D at 0x169b790f0>]"
      ]
     },
     "execution_count": 11,
     "metadata": {},
     "output_type": "execute_result"
    },
    {
     "data": {
      "image/png": "[encoded data removed]",
      "text/plain": [
       "<Figure size 640x480 with 1 Axes>"
      ]
     },
     "metadata": {},
     "output_type": "display_data"
    }
   ],
   "source": [
    "plt.plot(aq_df['longitude'], aq_df['latitude'], 'bo')"
   ]
  },
  {
   "cell_type": "markdown",
   "metadata": {},
   "source": [
    "### Standardize coordinates"
   ]
  },
  {
   "cell_type": "code",
   "execution_count": 12,
   "metadata": {},
   "outputs": [
    {
     "name": "stdout",
     "output_type": "stream",
     "text": [
      "2665\n"
     ]
    }
   ],
   "source": [
    "lon = aq_df.values[:,2].astype('float64')\n",
    "lat = aq_df.values[:,1].astype('float64')\n",
    "aq_df['normalized_lon'] = (lon-min_x)/(max_x - min_x)\n",
    "aq_df['normalized_lat'] = (lat-min_y)/(max_y-min_y)\n",
    "N = lon.shape[0]\n",
    "print(N)"
   ]
  },
  {
   "cell_type": "code",
   "execution_count": 13,
   "metadata": {},
   "outputs": [
    {
     "data": {
      "image/png": "[encoded data removed]",
      "text/plain": [
       "<Figure size 640x480 with 1 Axes>"
      ]
     },
     "metadata": {},
     "output_type": "display_data"
    }
   ],
   "source": [
    "plt.plot(grid_crds['normalized_lon'], grid_crds['normalized_lat'], 'bo', markersize=1)\n",
    "plt.plot(aq_df['normalized_lon'], aq_df['normalized_lat'], 'go')\n",
    "plt.show()"
   ]
  },
  {
   "cell_type": "markdown",
   "metadata": {},
   "source": [
    "### Standardize time"
   ]
  },
  {
   "cell_type": "code",
   "execution_count": 14,
   "metadata": {},
   "outputs": [
    {
     "data": {
      "text/html": [
       "<div>\n",
       "<style scoped>\n",
       "    .dataframe tbody tr th:only-of-type {\n",
       "        vertical-align: middle;\n",
       "    }\n",
       "\n",
       "    .dataframe tbody tr th {\n",
       "        vertical-align: top;\n",
       "    }\n",
       "\n",
       "    .dataframe thead th {\n",
       "        text-align: right;\n",
       "    }\n",
       "</style>\n",
       "<table border=\"1\" class=\"dataframe\">\n",
       "  <thead>\n",
       "    <tr style=\"text-align: right;\">\n",
       "      <th></th>\n",
       "      <th>site.num</th>\n",
       "      <th>latitude</th>\n",
       "      <th>longitude</th>\n",
       "      <th>parameter.name</th>\n",
       "      <th>day_time</th>\n",
       "      <th>date</th>\n",
       "      <th>hour</th>\n",
       "      <th>sample.measurement</th>\n",
       "      <th>normalized_lon</th>\n",
       "      <th>normalized_lat</th>\n",
       "    </tr>\n",
       "  </thead>\n",
       "  <tbody>\n",
       "    <tr>\n",
       "      <th>4310</th>\n",
       "      <td>2005</td>\n",
       "      <td>40.598056</td>\n",
       "      <td>-111.894167</td>\n",
       "      <td>Ozone</td>\n",
       "      <td>2023-07-01T00:00:00Z</td>\n",
       "      <td>2023-07-01</td>\n",
       "      <td>0S</td>\n",
       "      <td>0.033</td>\n",
       "      <td>0.518044</td>\n",
       "      <td>0.359339</td>\n",
       "    </tr>\n",
       "    <tr>\n",
       "      <th>4311</th>\n",
       "      <td>2005</td>\n",
       "      <td>40.598056</td>\n",
       "      <td>-111.894167</td>\n",
       "      <td>Ozone</td>\n",
       "      <td>2023-07-01T01:00:00Z</td>\n",
       "      <td>2023-07-01</td>\n",
       "      <td>1H 0M 0S</td>\n",
       "      <td>0.033</td>\n",
       "      <td>0.518044</td>\n",
       "      <td>0.359339</td>\n",
       "    </tr>\n",
       "    <tr>\n",
       "      <th>4312</th>\n",
       "      <td>2005</td>\n",
       "      <td>40.598056</td>\n",
       "      <td>-111.894167</td>\n",
       "      <td>Ozone</td>\n",
       "      <td>2023-07-01T02:00:00Z</td>\n",
       "      <td>2023-07-01</td>\n",
       "      <td>2H 0M 0S</td>\n",
       "      <td>0.031</td>\n",
       "      <td>0.518044</td>\n",
       "      <td>0.359339</td>\n",
       "    </tr>\n",
       "    <tr>\n",
       "      <th>4313</th>\n",
       "      <td>2005</td>\n",
       "      <td>40.598056</td>\n",
       "      <td>-111.894167</td>\n",
       "      <td>Ozone</td>\n",
       "      <td>2023-07-01T03:00:00Z</td>\n",
       "      <td>2023-07-01</td>\n",
       "      <td>3H 0M 0S</td>\n",
       "      <td>0.023</td>\n",
       "      <td>0.518044</td>\n",
       "      <td>0.359339</td>\n",
       "    </tr>\n",
       "    <tr>\n",
       "      <th>4314</th>\n",
       "      <td>2005</td>\n",
       "      <td>40.598056</td>\n",
       "      <td>-111.894167</td>\n",
       "      <td>Ozone</td>\n",
       "      <td>2023-07-01T04:00:00Z</td>\n",
       "      <td>2023-07-01</td>\n",
       "      <td>4H 0M 0S</td>\n",
       "      <td>0.021</td>\n",
       "      <td>0.518044</td>\n",
       "      <td>0.359339</td>\n",
       "    </tr>\n",
       "  </tbody>\n",
       "</table>\n",
       "</div>"
      ],
      "text/plain": [
       "      site.num   latitude   longitude parameter.name              day_time  \\\n",
       "4310      2005  40.598056 -111.894167          Ozone  2023-07-01T00:00:00Z   \n",
       "4311      2005  40.598056 -111.894167          Ozone  2023-07-01T01:00:00Z   \n",
       "4312      2005  40.598056 -111.894167          Ozone  2023-07-01T02:00:00Z   \n",
       "4313      2005  40.598056 -111.894167          Ozone  2023-07-01T03:00:00Z   \n",
       "4314      2005  40.598056 -111.894167          Ozone  2023-07-01T04:00:00Z   \n",
       "\n",
       "            date      hour  sample.measurement  normalized_lon  normalized_lat  \n",
       "4310  2023-07-01        0S               0.033        0.518044        0.359339  \n",
       "4311  2023-07-01  1H 0M 0S               0.033        0.518044        0.359339  \n",
       "4312  2023-07-01  2H 0M 0S               0.031        0.518044        0.359339  \n",
       "4313  2023-07-01  3H 0M 0S               0.023        0.518044        0.359339  \n",
       "4314  2023-07-01  4H 0M 0S               0.021        0.518044        0.359339  "
      ]
     },
     "execution_count": 14,
     "metadata": {},
     "output_type": "execute_result"
    }
   ],
   "source": [
    "aq_df.head()"
   ]
  },
  {
   "cell_type": "code",
   "execution_count": 15,
   "metadata": {},
   "outputs": [
    {
     "name": "stdout",
     "output_type": "stream",
     "text": [
      "4310   2023-07-01 00:00:00+00:00\n",
      "4311   2023-07-01 01:00:00+00:00\n",
      "4312   2023-07-01 02:00:00+00:00\n",
      "4313   2023-07-01 03:00:00+00:00\n",
      "4314   2023-07-01 04:00:00+00:00\n",
      "4315   2023-07-01 05:00:00+00:00\n",
      "4316   2023-07-01 06:00:00+00:00\n",
      "4317   2023-07-01 07:00:00+00:00\n",
      "4318   2023-07-01 08:00:00+00:00\n",
      "4319   2023-07-01 09:00:00+00:00\n",
      "Name: day_time, dtype: datetime64[ns, UTC]\n",
      "datetime64[ns, UTC]\n"
     ]
    }
   ],
   "source": [
    "day_time = pd.to_datetime(aq_df['day_time'])\n",
    "# add the timezone:\n",
    "\n",
    "print(day_time[0:10])\n",
    "print(day_time.dtype)"
   ]
  },
  {
   "cell_type": "code",
   "execution_count": 16,
   "metadata": {},
   "outputs": [],
   "source": [
    "day_time = day_time.astype('int64') / 1e9 ## Time in nanoseconds"
   ]
  },
  {
   "cell_type": "code",
   "execution_count": 17,
   "metadata": {},
   "outputs": [
    {
     "name": "stdout",
     "output_type": "stream",
     "text": [
      "1688169600.0 1689375600.0\n"
     ]
    }
   ],
   "source": [
    "min_t = day_time.min()\n",
    "max_t = day_time.max()\n",
    "print(min_t, max_t)"
   ]
  },
  {
   "cell_type": "code",
   "execution_count": 18,
   "metadata": {},
   "outputs": [
    {
     "data": {
      "text/plain": [
       "4310     0.000000\n",
       "4311     0.002985\n",
       "4312     0.005970\n",
       "4313     0.008955\n",
       "4314     0.011940\n",
       "           ...   \n",
       "49958    0.988060\n",
       "49959    0.991045\n",
       "49960    0.994030\n",
       "49961    0.997015\n",
       "49962    1.000000\n",
       "Name: normalized_time, Length: 2665, dtype: float64"
      ]
     },
     "execution_count": 18,
     "metadata": {},
     "output_type": "execute_result"
    }
   ],
   "source": [
    "aq_df['normalized_time'] = (day_time - min_t) / (max_t-min_t)\n",
    "aq_df['normalized_time']"
   ]
  },
  {
   "cell_type": "markdown",
   "metadata": {},
   "source": [
    "## Load ebus data"
   ]
  },
  {
   "cell_type": "code",
   "execution_count": 19,
   "metadata": {},
   "outputs": [
    {
     "data": {
      "text/plain": [
       "(183866, 27)"
      ]
     },
     "execution_count": 19,
     "metadata": {},
     "output_type": "execute_result"
    }
   ],
   "source": [
    "ebus = pd.read_csv(\"./data/EBUS_TEST_DATA/BUS04_2023_07.csv\", header = [0,1],  \n",
    "                 na_values = -9999.00)\n",
    "ebus.shape"
   ]
  },
  {
   "cell_type": "code",
   "execution_count": 20,
   "metadata": {},
   "outputs": [
    {
     "data": {
      "text/html": [
       "<div>\n",
       "<style scoped>\n",
       "    .dataframe tbody tr th:only-of-type {\n",
       "        vertical-align: middle;\n",
       "    }\n",
       "\n",
       "    .dataframe tbody tr th {\n",
       "        vertical-align: top;\n",
       "    }\n",
       "\n",
       "    .dataframe thead tr th {\n",
       "        text-align: left;\n",
       "    }\n",
       "</style>\n",
       "<table border=\"1\" class=\"dataframe\">\n",
       "  <thead>\n",
       "    <tr>\n",
       "      <th></th>\n",
       "      <th>Timestamp</th>\n",
       "      <th>Latitude</th>\n",
       "      <th>Longitude</th>\n",
       "      <th>Elevation</th>\n",
       "      <th>GPS_Speed</th>\n",
       "      <th>GPS_Direction</th>\n",
       "      <th>GPS_RMC_Valid</th>\n",
       "      <th>Battery_Voltage</th>\n",
       "      <th>Bus_Box_Temperature</th>\n",
       "      <th>Bus_Top_Temperature</th>\n",
       "      <th>...</th>\n",
       "      <th>ES405_Internal_Relative_Humidity</th>\n",
       "      <th>ES405_Internal_Air_Pressure</th>\n",
       "      <th>ES405_Error_Code</th>\n",
       "      <th>2B_Ozone_Concentration</th>\n",
       "      <th>2B_Air_Flow_Rate</th>\n",
       "      <th>2B_Internal_Air_Temperature</th>\n",
       "      <th>2B_Internal_Air_Pressure</th>\n",
       "      <th>PM2.5_Data_Flagged</th>\n",
       "      <th>Ozone_Data_Flagged</th>\n",
       "      <th>GPS_Data_Flagged</th>\n",
       "    </tr>\n",
       "    <tr>\n",
       "      <th></th>\n",
       "      <th>UTC</th>\n",
       "      <th>ddeg</th>\n",
       "      <th>ddeg</th>\n",
       "      <th>m</th>\n",
       "      <th>m/s</th>\n",
       "      <th>deg</th>\n",
       "      <th>binary</th>\n",
       "      <th>volts</th>\n",
       "      <th>degC</th>\n",
       "      <th>degC</th>\n",
       "      <th>...</th>\n",
       "      <th>%</th>\n",
       "      <th>hpa</th>\n",
       "      <th>code</th>\n",
       "      <th>ppbv</th>\n",
       "      <th>L/min</th>\n",
       "      <th>degC</th>\n",
       "      <th>hpa</th>\n",
       "      <th>binary</th>\n",
       "      <th>binary</th>\n",
       "      <th>binary</th>\n",
       "    </tr>\n",
       "  </thead>\n",
       "  <tbody>\n",
       "    <tr>\n",
       "      <th>0</th>\n",
       "      <td>2023-07-01T00:00:00</td>\n",
       "      <td>40.703491</td>\n",
       "      <td>-111.977234</td>\n",
       "      <td>1293.5</td>\n",
       "      <td>0.0</td>\n",
       "      <td>181.8</td>\n",
       "      <td>1.0</td>\n",
       "      <td>13.17</td>\n",
       "      <td>31.57</td>\n",
       "      <td>29.47</td>\n",
       "      <td>...</td>\n",
       "      <td>18.8</td>\n",
       "      <td>655.6</td>\n",
       "      <td>0.0</td>\n",
       "      <td>62.7</td>\n",
       "      <td>2.13</td>\n",
       "      <td>42.8</td>\n",
       "      <td>842.5</td>\n",
       "      <td>0</td>\n",
       "      <td>0</td>\n",
       "      <td>0</td>\n",
       "    </tr>\n",
       "    <tr>\n",
       "      <th>1</th>\n",
       "      <td>2023-07-01T00:00:05</td>\n",
       "      <td>40.703499</td>\n",
       "      <td>-111.977234</td>\n",
       "      <td>1293.9</td>\n",
       "      <td>0.0</td>\n",
       "      <td>181.8</td>\n",
       "      <td>1.0</td>\n",
       "      <td>13.17</td>\n",
       "      <td>31.57</td>\n",
       "      <td>29.49</td>\n",
       "      <td>...</td>\n",
       "      <td>NaN</td>\n",
       "      <td>NaN</td>\n",
       "      <td>NaN</td>\n",
       "      <td>55.3</td>\n",
       "      <td>2.13</td>\n",
       "      <td>42.8</td>\n",
       "      <td>842.8</td>\n",
       "      <td>0</td>\n",
       "      <td>0</td>\n",
       "      <td>0</td>\n",
       "    </tr>\n",
       "    <tr>\n",
       "      <th>2</th>\n",
       "      <td>2023-07-01T00:00:10</td>\n",
       "      <td>40.703499</td>\n",
       "      <td>-111.977234</td>\n",
       "      <td>1293.9</td>\n",
       "      <td>0.0</td>\n",
       "      <td>181.8</td>\n",
       "      <td>1.0</td>\n",
       "      <td>13.18</td>\n",
       "      <td>31.57</td>\n",
       "      <td>29.50</td>\n",
       "      <td>...</td>\n",
       "      <td>NaN</td>\n",
       "      <td>NaN</td>\n",
       "      <td>NaN</td>\n",
       "      <td>53.7</td>\n",
       "      <td>2.12</td>\n",
       "      <td>42.8</td>\n",
       "      <td>842.8</td>\n",
       "      <td>0</td>\n",
       "      <td>0</td>\n",
       "      <td>0</td>\n",
       "    </tr>\n",
       "    <tr>\n",
       "      <th>3</th>\n",
       "      <td>2023-07-01T00:00:15</td>\n",
       "      <td>40.703499</td>\n",
       "      <td>-111.977234</td>\n",
       "      <td>1293.9</td>\n",
       "      <td>0.0</td>\n",
       "      <td>181.8</td>\n",
       "      <td>1.0</td>\n",
       "      <td>13.18</td>\n",
       "      <td>31.56</td>\n",
       "      <td>29.49</td>\n",
       "      <td>...</td>\n",
       "      <td>NaN</td>\n",
       "      <td>NaN</td>\n",
       "      <td>NaN</td>\n",
       "      <td>57.3</td>\n",
       "      <td>2.13</td>\n",
       "      <td>42.8</td>\n",
       "      <td>842.5</td>\n",
       "      <td>0</td>\n",
       "      <td>0</td>\n",
       "      <td>0</td>\n",
       "    </tr>\n",
       "    <tr>\n",
       "      <th>4</th>\n",
       "      <td>2023-07-01T00:00:20</td>\n",
       "      <td>40.703499</td>\n",
       "      <td>-111.977234</td>\n",
       "      <td>1293.9</td>\n",
       "      <td>0.0</td>\n",
       "      <td>181.8</td>\n",
       "      <td>1.0</td>\n",
       "      <td>13.17</td>\n",
       "      <td>31.56</td>\n",
       "      <td>29.51</td>\n",
       "      <td>...</td>\n",
       "      <td>NaN</td>\n",
       "      <td>NaN</td>\n",
       "      <td>NaN</td>\n",
       "      <td>48.4</td>\n",
       "      <td>2.14</td>\n",
       "      <td>42.8</td>\n",
       "      <td>842.5</td>\n",
       "      <td>0</td>\n",
       "      <td>0</td>\n",
       "      <td>0</td>\n",
       "    </tr>\n",
       "  </tbody>\n",
       "</table>\n",
       "<p>5 rows × 27 columns</p>\n",
       "</div>"
      ],
      "text/plain": [
       "             Timestamp   Latitude   Longitude Elevation GPS_Speed  \\\n",
       "                   UTC       ddeg        ddeg         m       m/s   \n",
       "0  2023-07-01T00:00:00  40.703491 -111.977234    1293.5       0.0   \n",
       "1  2023-07-01T00:00:05  40.703499 -111.977234    1293.9       0.0   \n",
       "2  2023-07-01T00:00:10  40.703499 -111.977234    1293.9       0.0   \n",
       "3  2023-07-01T00:00:15  40.703499 -111.977234    1293.9       0.0   \n",
       "4  2023-07-01T00:00:20  40.703499 -111.977234    1293.9       0.0   \n",
       "\n",
       "  GPS_Direction GPS_RMC_Valid Battery_Voltage Bus_Box_Temperature  \\\n",
       "            deg        binary           volts                degC   \n",
       "0         181.8           1.0           13.17               31.57   \n",
       "1         181.8           1.0           13.17               31.57   \n",
       "2         181.8           1.0           13.18               31.57   \n",
       "3         181.8           1.0           13.18               31.56   \n",
       "4         181.8           1.0           13.17               31.56   \n",
       "\n",
       "  Bus_Top_Temperature  ... ES405_Internal_Relative_Humidity  \\\n",
       "                 degC  ...                                %   \n",
       "0               29.47  ...                             18.8   \n",
       "1               29.49  ...                              NaN   \n",
       "2               29.50  ...                              NaN   \n",
       "3               29.49  ...                              NaN   \n",
       "4               29.51  ...                              NaN   \n",
       "\n",
       "  ES405_Internal_Air_Pressure ES405_Error_Code 2B_Ozone_Concentration  \\\n",
       "                          hpa             code                   ppbv   \n",
       "0                       655.6              0.0                   62.7   \n",
       "1                         NaN              NaN                   55.3   \n",
       "2                         NaN              NaN                   53.7   \n",
       "3                         NaN              NaN                   57.3   \n",
       "4                         NaN              NaN                   48.4   \n",
       "\n",
       "  2B_Air_Flow_Rate 2B_Internal_Air_Temperature 2B_Internal_Air_Pressure  \\\n",
       "             L/min                        degC                      hpa   \n",
       "0             2.13                        42.8                    842.5   \n",
       "1             2.13                        42.8                    842.8   \n",
       "2             2.12                        42.8                    842.8   \n",
       "3             2.13                        42.8                    842.5   \n",
       "4             2.14                        42.8                    842.5   \n",
       "\n",
       "  PM2.5_Data_Flagged Ozone_Data_Flagged GPS_Data_Flagged  \n",
       "              binary             binary           binary  \n",
       "0                  0                  0                0  \n",
       "1                  0                  0                0  \n",
       "2                  0                  0                0  \n",
       "3                  0                  0                0  \n",
       "4                  0                  0                0  \n",
       "\n",
       "[5 rows x 27 columns]"
      ]
     },
     "execution_count": 20,
     "metadata": {},
     "output_type": "execute_result"
    }
   ],
   "source": [
    "ebus.head()"
   ]
  },
  {
   "cell_type": "markdown",
   "metadata": {},
   "source": [
    "Crop out relevant data"
   ]
  },
  {
   "cell_type": "code",
   "execution_count": 21,
   "metadata": {},
   "outputs": [],
   "source": [
    "ebus2 = pd.DataFrame({\n",
    "    'time': pd.to_datetime(ebus.iloc[:,0]),\n",
    "    'lon': ebus.iloc[:,2],\n",
    "    'lat': ebus.iloc[:,1]\n",
    "    })"
   ]
  },
  {
   "cell_type": "code",
   "execution_count": 22,
   "metadata": {},
   "outputs": [
    {
     "data": {
      "text/html": [
       "<div>\n",
       "<style scoped>\n",
       "    .dataframe tbody tr th:only-of-type {\n",
       "        vertical-align: middle;\n",
       "    }\n",
       "\n",
       "    .dataframe tbody tr th {\n",
       "        vertical-align: top;\n",
       "    }\n",
       "\n",
       "    .dataframe thead th {\n",
       "        text-align: right;\n",
       "    }\n",
       "</style>\n",
       "<table border=\"1\" class=\"dataframe\">\n",
       "  <thead>\n",
       "    <tr style=\"text-align: right;\">\n",
       "      <th></th>\n",
       "      <th>time</th>\n",
       "      <th>lon</th>\n",
       "      <th>lat</th>\n",
       "      <th>val</th>\n",
       "    </tr>\n",
       "  </thead>\n",
       "  <tbody>\n",
       "    <tr>\n",
       "      <th>0</th>\n",
       "      <td>2023-07-01 00:00:00</td>\n",
       "      <td>-111.977234</td>\n",
       "      <td>40.703491</td>\n",
       "      <td>0.0627</td>\n",
       "    </tr>\n",
       "    <tr>\n",
       "      <th>1</th>\n",
       "      <td>2023-07-01 00:00:05</td>\n",
       "      <td>-111.977234</td>\n",
       "      <td>40.703499</td>\n",
       "      <td>0.0553</td>\n",
       "    </tr>\n",
       "    <tr>\n",
       "      <th>2</th>\n",
       "      <td>2023-07-01 00:00:10</td>\n",
       "      <td>-111.977234</td>\n",
       "      <td>40.703499</td>\n",
       "      <td>0.0537</td>\n",
       "    </tr>\n",
       "    <tr>\n",
       "      <th>3</th>\n",
       "      <td>2023-07-01 00:00:15</td>\n",
       "      <td>-111.977234</td>\n",
       "      <td>40.703499</td>\n",
       "      <td>0.0573</td>\n",
       "    </tr>\n",
       "    <tr>\n",
       "      <th>4</th>\n",
       "      <td>2023-07-01 00:00:20</td>\n",
       "      <td>-111.977234</td>\n",
       "      <td>40.703499</td>\n",
       "      <td>0.0484</td>\n",
       "    </tr>\n",
       "    <tr>\n",
       "      <th>...</th>\n",
       "      <td>...</td>\n",
       "      <td>...</td>\n",
       "      <td>...</td>\n",
       "      <td>...</td>\n",
       "    </tr>\n",
       "    <tr>\n",
       "      <th>183861</th>\n",
       "      <td>2023-07-31 19:03:00</td>\n",
       "      <td>-111.910347</td>\n",
       "      <td>40.761238</td>\n",
       "      <td>NaN</td>\n",
       "    </tr>\n",
       "    <tr>\n",
       "      <th>183862</th>\n",
       "      <td>2023-07-31 19:03:05</td>\n",
       "      <td>-111.910347</td>\n",
       "      <td>40.761261</td>\n",
       "      <td>NaN</td>\n",
       "    </tr>\n",
       "    <tr>\n",
       "      <th>183863</th>\n",
       "      <td>2023-07-31 19:03:10</td>\n",
       "      <td>-111.910378</td>\n",
       "      <td>40.761288</td>\n",
       "      <td>NaN</td>\n",
       "    </tr>\n",
       "    <tr>\n",
       "      <th>183864</th>\n",
       "      <td>2023-07-31 19:03:15</td>\n",
       "      <td>-111.910477</td>\n",
       "      <td>40.761395</td>\n",
       "      <td>NaN</td>\n",
       "    </tr>\n",
       "    <tr>\n",
       "      <th>183865</th>\n",
       "      <td>2023-07-31 19:03:20</td>\n",
       "      <td>-111.910515</td>\n",
       "      <td>40.761425</td>\n",
       "      <td>NaN</td>\n",
       "    </tr>\n",
       "  </tbody>\n",
       "</table>\n",
       "<p>183866 rows × 4 columns</p>\n",
       "</div>"
      ],
      "text/plain": [
       "                      time         lon        lat     val\n",
       "0      2023-07-01 00:00:00 -111.977234  40.703491  0.0627\n",
       "1      2023-07-01 00:00:05 -111.977234  40.703499  0.0553\n",
       "2      2023-07-01 00:00:10 -111.977234  40.703499  0.0537\n",
       "3      2023-07-01 00:00:15 -111.977234  40.703499  0.0573\n",
       "4      2023-07-01 00:00:20 -111.977234  40.703499  0.0484\n",
       "...                    ...         ...        ...     ...\n",
       "183861 2023-07-31 19:03:00 -111.910347  40.761238     NaN\n",
       "183862 2023-07-31 19:03:05 -111.910347  40.761261     NaN\n",
       "183863 2023-07-31 19:03:10 -111.910378  40.761288     NaN\n",
       "183864 2023-07-31 19:03:15 -111.910477  40.761395     NaN\n",
       "183865 2023-07-31 19:03:20 -111.910515  40.761425     NaN\n",
       "\n",
       "[183866 rows x 4 columns]"
      ]
     },
     "execution_count": 22,
     "metadata": {},
     "output_type": "execute_result"
    }
   ],
   "source": [
    "ebus2['val'] = ebus['2B_Ozone_Concentration'] / 1000\n",
    "ebus2"
   ]
  },
  {
   "cell_type": "markdown",
   "metadata": {},
   "source": [
    "Crop to time"
   ]
  },
  {
   "cell_type": "code",
   "execution_count": 23,
   "metadata": {},
   "outputs": [],
   "source": [
    "ebus2 = ebus2[(ebus2.time >= \"2023-07-01\") & (ebus2.time <= \"2023-07-14 23:00:00\")].copy()"
   ]
  },
  {
   "cell_type": "code",
   "execution_count": 24,
   "metadata": {},
   "outputs": [
    {
     "data": {
      "text/plain": [
       "(94272, 4)"
      ]
     },
     "execution_count": 24,
     "metadata": {},
     "output_type": "execute_result"
    }
   ],
   "source": [
    "ebus2.shape"
   ]
  },
  {
   "cell_type": "code",
   "execution_count": 25,
   "metadata": {},
   "outputs": [
    {
     "data": {
      "text/plain": [
       "Timestamp('2023-07-14 23:00:00')"
      ]
     },
     "execution_count": 25,
     "metadata": {},
     "output_type": "execute_result"
    }
   ],
   "source": [
    "ebus2['time'].max()"
   ]
  },
  {
   "cell_type": "markdown",
   "metadata": {},
   "source": [
    "### Standardize coordinates"
   ]
  },
  {
   "cell_type": "code",
   "execution_count": 26,
   "metadata": {},
   "outputs": [],
   "source": [
    "ebus2['normalized_lon'] = (ebus2['lon']-min_x)/(max_x - min_x)\n",
    "ebus2['normalized_lat'] = (ebus2['lat']-min_y)/(max_y-min_y)"
   ]
  },
  {
   "cell_type": "code",
   "execution_count": 27,
   "metadata": {},
   "outputs": [
    {
     "data": {
      "text/html": [
       "<div>\n",
       "<style scoped>\n",
       "    .dataframe tbody tr th:only-of-type {\n",
       "        vertical-align: middle;\n",
       "    }\n",
       "\n",
       "    .dataframe tbody tr th {\n",
       "        vertical-align: top;\n",
       "    }\n",
       "\n",
       "    .dataframe thead th {\n",
       "        text-align: right;\n",
       "    }\n",
       "</style>\n",
       "<table border=\"1\" class=\"dataframe\">\n",
       "  <thead>\n",
       "    <tr style=\"text-align: right;\">\n",
       "      <th></th>\n",
       "      <th>time</th>\n",
       "      <th>lon</th>\n",
       "      <th>lat</th>\n",
       "      <th>val</th>\n",
       "      <th>normalized_lon</th>\n",
       "      <th>normalized_lat</th>\n",
       "    </tr>\n",
       "  </thead>\n",
       "  <tbody>\n",
       "    <tr>\n",
       "      <th>0</th>\n",
       "      <td>2023-07-01 00:00:00</td>\n",
       "      <td>-111.977234</td>\n",
       "      <td>40.703491</td>\n",
       "      <td>0.0627</td>\n",
       "      <td>0.398841</td>\n",
       "      <td>0.571279</td>\n",
       "    </tr>\n",
       "    <tr>\n",
       "      <th>1</th>\n",
       "      <td>2023-07-01 00:00:05</td>\n",
       "      <td>-111.977234</td>\n",
       "      <td>40.703499</td>\n",
       "      <td>0.0553</td>\n",
       "      <td>0.398841</td>\n",
       "      <td>0.571295</td>\n",
       "    </tr>\n",
       "    <tr>\n",
       "      <th>2</th>\n",
       "      <td>2023-07-01 00:00:10</td>\n",
       "      <td>-111.977234</td>\n",
       "      <td>40.703499</td>\n",
       "      <td>0.0537</td>\n",
       "      <td>0.398841</td>\n",
       "      <td>0.571295</td>\n",
       "    </tr>\n",
       "    <tr>\n",
       "      <th>3</th>\n",
       "      <td>2023-07-01 00:00:15</td>\n",
       "      <td>-111.977234</td>\n",
       "      <td>40.703499</td>\n",
       "      <td>0.0573</td>\n",
       "      <td>0.398841</td>\n",
       "      <td>0.571295</td>\n",
       "    </tr>\n",
       "    <tr>\n",
       "      <th>4</th>\n",
       "      <td>2023-07-01 00:00:20</td>\n",
       "      <td>-111.977234</td>\n",
       "      <td>40.703499</td>\n",
       "      <td>0.0484</td>\n",
       "      <td>0.398841</td>\n",
       "      <td>0.571295</td>\n",
       "    </tr>\n",
       "    <tr>\n",
       "      <th>...</th>\n",
       "      <td>...</td>\n",
       "      <td>...</td>\n",
       "      <td>...</td>\n",
       "      <td>...</td>\n",
       "      <td>...</td>\n",
       "      <td>...</td>\n",
       "    </tr>\n",
       "    <tr>\n",
       "      <th>94267</th>\n",
       "      <td>2023-07-14 22:59:40</td>\n",
       "      <td>-111.916893</td>\n",
       "      <td>40.733463</td>\n",
       "      <td>0.0454</td>\n",
       "      <td>0.485432</td>\n",
       "      <td>0.631527</td>\n",
       "    </tr>\n",
       "    <tr>\n",
       "      <th>94268</th>\n",
       "      <td>2023-07-14 22:59:45</td>\n",
       "      <td>-111.916924</td>\n",
       "      <td>40.732914</td>\n",
       "      <td>0.0552</td>\n",
       "      <td>0.485387</td>\n",
       "      <td>0.630423</td>\n",
       "    </tr>\n",
       "    <tr>\n",
       "      <th>94269</th>\n",
       "      <td>2023-07-14 22:59:50</td>\n",
       "      <td>-111.916946</td>\n",
       "      <td>40.732399</td>\n",
       "      <td>0.0507</td>\n",
       "      <td>0.485356</td>\n",
       "      <td>0.629388</td>\n",
       "    </tr>\n",
       "    <tr>\n",
       "      <th>94270</th>\n",
       "      <td>2023-07-14 22:59:55</td>\n",
       "      <td>-111.916946</td>\n",
       "      <td>40.731895</td>\n",
       "      <td>0.0413</td>\n",
       "      <td>0.485356</td>\n",
       "      <td>0.628375</td>\n",
       "    </tr>\n",
       "    <tr>\n",
       "      <th>94271</th>\n",
       "      <td>2023-07-14 23:00:00</td>\n",
       "      <td>-111.916939</td>\n",
       "      <td>40.731628</td>\n",
       "      <td>0.0461</td>\n",
       "      <td>0.485366</td>\n",
       "      <td>0.627838</td>\n",
       "    </tr>\n",
       "  </tbody>\n",
       "</table>\n",
       "<p>94272 rows × 6 columns</p>\n",
       "</div>"
      ],
      "text/plain": [
       "                     time         lon        lat     val  normalized_lon  \\\n",
       "0     2023-07-01 00:00:00 -111.977234  40.703491  0.0627        0.398841   \n",
       "1     2023-07-01 00:00:05 -111.977234  40.703499  0.0553        0.398841   \n",
       "2     2023-07-01 00:00:10 -111.977234  40.703499  0.0537        0.398841   \n",
       "3     2023-07-01 00:00:15 -111.977234  40.703499  0.0573        0.398841   \n",
       "4     2023-07-01 00:00:20 -111.977234  40.703499  0.0484        0.398841   \n",
       "...                   ...         ...        ...     ...             ...   \n",
       "94267 2023-07-14 22:59:40 -111.916893  40.733463  0.0454        0.485432   \n",
       "94268 2023-07-14 22:59:45 -111.916924  40.732914  0.0552        0.485387   \n",
       "94269 2023-07-14 22:59:50 -111.916946  40.732399  0.0507        0.485356   \n",
       "94270 2023-07-14 22:59:55 -111.916946  40.731895  0.0413        0.485356   \n",
       "94271 2023-07-14 23:00:00 -111.916939  40.731628  0.0461        0.485366   \n",
       "\n",
       "       normalized_lat  \n",
       "0            0.571279  \n",
       "1            0.571295  \n",
       "2            0.571295  \n",
       "3            0.571295  \n",
       "4            0.571295  \n",
       "...               ...  \n",
       "94267        0.631527  \n",
       "94268        0.630423  \n",
       "94269        0.629388  \n",
       "94270        0.628375  \n",
       "94271        0.627838  \n",
       "\n",
       "[94272 rows x 6 columns]"
      ]
     },
     "execution_count": 27,
     "metadata": {},
     "output_type": "execute_result"
    }
   ],
   "source": [
    "ebus2"
   ]
  },
  {
   "cell_type": "code",
   "execution_count": 28,
   "metadata": {},
   "outputs": [
    {
     "data": {
      "image/png": "[encoded data removed]",
      "text/plain": [
       "<Figure size 640x480 with 1 Axes>"
      ]
     },
     "metadata": {},
     "output_type": "display_data"
    }
   ],
   "source": [
    "plt.plot(grid_crds['normalized_lon'], grid_crds['normalized_lat'], 'bo', markersize=1)\n",
    "plt.plot(ebus2['normalized_lon'], ebus2['normalized_lat'], 'ro', markersize = 1.5)\n",
    "plt.plot(aq_df['normalized_lon'], aq_df['normalized_lat'], 'go')\n",
    "plt.show()"
   ]
  },
  {
   "cell_type": "markdown",
   "metadata": {},
   "source": [
    "### Standardize time"
   ]
  },
  {
   "cell_type": "code",
   "execution_count": 29,
   "metadata": {},
   "outputs": [
    {
     "data": {
      "text/plain": [
       "0        0.000000\n",
       "1        0.000004\n",
       "2        0.000008\n",
       "3        0.000012\n",
       "4        0.000017\n",
       "           ...   \n",
       "94267    0.999983\n",
       "94268    0.999988\n",
       "94269    0.999992\n",
       "94270    0.999996\n",
       "94271    1.000000\n",
       "Name: normalized_time, Length: 94272, dtype: float64"
      ]
     },
     "execution_count": 29,
     "metadata": {},
     "output_type": "execute_result"
    }
   ],
   "source": [
    "day_time = ebus2['time'].astype('int64') / 1e9 ## Time in nanoseconds\n",
    "ebus2['normalized_time'] = (day_time - min_t) / (max_t-min_t)\n",
    "ebus2['normalized_time']"
   ]
  },
  {
   "cell_type": "markdown",
   "metadata": {},
   "source": [
    "## Basis functions"
   ]
  },
  {
   "cell_type": "markdown",
   "metadata": {},
   "source": [
    "### Time"
   ]
  },
  {
   "cell_type": "markdown",
   "metadata": {},
   "source": [
    "We need to define:\n",
    "- Number of basis layers (3)\n",
    "- Number of knots per layer\n",
    "- S.D. for Gaussian function\n",
    "\n",
    "Then make a ragged array holding the knots on the normalized scale.\n",
    "\n",
    "Note that one of the previous examples has a very high number of temporal knots (~800) which is very computationally expensive"
   ]
  },
  {
   "cell_type": "code",
   "execution_count": 30,
   "metadata": {},
   "outputs": [],
   "source": [
    "## time basis \n",
    "## 14 day basis function\n",
    "num_basis = [10,20,56]\n",
    "std_arr = [0.3,0.15,0.05]\n",
    "# num_basis = [10,15,45]\n",
    "# std_arr = [0.4,0.2,0.1]\n",
    "#num_basis = [70,250,410]\n",
    "#std_arr = [0.2,0.09,0.009]\n",
    "#std_arr = [0.3,0.15,0.05]\n",
    "\n",
    "mu_knots = [np.linspace(0,1,int(i)) for i in num_basis]"
   ]
  },
  {
   "cell_type": "code",
   "execution_count": 31,
   "metadata": {},
   "outputs": [
    {
     "data": {
      "text/plain": [
       "[array([0.        , 0.11111111, 0.22222222, 0.33333333, 0.44444444,\n",
       "        0.55555556, 0.66666667, 0.77777778, 0.88888889, 1.        ]),\n",
       " array([0.        , 0.05263158, 0.10526316, 0.15789474, 0.21052632,\n",
       "        0.26315789, 0.31578947, 0.36842105, 0.42105263, 0.47368421,\n",
       "        0.52631579, 0.57894737, 0.63157895, 0.68421053, 0.73684211,\n",
       "        0.78947368, 0.84210526, 0.89473684, 0.94736842, 1.        ]),\n",
       " array([0.        , 0.01818182, 0.03636364, 0.05454545, 0.07272727,\n",
       "        0.09090909, 0.10909091, 0.12727273, 0.14545455, 0.16363636,\n",
       "        0.18181818, 0.2       , 0.21818182, 0.23636364, 0.25454545,\n",
       "        0.27272727, 0.29090909, 0.30909091, 0.32727273, 0.34545455,\n",
       "        0.36363636, 0.38181818, 0.4       , 0.41818182, 0.43636364,\n",
       "        0.45454545, 0.47272727, 0.49090909, 0.50909091, 0.52727273,\n",
       "        0.54545455, 0.56363636, 0.58181818, 0.6       , 0.61818182,\n",
       "        0.63636364, 0.65454545, 0.67272727, 0.69090909, 0.70909091,\n",
       "        0.72727273, 0.74545455, 0.76363636, 0.78181818, 0.8       ,\n",
       "        0.81818182, 0.83636364, 0.85454545, 0.87272727, 0.89090909,\n",
       "        0.90909091, 0.92727273, 0.94545455, 0.96363636, 0.98181818,\n",
       "        1.        ])]"
      ]
     },
     "execution_count": 31,
     "metadata": {},
     "output_type": "execute_result"
    }
   ],
   "source": [
    "mu_knots"
   ]
  },
  {
   "cell_type": "markdown",
   "metadata": {},
   "source": [
    "#### Monitor data"
   ]
  },
  {
   "cell_type": "markdown",
   "metadata": {},
   "source": [
    "Now create the basis functions. This does the following:\n",
    "- Loop over each basis layer\n",
    "- Loop by knot in the selected layer\n",
    "- Get distance from each observation (held in `s`) to the knot\n",
    "- Estimate Gaussian weight"
   ]
  },
  {
   "cell_type": "code",
   "execution_count": 32,
   "metadata": {},
   "outputs": [
    {
     "name": "stdout",
     "output_type": "stream",
     "text": [
      "(2665, 1)\n",
      "2665\n"
     ]
    }
   ],
   "source": [
    "s = np.array(aq_df['normalized_time']).reshape(len(aq_df),1)\n",
    "print(s.shape)\n",
    "N_data = len(aq_df)\n",
    "N = N_data ## We have a separate N for the training + test data set (no testing at present)\n",
    "print(N)"
   ]
  },
  {
   "cell_type": "code",
   "execution_count": 33,
   "metadata": {},
   "outputs": [
    {
     "name": "stderr",
     "output_type": "stream",
     "text": [
      "/var/folders/ws/m03sh3xd4ns621mckfrht3r0000_08/T/ipykernel_72417/1304893475.py:9: DeprecationWarning: Conversion of an array with ndim > 0 to a scalar is deprecated, and will error in future. Ensure you extract a single element from your array before performing this operation. (Deprecated NumPy 1.25.)\n",
      "  phi_t1[j,i + K] = np.exp(-0.5 * d[j]/(std**2))\n"
     ]
    }
   ],
   "source": [
    "phi_t1 = np.zeros((N, sum(num_basis)))\n",
    "K = 0\n",
    "for res in range(len(num_basis)):\n",
    "    std = std_arr[res]\n",
    "    for i in range(num_basis[res]):\n",
    "        d = np.square(np.absolute(s-mu_knots[res][i]))\n",
    "        for j in range(len(d)):\n",
    "            if d[j] >= 0 and d[j] <= 1:\n",
    "                phi_t1[j,i + K] = np.exp(-0.5 * d[j]/(std**2))\n",
    "            else:\n",
    "                phi_t1[j,i + K] = 0\n",
    "    K = K + num_basis[res]"
   ]
  },
  {
   "cell_type": "code",
   "execution_count": 34,
   "metadata": {},
   "outputs": [
    {
     "data": {
      "text/plain": [
       "[<matplotlib.lines.Line2D at 0x1791c5d20>]"
      ]
     },
     "execution_count": 34,
     "metadata": {},
     "output_type": "execute_result"
    },
    {
     "data": {
      "image/png": "[encoded data removed]",
      "text/plain": [
       "<Figure size 640x480 with 1 Axes>"
      ]
     },
     "metadata": {},
     "output_type": "display_data"
    }
   ],
   "source": [
    "plt.plot(phi_t1[0,:])"
   ]
  },
  {
   "cell_type": "markdown",
   "metadata": {},
   "source": [
    "#### Mobile data"
   ]
  },
  {
   "cell_type": "code",
   "execution_count": 35,
   "metadata": {},
   "outputs": [
    {
     "name": "stdout",
     "output_type": "stream",
     "text": [
      "(94272, 1)\n",
      "94272\n"
     ]
    }
   ],
   "source": [
    "s = np.array(ebus2['normalized_time']).reshape(len(ebus2),1)\n",
    "print(s.shape)\n",
    "N_data = len(ebus2)\n",
    "N = N_data ## We have a separate N for the training + test data set (no testing at present)\n",
    "print(N)"
   ]
  },
  {
   "cell_type": "code",
   "execution_count": 36,
   "metadata": {},
   "outputs": [
    {
     "data": {
      "text/plain": [
       "array([[0.00000000e+00],\n",
       "       [4.14593698e-06],\n",
       "       [8.29187396e-06],\n",
       "       ...,\n",
       "       [9.99991708e-01],\n",
       "       [9.99995854e-01],\n",
       "       [1.00000000e+00]])"
      ]
     },
     "execution_count": 36,
     "metadata": {},
     "output_type": "execute_result"
    }
   ],
   "source": [
    "s"
   ]
  },
  {
   "cell_type": "code",
   "execution_count": 37,
   "metadata": {},
   "outputs": [
    {
     "name": "stderr",
     "output_type": "stream",
     "text": [
      "/var/folders/ws/m03sh3xd4ns621mckfrht3r0000_08/T/ipykernel_72417/2871447583.py:9: DeprecationWarning: Conversion of an array with ndim > 0 to a scalar is deprecated, and will error in future. Ensure you extract a single element from your array before performing this operation. (Deprecated NumPy 1.25.)\n",
      "  phi_t2[j,i + K] = np.exp(-0.5 * d[j]/(std**2))\n"
     ]
    }
   ],
   "source": [
    "phi_t2 = np.zeros((N, sum(num_basis)))\n",
    "K = 0\n",
    "for res in range(len(num_basis)):\n",
    "    std = std_arr[res]\n",
    "    for i in range(num_basis[res]):\n",
    "        d = np.square(np.absolute(s-mu_knots[res][i]))\n",
    "        for j in range(len(d)):\n",
    "            if d[j] >= 0 and d[j] <= 1:\n",
    "                phi_t2[j,i + K] = np.exp(-0.5 * d[j]/(std**2))\n",
    "            else:\n",
    "                phi_t2[j,i + K] = 0\n",
    "    K = K + num_basis[res]"
   ]
  },
  {
   "cell_type": "code",
   "execution_count": 38,
   "metadata": {},
   "outputs": [
    {
     "data": {
      "text/plain": [
       "[<matplotlib.lines.Line2D at 0x179235cc0>]"
      ]
     },
     "execution_count": 38,
     "metadata": {},
     "output_type": "execute_result"
    },
    {
     "data": {
      "image/png": "[encoded data removed]",
      "text/plain": [
       "<Figure size 640x480 with 1 Axes>"
      ]
     },
     "metadata": {},
     "output_type": "display_data"
    }
   ],
   "source": [
    "plt.plot(phi_t2[0,:])"
   ]
  },
  {
   "cell_type": "markdown",
   "metadata": {},
   "source": [
    "### Space"
   ]
  },
  {
   "cell_type": "code",
   "execution_count": 39,
   "metadata": {},
   "outputs": [],
   "source": [
    "## Knots for spatial dimension (from STDK example)\n",
    "num_basis = [5**2,9**2,11**2]\n",
    "knots_1d = [np.linspace(0,1,int(np.sqrt(i))) for i in num_basis]"
   ]
  },
  {
   "cell_type": "markdown",
   "metadata": {},
   "source": [
    "#### Monitor data"
   ]
  },
  {
   "cell_type": "code",
   "execution_count": 40,
   "metadata": {},
   "outputs": [],
   "source": [
    "## Make array of coordinates\n",
    "s = np.vstack((aq_df['normalized_lon'],aq_df['normalized_lat'])).T\n",
    "N = len(aq_df)"
   ]
  },
  {
   "cell_type": "code",
   "execution_count": 41,
   "metadata": {},
   "outputs": [],
   "source": [
    "## Get weights from Wendland kernel\n",
    "K = 0\n",
    "phi_s1 = np.zeros((N, sum(num_basis)))\n",
    "for res in range(len(num_basis)):\n",
    "    theta = 1/np.sqrt(num_basis[res])*2.5\n",
    "    knots_s1, knots_s2 = np.meshgrid(knots_1d[res],knots_1d[res])\n",
    "    knots = np.column_stack((knots_s1.flatten(),knots_s2.flatten()))\n",
    "    for i in range(num_basis[res]):\n",
    "        d = np.linalg.norm(s-knots[i,:],axis=1)/theta\n",
    "        for j in range(len(d)):\n",
    "            if d[j] >= 0 and d[j] <= 1:\n",
    "                phi_s1[j,i + K] = (1-d[j])**6 * (35 * d[j]**2 + 18 * d[j] + 3)/3\n",
    "            else:\n",
    "                phi_s1[j,i + K] = 0\n",
    "    K = K + num_basis[res]"
   ]
  },
  {
   "cell_type": "markdown",
   "metadata": {},
   "source": [
    "Basis function for first location"
   ]
  },
  {
   "cell_type": "code",
   "execution_count": 42,
   "metadata": {},
   "outputs": [
    {
     "data": {
      "text/plain": [
       "[<matplotlib.lines.Line2D at 0x17d1e2d40>]"
      ]
     },
     "execution_count": 42,
     "metadata": {},
     "output_type": "execute_result"
    },
    {
     "data": {
      "image/png": "[encoded data removed]",
      "text/plain": [
       "<Figure size 640x480 with 1 Axes>"
      ]
     },
     "metadata": {},
     "output_type": "display_data"
    }
   ],
   "source": [
    "plt.plot(phi_s1[0,:])"
   ]
  },
  {
   "cell_type": "code",
   "execution_count": 43,
   "metadata": {},
   "outputs": [],
   "source": [
    "x = phi_s1[0,0:25]\n",
    "x = x.reshape(5, 5)"
   ]
  },
  {
   "cell_type": "code",
   "execution_count": 44,
   "metadata": {},
   "outputs": [
    {
     "data": {
      "image/png": "[encoded data removed]",
      "text/plain": [
       "<Figure size 640x480 with 1 Axes>"
      ]
     },
     "metadata": {},
     "output_type": "display_data"
    }
   ],
   "source": [
    "plt.imshow(x, extent=[1, 0, 1, 0])\n",
    "plt.plot(aq_df['normalized_lon'].iloc[0], aq_df['normalized_lat'].iloc[0], 'bo')\n",
    "plt.show()"
   ]
  },
  {
   "cell_type": "code",
   "execution_count": 45,
   "metadata": {},
   "outputs": [
    {
     "data": {
      "text/plain": [
       "[25, 81, 121]"
      ]
     },
     "execution_count": 45,
     "metadata": {},
     "output_type": "execute_result"
    }
   ],
   "source": [
    "num_basis"
   ]
  },
  {
   "cell_type": "code",
   "execution_count": 46,
   "metadata": {},
   "outputs": [
    {
     "data": {
      "image/png": "[encoded data removed]",
      "text/plain": [
       "<Figure size 640x480 with 1 Axes>"
      ]
     },
     "metadata": {},
     "output_type": "display_data"
    }
   ],
   "source": [
    "x = phi_s1[0,25:106]\n",
    "x = x.reshape(9, 9)\n",
    "plt.imshow(x, extent=[1, 0, 1, 0])\n",
    "plt.plot(aq_df['normalized_lon'].iloc[0], aq_df['normalized_lat'].iloc[0], 'bo')\n",
    "plt.show()\n"
   ]
  },
  {
   "cell_type": "code",
   "execution_count": 47,
   "metadata": {},
   "outputs": [
    {
     "data": {
      "image/png": "[encoded data removed]",
      "text/plain": [
       "<Figure size 640x480 with 1 Axes>"
      ]
     },
     "metadata": {},
     "output_type": "display_data"
    }
   ],
   "source": [
    "x = phi_s1[0,106:227]\n",
    "x = x.reshape(11, 11)\n",
    "plt.imshow(x, extent=[1, 0, 1, 0])\n",
    "plt.plot(aq_df['normalized_lon'].iloc[0], aq_df['normalized_lat'].iloc[0], 'bo')\n",
    "plt.show()\n"
   ]
  },
  {
   "cell_type": "markdown",
   "metadata": {},
   "source": [
    "#### Mobile data"
   ]
  },
  {
   "cell_type": "code",
   "execution_count": 48,
   "metadata": {},
   "outputs": [],
   "source": [
    "## Make array of coordinates\n",
    "s = np.vstack((ebus2['normalized_lon'],ebus2['normalized_lat'])).T\n",
    "N = len(ebus2)"
   ]
  },
  {
   "cell_type": "code",
   "execution_count": 49,
   "metadata": {},
   "outputs": [],
   "source": [
    "## Get weights from Wendland kernel\n",
    "K = 0\n",
    "phi_s2 = np.zeros((N, sum(num_basis)))\n",
    "for res in range(len(num_basis)):\n",
    "    theta = 1/np.sqrt(num_basis[res])*2.5\n",
    "    knots_s1, knots_s2 = np.meshgrid(knots_1d[res],knots_1d[res])\n",
    "    knots = np.column_stack((knots_s1.flatten(),knots_s2.flatten()))\n",
    "    for i in range(num_basis[res]):\n",
    "        d = np.linalg.norm(s-knots[i,:],axis=1)/theta\n",
    "        for j in range(len(d)):\n",
    "            if d[j] >= 0 and d[j] <= 1:\n",
    "                phi_s2[j,i + K] = (1-d[j])**6 * (35 * d[j]**2 + 18 * d[j] + 3)/3\n",
    "            else:\n",
    "                phi_s2[j,i + K] = 0\n",
    "    K = K + num_basis[res]"
   ]
  },
  {
   "cell_type": "markdown",
   "metadata": {},
   "source": [
    "## Output"
   ]
  },
  {
   "cell_type": "markdown",
   "metadata": {},
   "source": [
    "### Monitors\n",
    "Check dimensions and stack (column bind)"
   ]
  },
  {
   "cell_type": "code",
   "execution_count": 50,
   "metadata": {},
   "outputs": [
    {
     "name": "stdout",
     "output_type": "stream",
     "text": [
      "(2665, 86)\n",
      "(2665, 227)\n"
     ]
    }
   ],
   "source": [
    "print(phi_t1.shape)\n",
    "print(phi_s1.shape)\n",
    "\n",
    "phi_1 = np.hstack((phi_t1,phi_s1))"
   ]
  },
  {
   "cell_type": "markdown",
   "metadata": {},
   "source": [
    "Remove any columns with all zeros (basis functions not linked to obs)"
   ]
  },
  {
   "cell_type": "code",
   "execution_count": 51,
   "metadata": {},
   "outputs": [
    {
     "name": "stdout",
     "output_type": "stream",
     "text": [
      "(2665, 313)\n",
      "(2665, 217)\n"
     ]
    }
   ],
   "source": [
    "idx_zero = np.array([], dtype=int)\n",
    "for i in range(phi_1.shape[1]):\n",
    "    if sum(phi_1[:,i]!=0)==0:\n",
    "        idx_zero = np.append(idx_zero,int(i))\n",
    "\n",
    "phi_1_reduce = np.delete(phi_1,idx_zero,1)\n",
    "print(phi_1.shape)\n",
    "print(phi_1_reduce.shape)"
   ]
  },
  {
   "cell_type": "code",
   "execution_count": 52,
   "metadata": {},
   "outputs": [
    {
     "data": {
      "text/plain": [
       "[<matplotlib.lines.Line2D at 0x17d3429e0>]"
      ]
     },
     "execution_count": 52,
     "metadata": {},
     "output_type": "execute_result"
    },
    {
     "data": {
      "image/png": "[encoded data removed]",
      "text/plain": [
       "<Figure size 640x480 with 1 Axes>"
      ]
     },
     "metadata": {},
     "output_type": "display_data"
    }
   ],
   "source": [
    "y = np.array(aq_df[\"sample.measurement\"])\n",
    "df_y = pd.DataFrame(y)\n",
    "plt.plot(y)"
   ]
  },
  {
   "cell_type": "code",
   "execution_count": 53,
   "metadata": {},
   "outputs": [],
   "source": [
    "df = pd.DataFrame(phi_1)\n",
    "df['y'] = df_y[0]\n",
    "df['site'] = aq_df['site.num'].to_numpy()\n",
    "df['date'] = aq_df['date'].to_numpy()\n",
    "df['normalized_time'] = aq_df['normalized_time'].to_numpy()\n",
    "df.to_csv(\"./rbfs/phi_1_full.csv\")\n",
    "df = pd.DataFrame(phi_1_reduce)\n",
    "df['y'] = df_y[0]\n",
    "df['site'] = aq_df['site.num'].to_numpy()\n",
    "df['date'] = aq_df['date'].to_numpy()\n",
    "df['normalized_time'] = aq_df['normalized_time'].to_numpy()\n",
    "df.to_csv(\"./rbfs/phi_1_reduce.csv\")"
   ]
  },
  {
   "cell_type": "markdown",
   "metadata": {},
   "source": [
    "### Mobile\n",
    "Check dimensions and stack (column bind)"
   ]
  },
  {
   "cell_type": "code",
   "execution_count": 54,
   "metadata": {},
   "outputs": [
    {
     "name": "stdout",
     "output_type": "stream",
     "text": [
      "(94272, 86)\n",
      "(94272, 227)\n"
     ]
    }
   ],
   "source": [
    "print(phi_t2.shape)\n",
    "print(phi_s2.shape)\n",
    "\n",
    "phi_2 = np.hstack((phi_t2,phi_s2))"
   ]
  },
  {
   "cell_type": "markdown",
   "metadata": {},
   "source": [
    "Remove any columns with all zeros (basis functions not linked to obs)"
   ]
  },
  {
   "cell_type": "code",
   "execution_count": 55,
   "metadata": {},
   "outputs": [
    {
     "name": "stdout",
     "output_type": "stream",
     "text": [
      "(94272, 313)\n",
      "(94272, 217)\n"
     ]
    }
   ],
   "source": [
    "#idx_zero = np.array([], dtype=int)\n",
    "#for i in range(phi_2.shape[1]):\n",
    "#    if sum(phi_2[:,i]!=0)==0:\n",
    "#        idx_zero = np.append(idx_zero,int(i))\n",
    "\n",
    "phi_2_reduce = np.delete(phi_2,idx_zero,1)\n",
    "print(phi_2.shape)\n",
    "print(phi_2_reduce.shape)"
   ]
  },
  {
   "cell_type": "code",
   "execution_count": 56,
   "metadata": {},
   "outputs": [
    {
     "data": {
      "text/plain": [
       "[<matplotlib.lines.Line2D at 0x17d377760>]"
      ]
     },
     "execution_count": 56,
     "metadata": {},
     "output_type": "execute_result"
    },
    {
     "data": {
      "image/png": "[encoded data removed]",
      "text/plain": [
       "<Figure size 640x480 with 1 Axes>"
      ]
     },
     "metadata": {},
     "output_type": "display_data"
    }
   ],
   "source": [
    "y = np.array(ebus2[\"val\"])\n",
    "df_y = pd.DataFrame(y)\n",
    "plt.plot(y)"
   ]
  },
  {
   "cell_type": "code",
   "execution_count": 57,
   "metadata": {},
   "outputs": [
    {
     "data": {
      "text/html": [
       "<div>\n",
       "<style scoped>\n",
       "    .dataframe tbody tr th:only-of-type {\n",
       "        vertical-align: middle;\n",
       "    }\n",
       "\n",
       "    .dataframe tbody tr th {\n",
       "        vertical-align: top;\n",
       "    }\n",
       "\n",
       "    .dataframe thead th {\n",
       "        text-align: right;\n",
       "    }\n",
       "</style>\n",
       "<table border=\"1\" class=\"dataframe\">\n",
       "  <thead>\n",
       "    <tr style=\"text-align: right;\">\n",
       "      <th></th>\n",
       "      <th>time</th>\n",
       "      <th>lon</th>\n",
       "      <th>lat</th>\n",
       "      <th>val</th>\n",
       "      <th>normalized_lon</th>\n",
       "      <th>normalized_lat</th>\n",
       "      <th>normalized_time</th>\n",
       "    </tr>\n",
       "  </thead>\n",
       "  <tbody>\n",
       "    <tr>\n",
       "      <th>0</th>\n",
       "      <td>2023-07-01 00:00:00</td>\n",
       "      <td>-111.977234</td>\n",
       "      <td>40.703491</td>\n",
       "      <td>0.0627</td>\n",
       "      <td>0.398841</td>\n",
       "      <td>0.571279</td>\n",
       "      <td>0.000000</td>\n",
       "    </tr>\n",
       "    <tr>\n",
       "      <th>1</th>\n",
       "      <td>2023-07-01 00:00:05</td>\n",
       "      <td>-111.977234</td>\n",
       "      <td>40.703499</td>\n",
       "      <td>0.0553</td>\n",
       "      <td>0.398841</td>\n",
       "      <td>0.571295</td>\n",
       "      <td>0.000004</td>\n",
       "    </tr>\n",
       "    <tr>\n",
       "      <th>2</th>\n",
       "      <td>2023-07-01 00:00:10</td>\n",
       "      <td>-111.977234</td>\n",
       "      <td>40.703499</td>\n",
       "      <td>0.0537</td>\n",
       "      <td>0.398841</td>\n",
       "      <td>0.571295</td>\n",
       "      <td>0.000008</td>\n",
       "    </tr>\n",
       "    <tr>\n",
       "      <th>3</th>\n",
       "      <td>2023-07-01 00:00:15</td>\n",
       "      <td>-111.977234</td>\n",
       "      <td>40.703499</td>\n",
       "      <td>0.0573</td>\n",
       "      <td>0.398841</td>\n",
       "      <td>0.571295</td>\n",
       "      <td>0.000012</td>\n",
       "    </tr>\n",
       "    <tr>\n",
       "      <th>4</th>\n",
       "      <td>2023-07-01 00:00:20</td>\n",
       "      <td>-111.977234</td>\n",
       "      <td>40.703499</td>\n",
       "      <td>0.0484</td>\n",
       "      <td>0.398841</td>\n",
       "      <td>0.571295</td>\n",
       "      <td>0.000017</td>\n",
       "    </tr>\n",
       "    <tr>\n",
       "      <th>...</th>\n",
       "      <td>...</td>\n",
       "      <td>...</td>\n",
       "      <td>...</td>\n",
       "      <td>...</td>\n",
       "      <td>...</td>\n",
       "      <td>...</td>\n",
       "      <td>...</td>\n",
       "    </tr>\n",
       "    <tr>\n",
       "      <th>94267</th>\n",
       "      <td>2023-07-14 22:59:40</td>\n",
       "      <td>-111.916893</td>\n",
       "      <td>40.733463</td>\n",
       "      <td>0.0454</td>\n",
       "      <td>0.485432</td>\n",
       "      <td>0.631527</td>\n",
       "      <td>0.999983</td>\n",
       "    </tr>\n",
       "    <tr>\n",
       "      <th>94268</th>\n",
       "      <td>2023-07-14 22:59:45</td>\n",
       "      <td>-111.916924</td>\n",
       "      <td>40.732914</td>\n",
       "      <td>0.0552</td>\n",
       "      <td>0.485387</td>\n",
       "      <td>0.630423</td>\n",
       "      <td>0.999988</td>\n",
       "    </tr>\n",
       "    <tr>\n",
       "      <th>94269</th>\n",
       "      <td>2023-07-14 22:59:50</td>\n",
       "      <td>-111.916946</td>\n",
       "      <td>40.732399</td>\n",
       "      <td>0.0507</td>\n",
       "      <td>0.485356</td>\n",
       "      <td>0.629388</td>\n",
       "      <td>0.999992</td>\n",
       "    </tr>\n",
       "    <tr>\n",
       "      <th>94270</th>\n",
       "      <td>2023-07-14 22:59:55</td>\n",
       "      <td>-111.916946</td>\n",
       "      <td>40.731895</td>\n",
       "      <td>0.0413</td>\n",
       "      <td>0.485356</td>\n",
       "      <td>0.628375</td>\n",
       "      <td>0.999996</td>\n",
       "    </tr>\n",
       "    <tr>\n",
       "      <th>94271</th>\n",
       "      <td>2023-07-14 23:00:00</td>\n",
       "      <td>-111.916939</td>\n",
       "      <td>40.731628</td>\n",
       "      <td>0.0461</td>\n",
       "      <td>0.485366</td>\n",
       "      <td>0.627838</td>\n",
       "      <td>1.000000</td>\n",
       "    </tr>\n",
       "  </tbody>\n",
       "</table>\n",
       "<p>94272 rows × 7 columns</p>\n",
       "</div>"
      ],
      "text/plain": [
       "                     time         lon        lat     val  normalized_lon  \\\n",
       "0     2023-07-01 00:00:00 -111.977234  40.703491  0.0627        0.398841   \n",
       "1     2023-07-01 00:00:05 -111.977234  40.703499  0.0553        0.398841   \n",
       "2     2023-07-01 00:00:10 -111.977234  40.703499  0.0537        0.398841   \n",
       "3     2023-07-01 00:00:15 -111.977234  40.703499  0.0573        0.398841   \n",
       "4     2023-07-01 00:00:20 -111.977234  40.703499  0.0484        0.398841   \n",
       "...                   ...         ...        ...     ...             ...   \n",
       "94267 2023-07-14 22:59:40 -111.916893  40.733463  0.0454        0.485432   \n",
       "94268 2023-07-14 22:59:45 -111.916924  40.732914  0.0552        0.485387   \n",
       "94269 2023-07-14 22:59:50 -111.916946  40.732399  0.0507        0.485356   \n",
       "94270 2023-07-14 22:59:55 -111.916946  40.731895  0.0413        0.485356   \n",
       "94271 2023-07-14 23:00:00 -111.916939  40.731628  0.0461        0.485366   \n",
       "\n",
       "       normalized_lat  normalized_time  \n",
       "0            0.571279         0.000000  \n",
       "1            0.571295         0.000004  \n",
       "2            0.571295         0.000008  \n",
       "3            0.571295         0.000012  \n",
       "4            0.571295         0.000017  \n",
       "...               ...              ...  \n",
       "94267        0.631527         0.999983  \n",
       "94268        0.630423         0.999988  \n",
       "94269        0.629388         0.999992  \n",
       "94270        0.628375         0.999996  \n",
       "94271        0.627838         1.000000  \n",
       "\n",
       "[94272 rows x 7 columns]"
      ]
     },
     "execution_count": 57,
     "metadata": {},
     "output_type": "execute_result"
    }
   ],
   "source": [
    "ebus2"
   ]
  },
  {
   "cell_type": "code",
   "execution_count": 58,
   "metadata": {},
   "outputs": [],
   "source": [
    "df = pd.DataFrame(phi_2)\n",
    "df['y'] = df_y[0]\n",
    "df['date'] = ebus2['time'].to_numpy()\n",
    "df['normalized_time'] = ebus2['normalized_time'].to_numpy()\n",
    "df.to_csv(\"./rbfs/phi_2_full.csv\")\n",
    "df = pd.DataFrame(phi_2_reduce)\n",
    "df['y'] = df_y[0]\n",
    "df['date'] = ebus2['time'].to_numpy()\n",
    "df['normalized_time'] = ebus2['normalized_time'].to_numpy()\n",
    "df.to_csv(\"./rbfs/phi_2_reduce.csv\")"
   ]
  }
 ],
 "metadata": {
  "kernelspec": {
   "display_name": "Python 3",
   "language": "python",
   "name": "python3"
  },
  "language_info": {
   "codemirror_mode": {
    "name": "ipython",
    "version": 3
   },
   "file_extension": ".py",
   "mimetype": "text/x-python",
   "name": "python",
   "nbconvert_exporter": "python",
   "pygments_lexer": "ipython3",
   "version": "3.10.13"
  }
 },
 "nbformat": 4,
 "nbformat_minor": 2
}
