{
 "cells": [
  {
   "cell_type": "markdown",
   "metadata": {},
   "source": [
    "# Basis function construction\n",
    "\n"
   ]
  },
  {
   "cell_type": "markdown",
   "metadata": {},
   "source": [
    "This now creates basis functions for both the observations and for a week(?) of mobile data"
   ]
  },
  {
   "cell_type": "code",
   "execution_count": 1,
   "metadata": {},
   "outputs": [],
   "source": [
    "import pandas as pd\n",
    "import numpy as np\n",
    "import matplotlib.pyplot as plt\n",
    "import geopandas\n",
    "import datetime"
   ]
  },
  {
   "cell_type": "markdown",
   "metadata": {},
   "source": [
    "### Load grid \n",
    "\n",
    "(we'll need to filter this down)"
   ]
  },
  {
   "cell_type": "code",
   "execution_count": 6,
   "metadata": {},
   "outputs": [],
   "source": [
    "grid_gdf = geopandas.read_file(\"./data/coarse_grid_pts/grid_pts_coarse.shp\")"
   ]
  },
  {
   "cell_type": "code",
   "execution_count": 7,
   "metadata": {},
   "outputs": [
    {
     "data": {
      "text/plain": [
       "<Axes: >"
      ]
     },
     "execution_count": 7,
     "metadata": {},
     "output_type": "execute_result"
    },
    {
     "data": {
      "image/png": "[encoded data removed]",
      "text/plain": [
       "<Figure size 640x480 with 1 Axes>"
      ]
     },
     "metadata": {},
     "output_type": "display_data"
    }
   ],
   "source": [
    "grid_gdf.plot()"
   ]
  },
  {
   "cell_type": "code",
   "execution_count": 11,
   "metadata": {},
   "outputs": [
    {
     "name": "stdout",
     "output_type": "stream",
     "text": [
      "-112.25516635714284 -111.55831564285714 40.419293290000006 40.916769710000004\n"
     ]
    }
   ],
   "source": [
    "min_x = grid_crds.x.min()\n",
    "max_x = grid_crds.x.max()\n",
    "min_y = grid_crds.y.min()\n",
    "max_y = grid_crds.y.max()\n",
    "print(min_x, max_x, min_y, max_y)\n"
   ]
  },
  {
   "cell_type": "markdown",
   "metadata": {},
   "source": [
    "### Load monitor data"
   ]
  },
  {
   "cell_type": "code",
   "execution_count": 2,
   "metadata": {},
   "outputs": [
    {
     "data": {
      "text/html": [
       "<div>\n",
       "<style scoped>\n",
       "    .dataframe tbody tr th:only-of-type {\n",
       "        vertical-align: middle;\n",
       "    }\n",
       "\n",
       "    .dataframe tbody tr th {\n",
       "        vertical-align: top;\n",
       "    }\n",
       "\n",
       "    .dataframe thead th {\n",
       "        text-align: right;\n",
       "    }\n",
       "</style>\n",
       "<table border=\"1\" class=\"dataframe\">\n",
       "  <thead>\n",
       "    <tr style=\"text-align: right;\">\n",
       "      <th></th>\n",
       "      <th>site.num</th>\n",
       "      <th>latitude</th>\n",
       "      <th>longitude</th>\n",
       "      <th>parameter.name</th>\n",
       "      <th>day_time</th>\n",
       "      <th>date</th>\n",
       "      <th>hour</th>\n",
       "      <th>sample.measurement</th>\n",
       "    </tr>\n",
       "  </thead>\n",
       "  <tbody>\n",
       "    <tr>\n",
       "      <th>0</th>\n",
       "      <td>2005</td>\n",
       "      <td>40.598056</td>\n",
       "      <td>-111.894167</td>\n",
       "      <td>Ozone</td>\n",
       "      <td>2023-01-01T00:00:00Z</td>\n",
       "      <td>2023-01-01</td>\n",
       "      <td>0S</td>\n",
       "      <td>0.014</td>\n",
       "    </tr>\n",
       "    <tr>\n",
       "      <th>1</th>\n",
       "      <td>2005</td>\n",
       "      <td>40.598056</td>\n",
       "      <td>-111.894167</td>\n",
       "      <td>Ozone</td>\n",
       "      <td>2023-01-01T01:00:00Z</td>\n",
       "      <td>2023-01-01</td>\n",
       "      <td>1H 0M 0S</td>\n",
       "      <td>0.007</td>\n",
       "    </tr>\n",
       "    <tr>\n",
       "      <th>2</th>\n",
       "      <td>2005</td>\n",
       "      <td>40.598056</td>\n",
       "      <td>-111.894167</td>\n",
       "      <td>Ozone</td>\n",
       "      <td>2023-01-01T02:00:00Z</td>\n",
       "      <td>2023-01-01</td>\n",
       "      <td>2H 0M 0S</td>\n",
       "      <td>0.002</td>\n",
       "    </tr>\n",
       "    <tr>\n",
       "      <th>3</th>\n",
       "      <td>2005</td>\n",
       "      <td>40.598056</td>\n",
       "      <td>-111.894167</td>\n",
       "      <td>Ozone</td>\n",
       "      <td>2023-01-01T03:00:00Z</td>\n",
       "      <td>2023-01-01</td>\n",
       "      <td>3H 0M 0S</td>\n",
       "      <td>0.009</td>\n",
       "    </tr>\n",
       "    <tr>\n",
       "      <th>4</th>\n",
       "      <td>2005</td>\n",
       "      <td>40.598056</td>\n",
       "      <td>-111.894167</td>\n",
       "      <td>Ozone</td>\n",
       "      <td>2023-01-01T04:00:00Z</td>\n",
       "      <td>2023-01-01</td>\n",
       "      <td>4H 0M 0S</td>\n",
       "      <td>0.011</td>\n",
       "    </tr>\n",
       "  </tbody>\n",
       "</table>\n",
       "</div>"
      ],
      "text/plain": [
       "   site.num   latitude   longitude parameter.name              day_time  \\\n",
       "0      2005  40.598056 -111.894167          Ozone  2023-01-01T00:00:00Z   \n",
       "1      2005  40.598056 -111.894167          Ozone  2023-01-01T01:00:00Z   \n",
       "2      2005  40.598056 -111.894167          Ozone  2023-01-01T02:00:00Z   \n",
       "3      2005  40.598056 -111.894167          Ozone  2023-01-01T03:00:00Z   \n",
       "4      2005  40.598056 -111.894167          Ozone  2023-01-01T04:00:00Z   \n",
       "\n",
       "         date      hour  sample.measurement  \n",
       "0  2023-01-01        0S               0.014  \n",
       "1  2023-01-01  1H 0M 0S               0.007  \n",
       "2  2023-01-01  2H 0M 0S               0.002  \n",
       "3  2023-01-01  3H 0M 0S               0.009  \n",
       "4  2023-01-01  4H 0M 0S               0.011  "
      ]
     },
     "execution_count": 2,
     "metadata": {},
     "output_type": "execute_result"
    }
   ],
   "source": [
    "aq_df = pd.read_csv(\"./data/aqs_data.csv\")\n",
    "aq_df.head()"
   ]
  },
  {
   "cell_type": "code",
   "execution_count": 3,
   "metadata": {},
   "outputs": [],
   "source": [
    "# aq_df = aq_df[(aq_df.day_time >= \"2023-01-08\") & (aq_df.day_time <= \"2023-01-14\")]\n",
    "aq_df = aq_df[aq_df.day_time <= \"2023-01-14\"]"
   ]
  },
  {
   "cell_type": "code",
   "execution_count": 4,
   "metadata": {},
   "outputs": [
    {
     "data": {
      "text/plain": [
       "(2480, 8)"
      ]
     },
     "execution_count": 4,
     "metadata": {},
     "output_type": "execute_result"
    }
   ],
   "source": [
    "aq_df.shape"
   ]
  },
  {
   "cell_type": "code",
   "execution_count": 5,
   "metadata": {},
   "outputs": [
    {
     "data": {
      "text/plain": [
       "[<matplotlib.lines.Line2D at 0x154b506a0>]"
      ]
     },
     "execution_count": 5,
     "metadata": {},
     "output_type": "execute_result"
    },
    {
     "data": {
      "image/png": "[encoded data removed]",
      "text/plain": [
       "<Figure size 640x480 with 1 Axes>"
      ]
     },
     "metadata": {},
     "output_type": "display_data"
    }
   ],
   "source": [
    "plt.plot(aq_df['longitude'], aq_df['latitude'], 'bo')"
   ]
  },
  {
   "cell_type": "code",
   "execution_count": 12,
   "metadata": {},
   "outputs": [
    {
     "name": "stdout",
     "output_type": "stream",
     "text": [
      "1144\n"
     ]
    }
   ],
   "source": [
    "lon = aq_df.values[:,2].astype('float64')\n",
    "lat = aq_df.values[:,1].astype('float64')\n",
    "normalized_lon = (lon-min_x)/(max_x - min_x)\n",
    "normalized_lat = (lat-min_y)/(max_y-min_y)\n",
    "N = lon.shape[0]\n",
    "print(N)"
   ]
  },
  {
   "cell_type": "markdown",
   "metadata": {},
   "source": [
    "Load ebus data"
   ]
  },
  {
   "cell_type": "code",
   "execution_count": 9,
   "metadata": {},
   "outputs": [],
   "source": [
    "ebus = pd.read_csv(\"./data/EBUS_TEST_DATA/BUS04_2023_06.csv\", header = [0,1],  \n",
    "                 na_values = -9999.00)"
   ]
  },
  {
   "cell_type": "code",
   "execution_count": 27,
   "metadata": {},
   "outputs": [
    {
     "data": {
      "text/plain": [
       "(151537, 27)"
      ]
     },
     "execution_count": 27,
     "metadata": {},
     "output_type": "execute_result"
    }
   ],
   "source": [
    "ebus.shape"
   ]
  },
  {
   "cell_type": "code",
   "execution_count": 21,
   "metadata": {},
   "outputs": [
    {
     "data": {
      "text/html": [
       "<div>\n",
       "<style scoped>\n",
       "    .dataframe tbody tr th:only-of-type {\n",
       "        vertical-align: middle;\n",
       "    }\n",
       "\n",
       "    .dataframe tbody tr th {\n",
       "        vertical-align: top;\n",
       "    }\n",
       "\n",
       "    .dataframe thead tr th {\n",
       "        text-align: left;\n",
       "    }\n",
       "</style>\n",
       "<table border=\"1\" class=\"dataframe\">\n",
       "  <thead>\n",
       "    <tr>\n",
       "      <th></th>\n",
       "      <th>Timestamp</th>\n",
       "      <th>Latitude</th>\n",
       "      <th>Longitude</th>\n",
       "      <th>Elevation</th>\n",
       "      <th>GPS_Speed</th>\n",
       "      <th>GPS_Direction</th>\n",
       "      <th>GPS_RMC_Valid</th>\n",
       "      <th>Battery_Voltage</th>\n",
       "      <th>Bus_Box_Temperature</th>\n",
       "      <th>Bus_Top_Temperature</th>\n",
       "      <th>...</th>\n",
       "      <th>ES405_Internal_Relative_Humidity</th>\n",
       "      <th>ES405_Internal_Air_Pressure</th>\n",
       "      <th>ES405_Error_Code</th>\n",
       "      <th>2B_Ozone_Concentration</th>\n",
       "      <th>2B_Air_Flow_Rate</th>\n",
       "      <th>2B_Internal_Air_Temperature</th>\n",
       "      <th>2B_Internal_Air_Pressure</th>\n",
       "      <th>PM2.5_Data_Flagged</th>\n",
       "      <th>Ozone_Data_Flagged</th>\n",
       "      <th>GPS_Data_Flagged</th>\n",
       "    </tr>\n",
       "    <tr>\n",
       "      <th></th>\n",
       "      <th>UTC</th>\n",
       "      <th>ddeg</th>\n",
       "      <th>ddeg</th>\n",
       "      <th>m</th>\n",
       "      <th>m/s</th>\n",
       "      <th>deg</th>\n",
       "      <th>binary</th>\n",
       "      <th>volts</th>\n",
       "      <th>degC</th>\n",
       "      <th>degC</th>\n",
       "      <th>...</th>\n",
       "      <th>%</th>\n",
       "      <th>hpa</th>\n",
       "      <th>code</th>\n",
       "      <th>ppbv</th>\n",
       "      <th>L/min</th>\n",
       "      <th>degC</th>\n",
       "      <th>hpa</th>\n",
       "      <th>binary</th>\n",
       "      <th>binary</th>\n",
       "      <th>binary</th>\n",
       "    </tr>\n",
       "  </thead>\n",
       "  <tbody>\n",
       "    <tr>\n",
       "      <th>0</th>\n",
       "      <td>2023-06-01T00:00:00</td>\n",
       "      <td>40.767262</td>\n",
       "      <td>-111.865799</td>\n",
       "      <td>1348.7</td>\n",
       "      <td>0.0</td>\n",
       "      <td>275.8</td>\n",
       "      <td>1.0</td>\n",
       "      <td>13.39</td>\n",
       "      <td>25.76</td>\n",
       "      <td>24.68</td>\n",
       "      <td>...</td>\n",
       "      <td>21.1</td>\n",
       "      <td>643.9</td>\n",
       "      <td>0.0</td>\n",
       "      <td>51.5</td>\n",
       "      <td>2.14</td>\n",
       "      <td>37.0</td>\n",
       "      <td>826.4</td>\n",
       "      <td>0</td>\n",
       "      <td>0</td>\n",
       "      <td>0</td>\n",
       "    </tr>\n",
       "    <tr>\n",
       "      <th>1</th>\n",
       "      <td>2023-06-01T00:00:05</td>\n",
       "      <td>40.767262</td>\n",
       "      <td>-111.865799</td>\n",
       "      <td>1348.7</td>\n",
       "      <td>0.0</td>\n",
       "      <td>275.8</td>\n",
       "      <td>1.0</td>\n",
       "      <td>13.38</td>\n",
       "      <td>25.76</td>\n",
       "      <td>24.68</td>\n",
       "      <td>...</td>\n",
       "      <td>NaN</td>\n",
       "      <td>NaN</td>\n",
       "      <td>NaN</td>\n",
       "      <td>44.2</td>\n",
       "      <td>2.13</td>\n",
       "      <td>37.0</td>\n",
       "      <td>826.7</td>\n",
       "      <td>0</td>\n",
       "      <td>0</td>\n",
       "      <td>0</td>\n",
       "    </tr>\n",
       "    <tr>\n",
       "      <th>2</th>\n",
       "      <td>2023-06-01T00:00:10</td>\n",
       "      <td>40.767262</td>\n",
       "      <td>-111.865799</td>\n",
       "      <td>1348.7</td>\n",
       "      <td>0.0</td>\n",
       "      <td>275.8</td>\n",
       "      <td>1.0</td>\n",
       "      <td>13.39</td>\n",
       "      <td>25.76</td>\n",
       "      <td>24.68</td>\n",
       "      <td>...</td>\n",
       "      <td>NaN</td>\n",
       "      <td>NaN</td>\n",
       "      <td>NaN</td>\n",
       "      <td>49.4</td>\n",
       "      <td>2.14</td>\n",
       "      <td>37.0</td>\n",
       "      <td>826.8</td>\n",
       "      <td>0</td>\n",
       "      <td>0</td>\n",
       "      <td>0</td>\n",
       "    </tr>\n",
       "    <tr>\n",
       "      <th>3</th>\n",
       "      <td>2023-06-01T00:00:15</td>\n",
       "      <td>40.767262</td>\n",
       "      <td>-111.865799</td>\n",
       "      <td>1348.7</td>\n",
       "      <td>0.0</td>\n",
       "      <td>275.8</td>\n",
       "      <td>1.0</td>\n",
       "      <td>13.38</td>\n",
       "      <td>25.76</td>\n",
       "      <td>24.70</td>\n",
       "      <td>...</td>\n",
       "      <td>NaN</td>\n",
       "      <td>NaN</td>\n",
       "      <td>NaN</td>\n",
       "      <td>49.4</td>\n",
       "      <td>2.15</td>\n",
       "      <td>37.0</td>\n",
       "      <td>826.5</td>\n",
       "      <td>0</td>\n",
       "      <td>0</td>\n",
       "      <td>0</td>\n",
       "    </tr>\n",
       "    <tr>\n",
       "      <th>4</th>\n",
       "      <td>2023-06-01T00:00:20</td>\n",
       "      <td>40.767262</td>\n",
       "      <td>-111.865799</td>\n",
       "      <td>1348.7</td>\n",
       "      <td>0.0</td>\n",
       "      <td>275.8</td>\n",
       "      <td>1.0</td>\n",
       "      <td>13.39</td>\n",
       "      <td>25.76</td>\n",
       "      <td>24.70</td>\n",
       "      <td>...</td>\n",
       "      <td>NaN</td>\n",
       "      <td>NaN</td>\n",
       "      <td>NaN</td>\n",
       "      <td>46.0</td>\n",
       "      <td>2.14</td>\n",
       "      <td>37.0</td>\n",
       "      <td>826.4</td>\n",
       "      <td>0</td>\n",
       "      <td>0</td>\n",
       "      <td>0</td>\n",
       "    </tr>\n",
       "  </tbody>\n",
       "</table>\n",
       "<p>5 rows × 27 columns</p>\n",
       "</div>"
      ],
      "text/plain": [
       "             Timestamp   Latitude   Longitude Elevation GPS_Speed  \\\n",
       "                   UTC       ddeg        ddeg         m       m/s   \n",
       "0  2023-06-01T00:00:00  40.767262 -111.865799    1348.7       0.0   \n",
       "1  2023-06-01T00:00:05  40.767262 -111.865799    1348.7       0.0   \n",
       "2  2023-06-01T00:00:10  40.767262 -111.865799    1348.7       0.0   \n",
       "3  2023-06-01T00:00:15  40.767262 -111.865799    1348.7       0.0   \n",
       "4  2023-06-01T00:00:20  40.767262 -111.865799    1348.7       0.0   \n",
       "\n",
       "  GPS_Direction GPS_RMC_Valid Battery_Voltage Bus_Box_Temperature  \\\n",
       "            deg        binary           volts                degC   \n",
       "0         275.8           1.0           13.39               25.76   \n",
       "1         275.8           1.0           13.38               25.76   \n",
       "2         275.8           1.0           13.39               25.76   \n",
       "3         275.8           1.0           13.38               25.76   \n",
       "4         275.8           1.0           13.39               25.76   \n",
       "\n",
       "  Bus_Top_Temperature  ... ES405_Internal_Relative_Humidity  \\\n",
       "                 degC  ...                                %   \n",
       "0               24.68  ...                             21.1   \n",
       "1               24.68  ...                              NaN   \n",
       "2               24.68  ...                              NaN   \n",
       "3               24.70  ...                              NaN   \n",
       "4               24.70  ...                              NaN   \n",
       "\n",
       "  ES405_Internal_Air_Pressure ES405_Error_Code 2B_Ozone_Concentration  \\\n",
       "                          hpa             code                   ppbv   \n",
       "0                       643.9              0.0                   51.5   \n",
       "1                         NaN              NaN                   44.2   \n",
       "2                         NaN              NaN                   49.4   \n",
       "3                         NaN              NaN                   49.4   \n",
       "4                         NaN              NaN                   46.0   \n",
       "\n",
       "  2B_Air_Flow_Rate 2B_Internal_Air_Temperature 2B_Internal_Air_Pressure  \\\n",
       "             L/min                        degC                      hpa   \n",
       "0             2.14                        37.0                    826.4   \n",
       "1             2.13                        37.0                    826.7   \n",
       "2             2.14                        37.0                    826.8   \n",
       "3             2.15                        37.0                    826.5   \n",
       "4             2.14                        37.0                    826.4   \n",
       "\n",
       "  PM2.5_Data_Flagged Ozone_Data_Flagged GPS_Data_Flagged  \n",
       "              binary             binary           binary  \n",
       "0                  0                  0                0  \n",
       "1                  0                  0                0  \n",
       "2                  0                  0                0  \n",
       "3                  0                  0                0  \n",
       "4                  0                  0                0  \n",
       "\n",
       "[5 rows x 27 columns]"
      ]
     },
     "execution_count": 21,
     "metadata": {},
     "output_type": "execute_result"
    }
   ],
   "source": [
    "ebus.head()"
   ]
  },
  {
   "cell_type": "code",
   "execution_count": 29,
   "metadata": {},
   "outputs": [],
   "source": [
    "ebus2 = pd.DataFrame({\n",
    "    'time': pd.to_datetime(ebus.iloc[:,0]),\n",
    "    'time': pd.to_datetime(ebus.iloc[:,0]),\n",
    "    'time': pd.to_datetime(ebus.iloc[:,0]),\n",
    "    'time': pd.to_datetime(ebus.iloc[:,0]),\n",
    "    })"
   ]
  },
  {
   "cell_type": "code",
   "execution_count": 30,
   "metadata": {},
   "outputs": [
    {
     "data": {
      "text/html": [
       "<div>\n",
       "<style scoped>\n",
       "    .dataframe tbody tr th:only-of-type {\n",
       "        vertical-align: middle;\n",
       "    }\n",
       "\n",
       "    .dataframe tbody tr th {\n",
       "        vertical-align: top;\n",
       "    }\n",
       "\n",
       "    .dataframe thead th {\n",
       "        text-align: right;\n",
       "    }\n",
       "</style>\n",
       "<table border=\"1\" class=\"dataframe\">\n",
       "  <thead>\n",
       "    <tr style=\"text-align: right;\">\n",
       "      <th></th>\n",
       "      <th>time</th>\n",
       "    </tr>\n",
       "  </thead>\n",
       "  <tbody>\n",
       "    <tr>\n",
       "      <th>0</th>\n",
       "      <td>2023-06-01 00:00:00</td>\n",
       "    </tr>\n",
       "    <tr>\n",
       "      <th>1</th>\n",
       "      <td>2023-06-01 00:00:05</td>\n",
       "    </tr>\n",
       "    <tr>\n",
       "      <th>2</th>\n",
       "      <td>2023-06-01 00:00:10</td>\n",
       "    </tr>\n",
       "    <tr>\n",
       "      <th>3</th>\n",
       "      <td>2023-06-01 00:00:15</td>\n",
       "    </tr>\n",
       "    <tr>\n",
       "      <th>4</th>\n",
       "      <td>2023-06-01 00:00:20</td>\n",
       "    </tr>\n",
       "    <tr>\n",
       "      <th>...</th>\n",
       "      <td>...</td>\n",
       "    </tr>\n",
       "    <tr>\n",
       "      <th>151532</th>\n",
       "      <td>2023-06-30 23:59:35</td>\n",
       "    </tr>\n",
       "    <tr>\n",
       "      <th>151533</th>\n",
       "      <td>2023-06-30 23:59:40</td>\n",
       "    </tr>\n",
       "    <tr>\n",
       "      <th>151534</th>\n",
       "      <td>2023-06-30 23:59:45</td>\n",
       "    </tr>\n",
       "    <tr>\n",
       "      <th>151535</th>\n",
       "      <td>2023-06-30 23:59:50</td>\n",
       "    </tr>\n",
       "    <tr>\n",
       "      <th>151536</th>\n",
       "      <td>2023-06-30 23:59:55</td>\n",
       "    </tr>\n",
       "  </tbody>\n",
       "</table>\n",
       "<p>151537 rows × 1 columns</p>\n",
       "</div>"
      ],
      "text/plain": [
       "                      time\n",
       "0      2023-06-01 00:00:00\n",
       "1      2023-06-01 00:00:05\n",
       "2      2023-06-01 00:00:10\n",
       "3      2023-06-01 00:00:15\n",
       "4      2023-06-01 00:00:20\n",
       "...                    ...\n",
       "151532 2023-06-30 23:59:35\n",
       "151533 2023-06-30 23:59:40\n",
       "151534 2023-06-30 23:59:45\n",
       "151535 2023-06-30 23:59:50\n",
       "151536 2023-06-30 23:59:55\n",
       "\n",
       "[151537 rows x 1 columns]"
      ]
     },
     "execution_count": 30,
     "metadata": {},
     "output_type": "execute_result"
    }
   ],
   "source": [
    "ebus2"
   ]
  },
  {
   "cell_type": "code",
   "execution_count": 22,
   "metadata": {},
   "outputs": [
    {
     "ename": "ValueError",
     "evalue": "to assemble mappings requires at least that [year, month, day] be specified: [day,month,year] is missing",
     "output_type": "error",
     "traceback": [
      "\u001b[0;31m---------------------------------------------------------------------------\u001b[0m",
      "\u001b[0;31mValueError\u001b[0m                                Traceback (most recent call last)",
      "Cell \u001b[0;32mIn[22], line 1\u001b[0m\n\u001b[0;32m----> 1\u001b[0m \u001b[43mpd\u001b[49m\u001b[38;5;241;43m.\u001b[39;49m\u001b[43mto_datetime\u001b[49m\u001b[43m(\u001b[49m\u001b[43mebus\u001b[49m\u001b[43m[\u001b[49m\u001b[38;5;124;43m'\u001b[39;49m\u001b[38;5;124;43mTimestamp\u001b[39;49m\u001b[38;5;124;43m'\u001b[39;49m\u001b[43m]\u001b[49m\u001b[43m,\u001b[49m\u001b[43m \u001b[49m\u001b[38;5;28;43mformat\u001b[39;49m\u001b[38;5;241;43m=\u001b[39;49m\u001b[38;5;124;43m'\u001b[39;49m\u001b[38;5;124;43m%\u001b[39;49m\u001b[38;5;124;43mY-\u001b[39;49m\u001b[38;5;124;43m%\u001b[39;49m\u001b[38;5;124;43mm-\u001b[39;49m\u001b[38;5;132;43;01m%d\u001b[39;49;00m\u001b[38;5;124;43mT\u001b[39;49m\u001b[38;5;124;43m%\u001b[39;49m\u001b[38;5;124;43mH:\u001b[39;49m\u001b[38;5;124;43m%\u001b[39;49m\u001b[38;5;124;43mM:\u001b[39;49m\u001b[38;5;124;43m%\u001b[39;49m\u001b[38;5;124;43mS\u001b[39;49m\u001b[38;5;124;43m'\u001b[39;49m\u001b[43m)\u001b[49m\n",
      "File \u001b[0;32m~/miniforge3/envs/dk/lib/python3.10/site-packages/pandas/core/tools/datetimes.py:1115\u001b[0m, in \u001b[0;36mto_datetime\u001b[0;34m(arg, errors, dayfirst, yearfirst, utc, format, exact, unit, infer_datetime_format, origin, cache)\u001b[0m\n\u001b[1;32m   1113\u001b[0m         result \u001b[38;5;241m=\u001b[39m arg\u001b[38;5;241m.\u001b[39m_constructor(values, index\u001b[38;5;241m=\u001b[39marg\u001b[38;5;241m.\u001b[39mindex, name\u001b[38;5;241m=\u001b[39marg\u001b[38;5;241m.\u001b[39mname)\n\u001b[1;32m   1114\u001b[0m \u001b[38;5;28;01melif\u001b[39;00m \u001b[38;5;28misinstance\u001b[39m(arg, (ABCDataFrame, abc\u001b[38;5;241m.\u001b[39mMutableMapping)):\n\u001b[0;32m-> 1115\u001b[0m     result \u001b[38;5;241m=\u001b[39m \u001b[43m_assemble_from_unit_mappings\u001b[49m\u001b[43m(\u001b[49m\u001b[43marg\u001b[49m\u001b[43m,\u001b[49m\u001b[43m \u001b[49m\u001b[43merrors\u001b[49m\u001b[43m,\u001b[49m\u001b[43m \u001b[49m\u001b[43mutc\u001b[49m\u001b[43m)\u001b[49m\n\u001b[1;32m   1116\u001b[0m \u001b[38;5;28;01melif\u001b[39;00m \u001b[38;5;28misinstance\u001b[39m(arg, Index):\n\u001b[1;32m   1117\u001b[0m     cache_array \u001b[38;5;241m=\u001b[39m _maybe_cache(arg, \u001b[38;5;28mformat\u001b[39m, cache, convert_listlike)\n",
      "File \u001b[0;32m~/miniforge3/envs/dk/lib/python3.10/site-packages/pandas/core/tools/datetimes.py:1231\u001b[0m, in \u001b[0;36m_assemble_from_unit_mappings\u001b[0;34m(arg, errors, utc)\u001b[0m\n\u001b[1;32m   1229\u001b[0m \u001b[38;5;28;01mif\u001b[39;00m \u001b[38;5;28mlen\u001b[39m(req):\n\u001b[1;32m   1230\u001b[0m     _required \u001b[38;5;241m=\u001b[39m \u001b[38;5;124m\"\u001b[39m\u001b[38;5;124m,\u001b[39m\u001b[38;5;124m\"\u001b[39m\u001b[38;5;241m.\u001b[39mjoin(req)\n\u001b[0;32m-> 1231\u001b[0m     \u001b[38;5;28;01mraise\u001b[39;00m \u001b[38;5;167;01mValueError\u001b[39;00m(\n\u001b[1;32m   1232\u001b[0m         \u001b[38;5;124m\"\u001b[39m\u001b[38;5;124mto assemble mappings requires at least that \u001b[39m\u001b[38;5;124m\"\u001b[39m\n\u001b[1;32m   1233\u001b[0m         \u001b[38;5;124mf\u001b[39m\u001b[38;5;124m\"\u001b[39m\u001b[38;5;124m[year, month, day] be specified: [\u001b[39m\u001b[38;5;132;01m{\u001b[39;00m_required\u001b[38;5;132;01m}\u001b[39;00m\u001b[38;5;124m] is missing\u001b[39m\u001b[38;5;124m\"\u001b[39m\n\u001b[1;32m   1234\u001b[0m     )\n\u001b[1;32m   1236\u001b[0m \u001b[38;5;66;03m# keys we don't recognize\u001b[39;00m\n\u001b[1;32m   1237\u001b[0m excess \u001b[38;5;241m=\u001b[39m \u001b[38;5;28msorted\u001b[39m(\u001b[38;5;28mset\u001b[39m(unit_rev\u001b[38;5;241m.\u001b[39mkeys()) \u001b[38;5;241m-\u001b[39m \u001b[38;5;28mset\u001b[39m(_unit_map\u001b[38;5;241m.\u001b[39mvalues()))\n",
      "\u001b[0;31mValueError\u001b[0m: to assemble mappings requires at least that [year, month, day] be specified: [day,month,year] is missing"
     ]
    }
   ],
   "source": [
    "pd.to_datetime(ebus['Timestamp'], format='%Y-%m-%dT%H:%M:%S')"
   ]
  },
  {
   "cell_type": "code",
   "execution_count": 10,
   "metadata": {},
   "outputs": [
    {
     "data": {
      "text/plain": [
       "[<matplotlib.lines.Line2D at 0x16c9b1ab0>]"
      ]
     },
     "execution_count": 10,
     "metadata": {},
     "output_type": "execute_result"
    },
    {
     "data": {
      "image/png": "[encoded data removed]",
      "text/plain": [
       "<Figure size 640x480 with 1 Axes>"
      ]
     },
     "metadata": {},
     "output_type": "display_data"
    }
   ],
   "source": [
    "plt.plot(ebus['2B_Ozone_Concentration'])"
   ]
  },
  {
   "cell_type": "markdown",
   "metadata": {},
   "source": [
    "### Time"
   ]
  },
  {
   "cell_type": "code",
   "execution_count": 13,
   "metadata": {},
   "outputs": [
    {
     "data": {
      "text/html": [
       "<div>\n",
       "<style scoped>\n",
       "    .dataframe tbody tr th:only-of-type {\n",
       "        vertical-align: middle;\n",
       "    }\n",
       "\n",
       "    .dataframe tbody tr th {\n",
       "        vertical-align: top;\n",
       "    }\n",
       "\n",
       "    .dataframe thead th {\n",
       "        text-align: right;\n",
       "    }\n",
       "</style>\n",
       "<table border=\"1\" class=\"dataframe\">\n",
       "  <thead>\n",
       "    <tr style=\"text-align: right;\">\n",
       "      <th></th>\n",
       "      <th>site.num</th>\n",
       "      <th>latitude</th>\n",
       "      <th>longitude</th>\n",
       "      <th>parameter.name</th>\n",
       "      <th>day_time</th>\n",
       "      <th>date</th>\n",
       "      <th>hour</th>\n",
       "      <th>sample.measurement</th>\n",
       "    </tr>\n",
       "  </thead>\n",
       "  <tbody>\n",
       "    <tr>\n",
       "      <th>167</th>\n",
       "      <td>2005</td>\n",
       "      <td>40.598056</td>\n",
       "      <td>-111.894167</td>\n",
       "      <td>Ozone</td>\n",
       "      <td>2023-01-08T00:00:00Z</td>\n",
       "      <td>2023-01-08</td>\n",
       "      <td>0S</td>\n",
       "      <td>0.031</td>\n",
       "    </tr>\n",
       "    <tr>\n",
       "      <th>168</th>\n",
       "      <td>2005</td>\n",
       "      <td>40.598056</td>\n",
       "      <td>-111.894167</td>\n",
       "      <td>Ozone</td>\n",
       "      <td>2023-01-08T01:00:00Z</td>\n",
       "      <td>2023-01-08</td>\n",
       "      <td>1H 0M 0S</td>\n",
       "      <td>0.032</td>\n",
       "    </tr>\n",
       "    <tr>\n",
       "      <th>169</th>\n",
       "      <td>2005</td>\n",
       "      <td>40.598056</td>\n",
       "      <td>-111.894167</td>\n",
       "      <td>Ozone</td>\n",
       "      <td>2023-01-08T02:00:00Z</td>\n",
       "      <td>2023-01-08</td>\n",
       "      <td>2H 0M 0S</td>\n",
       "      <td>0.030</td>\n",
       "    </tr>\n",
       "    <tr>\n",
       "      <th>170</th>\n",
       "      <td>2005</td>\n",
       "      <td>40.598056</td>\n",
       "      <td>-111.894167</td>\n",
       "      <td>Ozone</td>\n",
       "      <td>2023-01-08T03:00:00Z</td>\n",
       "      <td>2023-01-08</td>\n",
       "      <td>3H 0M 0S</td>\n",
       "      <td>0.031</td>\n",
       "    </tr>\n",
       "    <tr>\n",
       "      <th>171</th>\n",
       "      <td>2005</td>\n",
       "      <td>40.598056</td>\n",
       "      <td>-111.894167</td>\n",
       "      <td>Ozone</td>\n",
       "      <td>2023-01-08T04:00:00Z</td>\n",
       "      <td>2023-01-08</td>\n",
       "      <td>4H 0M 0S</td>\n",
       "      <td>0.031</td>\n",
       "    </tr>\n",
       "  </tbody>\n",
       "</table>\n",
       "</div>"
      ],
      "text/plain": [
       "     site.num   latitude   longitude parameter.name              day_time  \\\n",
       "167      2005  40.598056 -111.894167          Ozone  2023-01-08T00:00:00Z   \n",
       "168      2005  40.598056 -111.894167          Ozone  2023-01-08T01:00:00Z   \n",
       "169      2005  40.598056 -111.894167          Ozone  2023-01-08T02:00:00Z   \n",
       "170      2005  40.598056 -111.894167          Ozone  2023-01-08T03:00:00Z   \n",
       "171      2005  40.598056 -111.894167          Ozone  2023-01-08T04:00:00Z   \n",
       "\n",
       "           date      hour  sample.measurement  \n",
       "167  2023-01-08        0S               0.031  \n",
       "168  2023-01-08  1H 0M 0S               0.032  \n",
       "169  2023-01-08  2H 0M 0S               0.030  \n",
       "170  2023-01-08  3H 0M 0S               0.031  \n",
       "171  2023-01-08  4H 0M 0S               0.031  "
      ]
     },
     "execution_count": 13,
     "metadata": {},
     "output_type": "execute_result"
    }
   ],
   "source": [
    "aq_df.head()"
   ]
  },
  {
   "cell_type": "code",
   "execution_count": 14,
   "metadata": {},
   "outputs": [
    {
     "name": "stdout",
     "output_type": "stream",
     "text": [
      "167   2023-01-08 00:00:00+00:00\n",
      "168   2023-01-08 01:00:00+00:00\n",
      "169   2023-01-08 02:00:00+00:00\n",
      "170   2023-01-08 03:00:00+00:00\n",
      "171   2023-01-08 04:00:00+00:00\n",
      "172   2023-01-08 05:00:00+00:00\n",
      "173   2023-01-08 06:00:00+00:00\n",
      "174   2023-01-08 07:00:00+00:00\n",
      "175   2023-01-08 08:00:00+00:00\n",
      "176   2023-01-08 09:00:00+00:00\n",
      "Name: day_time, dtype: datetime64[ns, UTC]\n",
      "datetime64[ns, UTC]\n"
     ]
    }
   ],
   "source": [
    "day_time = aq_df['day_time']\n",
    "day_time = pd.to_datetime(day_time)\n",
    "# add the timezone:\n",
    "\n",
    "print(day_time[0:10])\n",
    "print(day_time.dtype)"
   ]
  },
  {
   "cell_type": "code",
   "execution_count": 15,
   "metadata": {},
   "outputs": [],
   "source": [
    "day_time = day_time.astype('int64') / 1e9 ## Time in nanoseconds"
   ]
  },
  {
   "cell_type": "code",
   "execution_count": 16,
   "metadata": {},
   "outputs": [
    {
     "name": "stdout",
     "output_type": "stream",
     "text": [
      "1673136000.0 1673650800.0\n"
     ]
    }
   ],
   "source": [
    "min_t = day_time.min()\n",
    "max_t = day_time.max()\n",
    "print(min_t, max_t)"
   ]
  },
  {
   "cell_type": "code",
   "execution_count": 17,
   "metadata": {},
   "outputs": [
    {
     "data": {
      "text/plain": [
       "167      0.000000\n",
       "168      0.006993\n",
       "169      0.013986\n",
       "170      0.020979\n",
       "171      0.027972\n",
       "           ...   \n",
       "45645    0.972028\n",
       "45646    0.979021\n",
       "45647    0.986014\n",
       "45648    0.993007\n",
       "45649    1.000000\n",
       "Name: day_time2, Length: 1144, dtype: float64"
      ]
     },
     "execution_count": 17,
     "metadata": {},
     "output_type": "execute_result"
    }
   ],
   "source": [
    "aq_df['day_time2'] = (day_time - min_t) / (max_t-min_t)\n",
    "aq_df['day_time2']"
   ]
  },
  {
   "cell_type": "markdown",
   "metadata": {},
   "source": [
    "## Basis functions"
   ]
  },
  {
   "cell_type": "markdown",
   "metadata": {},
   "source": [
    "### Time"
   ]
  },
  {
   "cell_type": "code",
   "execution_count": 18,
   "metadata": {},
   "outputs": [
    {
     "name": "stdout",
     "output_type": "stream",
     "text": [
      "(1144, 1)\n",
      "1144\n"
     ]
    }
   ],
   "source": [
    "s = np.array(aq_df['day_time2']).reshape(len(aq_df),1)\n",
    "print(s.shape)\n",
    "N_data = len(aq_df)\n",
    "N = N_data ## We have a separate N for the training + test data set (no testing at present)\n",
    "print(N)"
   ]
  },
  {
   "cell_type": "markdown",
   "metadata": {},
   "source": [
    "We need to define:\n",
    "- Number of basis layers (3)\n",
    "- Number of knots per layer\n",
    "- S.D. for Gaussian function\n",
    "\n",
    "Then make a ragged array holding the knots on the normalized scale.\n",
    "\n",
    "Note that one of the previous examples has a very high number of temporal knots (~800) which is very computationally expensive"
   ]
  },
  {
   "cell_type": "code",
   "execution_count": 19,
   "metadata": {},
   "outputs": [],
   "source": [
    "## time basis \n",
    "num_basis = [10,15,45]\n",
    "std_arr = [0.4,0.2,0.1]\n",
    "num_basis = [10,20,56]\n",
    "std_arr = [0.3,0.15,0.05]\n",
    "#num_basis = [70,250,410]\n",
    "#std_arr = [0.2,0.09,0.009]\n",
    "#std_arr = [0.3,0.15,0.05]\n",
    "\n",
    "mu_knots = [np.linspace(0,1,int(i)) for i in num_basis]"
   ]
  },
  {
   "cell_type": "code",
   "execution_count": 20,
   "metadata": {},
   "outputs": [
    {
     "data": {
      "text/plain": [
       "[array([0.        , 0.11111111, 0.22222222, 0.33333333, 0.44444444,\n",
       "        0.55555556, 0.66666667, 0.77777778, 0.88888889, 1.        ]),\n",
       " array([0.        , 0.05263158, 0.10526316, 0.15789474, 0.21052632,\n",
       "        0.26315789, 0.31578947, 0.36842105, 0.42105263, 0.47368421,\n",
       "        0.52631579, 0.57894737, 0.63157895, 0.68421053, 0.73684211,\n",
       "        0.78947368, 0.84210526, 0.89473684, 0.94736842, 1.        ]),\n",
       " array([0.        , 0.01818182, 0.03636364, 0.05454545, 0.07272727,\n",
       "        0.09090909, 0.10909091, 0.12727273, 0.14545455, 0.16363636,\n",
       "        0.18181818, 0.2       , 0.21818182, 0.23636364, 0.25454545,\n",
       "        0.27272727, 0.29090909, 0.30909091, 0.32727273, 0.34545455,\n",
       "        0.36363636, 0.38181818, 0.4       , 0.41818182, 0.43636364,\n",
       "        0.45454545, 0.47272727, 0.49090909, 0.50909091, 0.52727273,\n",
       "        0.54545455, 0.56363636, 0.58181818, 0.6       , 0.61818182,\n",
       "        0.63636364, 0.65454545, 0.67272727, 0.69090909, 0.70909091,\n",
       "        0.72727273, 0.74545455, 0.76363636, 0.78181818, 0.8       ,\n",
       "        0.81818182, 0.83636364, 0.85454545, 0.87272727, 0.89090909,\n",
       "        0.90909091, 0.92727273, 0.94545455, 0.96363636, 0.98181818,\n",
       "        1.        ])]"
      ]
     },
     "execution_count": 20,
     "metadata": {},
     "output_type": "execute_result"
    }
   ],
   "source": [
    "mu_knots"
   ]
  },
  {
   "cell_type": "markdown",
   "metadata": {},
   "source": [
    "Now create the basis functions. This does the following:\n",
    "- Loop over each basis layer\n",
    "- Loop by knot in the selected layer\n",
    "- Get distance from each observation (held in `s`) to the knot\n",
    "- Estimate Gaussian weight"
   ]
  },
  {
   "cell_type": "code",
   "execution_count": 21,
   "metadata": {},
   "outputs": [
    {
     "name": "stderr",
     "output_type": "stream",
     "text": [
      "/var/folders/ws/m03sh3xd4ns621mckfrht3r0000_08/T/ipykernel_84296/420065419.py:9: DeprecationWarning: Conversion of an array with ndim > 0 to a scalar is deprecated, and will error in future. Ensure you extract a single element from your array before performing this operation. (Deprecated NumPy 1.25.)\n",
      "  phi_t[j,i + K] = np.exp(-0.5 * d[j]/(std**2))\n"
     ]
    }
   ],
   "source": [
    "phi_t = np.zeros((N, sum(num_basis)))\n",
    "K = 0\n",
    "for res in range(len(num_basis)):\n",
    "    std = std_arr[res]\n",
    "    for i in range(num_basis[res]):\n",
    "        d = np.square(np.absolute(s-mu_knots[res][i]))\n",
    "        for j in range(len(d)):\n",
    "            if d[j] >= 0 and d[j] <= 1:\n",
    "                phi_t[j,i + K] = np.exp(-0.5 * d[j]/(std**2))\n",
    "            else:\n",
    "                phi_t[j,i + K] = 0\n",
    "    K = K + num_basis[res]"
   ]
  },
  {
   "cell_type": "markdown",
   "metadata": {},
   "source": [
    "Plot basis functions at location (time) 0"
   ]
  },
  {
   "cell_type": "code",
   "execution_count": 22,
   "metadata": {},
   "outputs": [
    {
     "data": {
      "image/png": "[encoded data removed]",
      "text/plain": [
       "<Figure size 640x480 with 1 Axes>"
      ]
     },
     "metadata": {},
     "output_type": "display_data"
    }
   ],
   "source": [
    "plt.plot(phi_t[0,:])\n",
    "#plt.plot(phi_t[25000,:])\n",
    "plt.show()"
   ]
  },
  {
   "cell_type": "markdown",
   "metadata": {},
   "source": [
    "Plot first basis function (over all time)"
   ]
  },
  {
   "cell_type": "code",
   "execution_count": 23,
   "metadata": {},
   "outputs": [
    {
     "data": {
      "text/plain": [
       "[<matplotlib.lines.Line2D at 0x179cabc10>]"
      ]
     },
     "execution_count": 23,
     "metadata": {},
     "output_type": "execute_result"
    },
    {
     "data": {
      "image/png": "[encoded data removed]",
      "text/plain": [
       "<Figure size 640x480 with 1 Axes>"
      ]
     },
     "metadata": {},
     "output_type": "display_data"
    }
   ],
   "source": [
    "plt.plot(phi_t[:,0])"
   ]
  },
  {
   "cell_type": "markdown",
   "metadata": {},
   "source": [
    "### Space"
   ]
  },
  {
   "cell_type": "code",
   "execution_count": 24,
   "metadata": {},
   "outputs": [],
   "source": [
    "s = np.vstack((normalized_lon,normalized_lat)).T"
   ]
  },
  {
   "cell_type": "code",
   "execution_count": 25,
   "metadata": {},
   "outputs": [],
   "source": [
    "## Knots for spatial dimension (from STDK example)\n",
    "num_basis = [5**2,9**2,11**2]\n",
    "knots_1d = [np.linspace(0,1,int(np.sqrt(i))) for i in num_basis]"
   ]
  },
  {
   "cell_type": "code",
   "execution_count": 26,
   "metadata": {},
   "outputs": [],
   "source": [
    "##Wendland kernel\n",
    "K = 0\n",
    "phi = np.zeros((N, sum(num_basis)))\n",
    "for res in range(len(num_basis)):\n",
    "    theta = 1/np.sqrt(num_basis[res])*2.5\n",
    "    knots_s1, knots_s2 = np.meshgrid(knots_1d[res],knots_1d[res])\n",
    "    knots = np.column_stack((knots_s1.flatten(),knots_s2.flatten()))\n",
    "    for i in range(num_basis[res]):\n",
    "        d = np.linalg.norm(s-knots[i,:],axis=1)/theta\n",
    "        for j in range(len(d)):\n",
    "            if d[j] >= 0 and d[j] <= 1:\n",
    "                phi[j,i + K] = (1-d[j])**6 * (35 * d[j]**2 + 18 * d[j] + 3)/3\n",
    "            else:\n",
    "                phi[j,i + K] = 0\n",
    "    K = K + num_basis[res]"
   ]
  },
  {
   "cell_type": "markdown",
   "metadata": {},
   "source": [
    "Basis function for first location"
   ]
  },
  {
   "cell_type": "code",
   "execution_count": 27,
   "metadata": {},
   "outputs": [
    {
     "data": {
      "text/plain": [
       "[<matplotlib.lines.Line2D at 0x179cd6950>]"
      ]
     },
     "execution_count": 27,
     "metadata": {},
     "output_type": "execute_result"
    },
    {
     "data": {
      "image/png": "[encoded data removed]",
      "text/plain": [
       "<Figure size 640x480 with 1 Axes>"
      ]
     },
     "metadata": {},
     "output_type": "display_data"
    }
   ],
   "source": [
    "plt.plot(phi[0,:])"
   ]
  },
  {
   "cell_type": "code",
   "execution_count": 28,
   "metadata": {},
   "outputs": [],
   "source": [
    "x = phi[0,0:25]\n",
    "x = x.reshape(5, 5)"
   ]
  },
  {
   "cell_type": "code",
   "execution_count": 29,
   "metadata": {},
   "outputs": [
    {
     "data": {
      "image/png": "[encoded data removed]",
      "text/plain": [
       "<Figure size 640x480 with 1 Axes>"
      ]
     },
     "metadata": {},
     "output_type": "display_data"
    }
   ],
   "source": [
    "plt.imshow(x, extent=[1, 0, 1, 0])\n",
    "plt.plot(normalized_lon[0], normalized_lat[0], 'bo')\n",
    "plt.show()"
   ]
  },
  {
   "cell_type": "code",
   "execution_count": 30,
   "metadata": {},
   "outputs": [
    {
     "data": {
      "text/plain": [
       "[25, 81, 121]"
      ]
     },
     "execution_count": 30,
     "metadata": {},
     "output_type": "execute_result"
    }
   ],
   "source": [
    "num_basis"
   ]
  },
  {
   "cell_type": "code",
   "execution_count": 31,
   "metadata": {},
   "outputs": [
    {
     "data": {
      "image/png": "[encoded data removed]",
      "text/plain": [
       "<Figure size 640x480 with 1 Axes>"
      ]
     },
     "metadata": {},
     "output_type": "display_data"
    }
   ],
   "source": [
    "x = phi[0,25:106]\n",
    "x = x.reshape(9, 9)\n",
    "plt.imshow(x, extent=[1, 0, 1, 0])\n",
    "plt.plot(normalized_lon[0], normalized_lat[0], 'bo')\n",
    "plt.show()\n"
   ]
  },
  {
   "cell_type": "code",
   "execution_count": 32,
   "metadata": {},
   "outputs": [
    {
     "data": {
      "image/png": "[encoded data removed]",
      "text/plain": [
       "<Figure size 640x480 with 1 Axes>"
      ]
     },
     "metadata": {},
     "output_type": "display_data"
    }
   ],
   "source": [
    "x = phi[0,106:227]\n",
    "x = x.reshape(11, 11)\n",
    "plt.imshow(x, extent=[1, 0, 1, 0])\n",
    "plt.plot(normalized_lon[0], normalized_lat[0], 'bo')\n",
    "plt.show()\n"
   ]
  },
  {
   "cell_type": "markdown",
   "metadata": {},
   "source": [
    "Check dimensions and stack (column bind)"
   ]
  },
  {
   "cell_type": "code",
   "execution_count": 33,
   "metadata": {},
   "outputs": [
    {
     "name": "stdout",
     "output_type": "stream",
     "text": [
      "(1144, 86)\n",
      "(1144, 227)\n"
     ]
    }
   ],
   "source": [
    "print(phi_t.shape)\n",
    "print(phi.shape)\n",
    "\n",
    "phi2 = np.hstack((phi_t,phi))"
   ]
  },
  {
   "cell_type": "markdown",
   "metadata": {},
   "source": [
    "Remove any columns with all zeros (basis functions not linked to obs)"
   ]
  },
  {
   "cell_type": "code",
   "execution_count": 34,
   "metadata": {},
   "outputs": [
    {
     "name": "stdout",
     "output_type": "stream",
     "text": [
      "(1144, 313)\n",
      "(1144, 217)\n"
     ]
    }
   ],
   "source": [
    "idx_zero = np.array([], dtype=int)\n",
    "for i in range(phi2.shape[1]):\n",
    "    if sum(phi2[:,i]!=0)==0:\n",
    "        idx_zero = np.append(idx_zero,int(i))\n",
    "\n",
    "phi_reduce = np.delete(phi2,idx_zero,1)\n",
    "print(phi2.shape)\n",
    "print(phi_reduce.shape)"
   ]
  },
  {
   "cell_type": "markdown",
   "metadata": {},
   "source": [
    "Write out"
   ]
  },
  {
   "cell_type": "code",
   "execution_count": 35,
   "metadata": {},
   "outputs": [],
   "source": [
    "np.save(\"./rbfs/phi_short_full.npy\", phi2)\n",
    "np.save(\"./rbfs/phi_short_reduce.npy\", phi_reduce)"
   ]
  },
  {
   "cell_type": "code",
   "execution_count": 36,
   "metadata": {},
   "outputs": [],
   "source": [
    "y = np.array(aq_df[\"sample.measurement\"])\n",
    "np.save(\"./rbfs/y_short.npy\", y)\n",
    "#y.min()"
   ]
  },
  {
   "cell_type": "code",
   "execution_count": 37,
   "metadata": {},
   "outputs": [
    {
     "data": {
      "text/plain": [
       "[<matplotlib.lines.Line2D at 0x179e35f00>]"
      ]
     },
     "execution_count": 37,
     "metadata": {},
     "output_type": "execute_result"
    },
    {
     "data": {
      "image/png": "[encoded data removed]",
      "text/plain": [
       "<Figure size 640x480 with 1 Axes>"
      ]
     },
     "metadata": {},
     "output_type": "display_data"
    }
   ],
   "source": [
    "plt.plot(y)"
   ]
  },
  {
   "cell_type": "code",
   "execution_count": 38,
   "metadata": {},
   "outputs": [],
   "source": [
    "df_y = pd.DataFrame(y)\n",
    "#df_y.to_csv(\"./rbfs/y.csv\")"
   ]
  },
  {
   "cell_type": "code",
   "execution_count": 39,
   "metadata": {},
   "outputs": [],
   "source": [
    "df = pd.DataFrame(phi2)\n",
    "df['y'] = df_y[0]\n",
    "df['site'] = aq_df['site.num'].to_numpy()\n",
    "df['date'] = aq_df['date'].to_numpy()\n",
    "df.to_csv(\"./rbfs/phi_short_full.csv\")\n",
    "df = pd.DataFrame(phi_reduce)\n",
    "df['y'] = df_y[0]\n",
    "df['site'] = aq_df['site.num'].to_numpy()\n",
    "df['date'] = aq_df['date'].to_numpy()\n",
    "df.to_csv(\"./rbfs/phi_short_reduce.csv\")"
   ]
  },
  {
   "cell_type": "code",
   "execution_count": 40,
   "metadata": {},
   "outputs": [
    {
     "data": {
      "text/plain": [
       "0       2005\n",
       "1       2005\n",
       "2       2005\n",
       "3       2005\n",
       "4       2005\n",
       "        ... \n",
       "1139    4002\n",
       "1140    4002\n",
       "1141    4002\n",
       "1142    4002\n",
       "1143    4002\n",
       "Name: site, Length: 1144, dtype: int64"
      ]
     },
     "execution_count": 40,
     "metadata": {},
     "output_type": "execute_result"
    }
   ],
   "source": [
    "df['site']"
   ]
  }
 ],
 "metadata": {
  "kernelspec": {
   "display_name": "Python 3",
   "language": "python",
   "name": "python3"
  },
  "language_info": {
   "codemirror_mode": {
    "name": "ipython",
    "version": 3
   },
   "file_extension": ".py",
   "mimetype": "text/x-python",
   "name": "python",
   "nbconvert_exporter": "python",
   "pygments_lexer": "ipython3",
   "version": "3.10.13"
  }
 },
 "nbformat": 4,
 "nbformat_minor": 2
}
