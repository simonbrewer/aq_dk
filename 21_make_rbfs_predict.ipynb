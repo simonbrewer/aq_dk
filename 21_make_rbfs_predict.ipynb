{
 "cells": [
  {
   "cell_type": "markdown",
   "metadata": {},
   "source": [
    "# Basis function construction\n",
    "\n"
   ]
  },
  {
   "cell_type": "markdown",
   "metadata": {},
   "source": [
    "This now creates basis functions for both the observations and for a week(?) of mobile data"
   ]
  },
  {
   "cell_type": "code",
   "execution_count": 38,
   "metadata": {},
   "outputs": [],
   "source": [
    "import pandas as pd\n",
    "import numpy as np\n",
    "import matplotlib.pyplot as plt\n",
    "import geopandas\n",
    "import datetime"
   ]
  },
  {
   "cell_type": "markdown",
   "metadata": {},
   "source": [
    "## Load grid \n",
    "\n",
    "(we'll need to filter this down)"
   ]
  },
  {
   "cell_type": "code",
   "execution_count": 39,
   "metadata": {},
   "outputs": [],
   "source": [
    "grid_gdf = geopandas.read_file(\"./data/coarse_grid_pts/grid_pts_coarse.shp\")"
   ]
  },
  {
   "cell_type": "code",
   "execution_count": 40,
   "metadata": {},
   "outputs": [
    {
     "data": {
      "text/plain": [
       "<Axes: >"
      ]
     },
     "execution_count": 40,
     "metadata": {},
     "output_type": "execute_result"
    },
    {
     "data": {
      "image/png": "[encoded data removed]",
      "text/plain": [
       "<Figure size 640x480 with 1 Axes>"
      ]
     },
     "metadata": {},
     "output_type": "display_data"
    }
   ],
   "source": [
    "grid_gdf.plot()"
   ]
  },
  {
   "cell_type": "code",
   "execution_count": 41,
   "metadata": {},
   "outputs": [
    {
     "name": "stdout",
     "output_type": "stream",
     "text": [
      "-112.25516635714284 -111.55831564285714 40.419293290000006 40.916769710000004\n"
     ]
    }
   ],
   "source": [
    "grid_crds = grid_gdf.get_coordinates()\n",
    "min_x = grid_crds.x.min()\n",
    "max_x = grid_crds.x.max()\n",
    "min_y = grid_crds.y.min()\n",
    "max_y = grid_crds.y.max()\n",
    "print(min_x, max_x, min_y, max_y)\n"
   ]
  },
  {
   "cell_type": "code",
   "execution_count": 42,
   "metadata": {},
   "outputs": [],
   "source": [
    "grid_crds['normalized_lon'] = (grid_crds['x']-min_x)/(max_x - min_x)\n",
    "grid_crds['normalized_lat'] = (grid_crds['y']-min_y)/(max_y-min_y)\n"
   ]
  },
  {
   "cell_type": "markdown",
   "metadata": {},
   "source": [
    "## Load monitor data"
   ]
  },
  {
   "cell_type": "code",
   "execution_count": 43,
   "metadata": {},
   "outputs": [
    {
     "data": {
      "text/html": [
       "<div>\n",
       "<style scoped>\n",
       "    .dataframe tbody tr th:only-of-type {\n",
       "        vertical-align: middle;\n",
       "    }\n",
       "\n",
       "    .dataframe tbody tr th {\n",
       "        vertical-align: top;\n",
       "    }\n",
       "\n",
       "    .dataframe thead th {\n",
       "        text-align: right;\n",
       "    }\n",
       "</style>\n",
       "<table border=\"1\" class=\"dataframe\">\n",
       "  <thead>\n",
       "    <tr style=\"text-align: right;\">\n",
       "      <th></th>\n",
       "      <th>site.num</th>\n",
       "      <th>latitude</th>\n",
       "      <th>longitude</th>\n",
       "      <th>parameter.name</th>\n",
       "      <th>day_time</th>\n",
       "      <th>date</th>\n",
       "      <th>hour</th>\n",
       "      <th>sample.measurement</th>\n",
       "    </tr>\n",
       "  </thead>\n",
       "  <tbody>\n",
       "    <tr>\n",
       "      <th>0</th>\n",
       "      <td>2005</td>\n",
       "      <td>40.598056</td>\n",
       "      <td>-111.894167</td>\n",
       "      <td>Ozone</td>\n",
       "      <td>2023-01-01T00:00:00Z</td>\n",
       "      <td>2023-01-01</td>\n",
       "      <td>0S</td>\n",
       "      <td>0.014</td>\n",
       "    </tr>\n",
       "    <tr>\n",
       "      <th>1</th>\n",
       "      <td>2005</td>\n",
       "      <td>40.598056</td>\n",
       "      <td>-111.894167</td>\n",
       "      <td>Ozone</td>\n",
       "      <td>2023-01-01T01:00:00Z</td>\n",
       "      <td>2023-01-01</td>\n",
       "      <td>1H 0M 0S</td>\n",
       "      <td>0.007</td>\n",
       "    </tr>\n",
       "    <tr>\n",
       "      <th>2</th>\n",
       "      <td>2005</td>\n",
       "      <td>40.598056</td>\n",
       "      <td>-111.894167</td>\n",
       "      <td>Ozone</td>\n",
       "      <td>2023-01-01T02:00:00Z</td>\n",
       "      <td>2023-01-01</td>\n",
       "      <td>2H 0M 0S</td>\n",
       "      <td>0.002</td>\n",
       "    </tr>\n",
       "    <tr>\n",
       "      <th>3</th>\n",
       "      <td>2005</td>\n",
       "      <td>40.598056</td>\n",
       "      <td>-111.894167</td>\n",
       "      <td>Ozone</td>\n",
       "      <td>2023-01-01T03:00:00Z</td>\n",
       "      <td>2023-01-01</td>\n",
       "      <td>3H 0M 0S</td>\n",
       "      <td>0.009</td>\n",
       "    </tr>\n",
       "    <tr>\n",
       "      <th>4</th>\n",
       "      <td>2005</td>\n",
       "      <td>40.598056</td>\n",
       "      <td>-111.894167</td>\n",
       "      <td>Ozone</td>\n",
       "      <td>2023-01-01T04:00:00Z</td>\n",
       "      <td>2023-01-01</td>\n",
       "      <td>4H 0M 0S</td>\n",
       "      <td>0.011</td>\n",
       "    </tr>\n",
       "  </tbody>\n",
       "</table>\n",
       "</div>"
      ],
      "text/plain": [
       "   site.num   latitude   longitude parameter.name              day_time  \\\n",
       "0      2005  40.598056 -111.894167          Ozone  2023-01-01T00:00:00Z   \n",
       "1      2005  40.598056 -111.894167          Ozone  2023-01-01T01:00:00Z   \n",
       "2      2005  40.598056 -111.894167          Ozone  2023-01-01T02:00:00Z   \n",
       "3      2005  40.598056 -111.894167          Ozone  2023-01-01T03:00:00Z   \n",
       "4      2005  40.598056 -111.894167          Ozone  2023-01-01T04:00:00Z   \n",
       "\n",
       "         date      hour  sample.measurement  \n",
       "0  2023-01-01        0S               0.014  \n",
       "1  2023-01-01  1H 0M 0S               0.007  \n",
       "2  2023-01-01  2H 0M 0S               0.002  \n",
       "3  2023-01-01  3H 0M 0S               0.009  \n",
       "4  2023-01-01  4H 0M 0S               0.011  "
      ]
     },
     "execution_count": 43,
     "metadata": {},
     "output_type": "execute_result"
    }
   ],
   "source": [
    "aq_df = pd.read_csv(\"./data/aqs_data.csv\")\n",
    "aq_df.head()"
   ]
  },
  {
   "cell_type": "code",
   "execution_count": 44,
   "metadata": {},
   "outputs": [],
   "source": [
    "# aq_df = aq_df[(aq_df.day_time >= \"2023-01-08\") & (aq_df.day_time <= \"2023-01-14\")]\n",
    "aq_df = aq_df[aq_df.day_time <= \"2023-01-14\"]"
   ]
  },
  {
   "cell_type": "code",
   "execution_count": 45,
   "metadata": {},
   "outputs": [
    {
     "data": {
      "text/plain": [
       "(2480, 8)"
      ]
     },
     "execution_count": 45,
     "metadata": {},
     "output_type": "execute_result"
    }
   ],
   "source": [
    "aq_df.shape"
   ]
  },
  {
   "cell_type": "code",
   "execution_count": 46,
   "metadata": {},
   "outputs": [
    {
     "data": {
      "text/plain": [
       "[<matplotlib.lines.Line2D at 0x16bcdcfd0>]"
      ]
     },
     "execution_count": 46,
     "metadata": {},
     "output_type": "execute_result"
    },
    {
     "data": {
      "image/png": "[encoded data removed]",
      "text/plain": [
       "<Figure size 640x480 with 1 Axes>"
      ]
     },
     "metadata": {},
     "output_type": "display_data"
    }
   ],
   "source": [
    "plt.plot(aq_df['longitude'], aq_df['latitude'], 'bo')"
   ]
  },
  {
   "cell_type": "markdown",
   "metadata": {},
   "source": [
    "### Standardize coordinates"
   ]
  },
  {
   "cell_type": "code",
   "execution_count": 47,
   "metadata": {},
   "outputs": [
    {
     "name": "stdout",
     "output_type": "stream",
     "text": [
      "2480\n"
     ]
    }
   ],
   "source": [
    "lon = aq_df.values[:,2].astype('float64')\n",
    "lat = aq_df.values[:,1].astype('float64')\n",
    "aq_df['normalized_lon'] = (lon-min_x)/(max_x - min_x)\n",
    "aq_df['normalized_lat'] = (lat-min_y)/(max_y-min_y)\n",
    "N = lon.shape[0]\n",
    "print(N)"
   ]
  },
  {
   "cell_type": "code",
   "execution_count": 48,
   "metadata": {},
   "outputs": [
    {
     "data": {
      "image/png": "[encoded data removed]",
      "text/plain": [
       "<Figure size 640x480 with 1 Axes>"
      ]
     },
     "metadata": {},
     "output_type": "display_data"
    }
   ],
   "source": [
    "plt.plot(grid_crds['normalized_lon'], grid_crds['normalized_lat'], 'bo', markersize=1)\n",
    "plt.plot(aq_df['normalized_lon'], aq_df['normalized_lat'], 'go')\n",
    "plt.show()"
   ]
  },
  {
   "cell_type": "markdown",
   "metadata": {},
   "source": [
    "### Standardize time"
   ]
  },
  {
   "cell_type": "code",
   "execution_count": 49,
   "metadata": {},
   "outputs": [
    {
     "data": {
      "text/html": [
       "<div>\n",
       "<style scoped>\n",
       "    .dataframe tbody tr th:only-of-type {\n",
       "        vertical-align: middle;\n",
       "    }\n",
       "\n",
       "    .dataframe tbody tr th {\n",
       "        vertical-align: top;\n",
       "    }\n",
       "\n",
       "    .dataframe thead th {\n",
       "        text-align: right;\n",
       "    }\n",
       "</style>\n",
       "<table border=\"1\" class=\"dataframe\">\n",
       "  <thead>\n",
       "    <tr style=\"text-align: right;\">\n",
       "      <th></th>\n",
       "      <th>site.num</th>\n",
       "      <th>latitude</th>\n",
       "      <th>longitude</th>\n",
       "      <th>parameter.name</th>\n",
       "      <th>day_time</th>\n",
       "      <th>date</th>\n",
       "      <th>hour</th>\n",
       "      <th>sample.measurement</th>\n",
       "      <th>normalized_lon</th>\n",
       "      <th>normalized_lat</th>\n",
       "    </tr>\n",
       "  </thead>\n",
       "  <tbody>\n",
       "    <tr>\n",
       "      <th>0</th>\n",
       "      <td>2005</td>\n",
       "      <td>40.598056</td>\n",
       "      <td>-111.894167</td>\n",
       "      <td>Ozone</td>\n",
       "      <td>2023-01-01T00:00:00Z</td>\n",
       "      <td>2023-01-01</td>\n",
       "      <td>0S</td>\n",
       "      <td>0.014</td>\n",
       "      <td>0.518044</td>\n",
       "      <td>0.359339</td>\n",
       "    </tr>\n",
       "    <tr>\n",
       "      <th>1</th>\n",
       "      <td>2005</td>\n",
       "      <td>40.598056</td>\n",
       "      <td>-111.894167</td>\n",
       "      <td>Ozone</td>\n",
       "      <td>2023-01-01T01:00:00Z</td>\n",
       "      <td>2023-01-01</td>\n",
       "      <td>1H 0M 0S</td>\n",
       "      <td>0.007</td>\n",
       "      <td>0.518044</td>\n",
       "      <td>0.359339</td>\n",
       "    </tr>\n",
       "    <tr>\n",
       "      <th>2</th>\n",
       "      <td>2005</td>\n",
       "      <td>40.598056</td>\n",
       "      <td>-111.894167</td>\n",
       "      <td>Ozone</td>\n",
       "      <td>2023-01-01T02:00:00Z</td>\n",
       "      <td>2023-01-01</td>\n",
       "      <td>2H 0M 0S</td>\n",
       "      <td>0.002</td>\n",
       "      <td>0.518044</td>\n",
       "      <td>0.359339</td>\n",
       "    </tr>\n",
       "    <tr>\n",
       "      <th>3</th>\n",
       "      <td>2005</td>\n",
       "      <td>40.598056</td>\n",
       "      <td>-111.894167</td>\n",
       "      <td>Ozone</td>\n",
       "      <td>2023-01-01T03:00:00Z</td>\n",
       "      <td>2023-01-01</td>\n",
       "      <td>3H 0M 0S</td>\n",
       "      <td>0.009</td>\n",
       "      <td>0.518044</td>\n",
       "      <td>0.359339</td>\n",
       "    </tr>\n",
       "    <tr>\n",
       "      <th>4</th>\n",
       "      <td>2005</td>\n",
       "      <td>40.598056</td>\n",
       "      <td>-111.894167</td>\n",
       "      <td>Ozone</td>\n",
       "      <td>2023-01-01T04:00:00Z</td>\n",
       "      <td>2023-01-01</td>\n",
       "      <td>4H 0M 0S</td>\n",
       "      <td>0.011</td>\n",
       "      <td>0.518044</td>\n",
       "      <td>0.359339</td>\n",
       "    </tr>\n",
       "  </tbody>\n",
       "</table>\n",
       "</div>"
      ],
      "text/plain": [
       "   site.num   latitude   longitude parameter.name              day_time  \\\n",
       "0      2005  40.598056 -111.894167          Ozone  2023-01-01T00:00:00Z   \n",
       "1      2005  40.598056 -111.894167          Ozone  2023-01-01T01:00:00Z   \n",
       "2      2005  40.598056 -111.894167          Ozone  2023-01-01T02:00:00Z   \n",
       "3      2005  40.598056 -111.894167          Ozone  2023-01-01T03:00:00Z   \n",
       "4      2005  40.598056 -111.894167          Ozone  2023-01-01T04:00:00Z   \n",
       "\n",
       "         date      hour  sample.measurement  normalized_lon  normalized_lat  \n",
       "0  2023-01-01        0S               0.014        0.518044        0.359339  \n",
       "1  2023-01-01  1H 0M 0S               0.007        0.518044        0.359339  \n",
       "2  2023-01-01  2H 0M 0S               0.002        0.518044        0.359339  \n",
       "3  2023-01-01  3H 0M 0S               0.009        0.518044        0.359339  \n",
       "4  2023-01-01  4H 0M 0S               0.011        0.518044        0.359339  "
      ]
     },
     "execution_count": 49,
     "metadata": {},
     "output_type": "execute_result"
    }
   ],
   "source": [
    "aq_df.head()"
   ]
  },
  {
   "cell_type": "code",
   "execution_count": 50,
   "metadata": {},
   "outputs": [
    {
     "name": "stdout",
     "output_type": "stream",
     "text": [
      "0   2023-01-01 00:00:00+00:00\n",
      "1   2023-01-01 01:00:00+00:00\n",
      "2   2023-01-01 02:00:00+00:00\n",
      "3   2023-01-01 03:00:00+00:00\n",
      "4   2023-01-01 04:00:00+00:00\n",
      "5   2023-01-01 05:00:00+00:00\n",
      "6   2023-01-01 06:00:00+00:00\n",
      "7   2023-01-01 07:00:00+00:00\n",
      "8   2023-01-01 08:00:00+00:00\n",
      "9   2023-01-01 09:00:00+00:00\n",
      "Name: day_time, dtype: datetime64[ns, UTC]\n",
      "datetime64[ns, UTC]\n"
     ]
    }
   ],
   "source": [
    "day_time = pd.to_datetime(aq_df['day_time'])\n",
    "# add the timezone:\n",
    "\n",
    "print(day_time[0:10])\n",
    "print(day_time.dtype)"
   ]
  },
  {
   "cell_type": "code",
   "execution_count": 51,
   "metadata": {},
   "outputs": [],
   "source": [
    "day_time = day_time.astype('int64') / 1e9 ## Time in nanoseconds"
   ]
  },
  {
   "cell_type": "code",
   "execution_count": 52,
   "metadata": {},
   "outputs": [
    {
     "name": "stdout",
     "output_type": "stream",
     "text": [
      "1672531200.0 1673650800.0\n"
     ]
    }
   ],
   "source": [
    "min_t = day_time.min()\n",
    "max_t = day_time.max()\n",
    "print(min_t, max_t)"
   ]
  },
  {
   "cell_type": "code",
   "execution_count": 53,
   "metadata": {},
   "outputs": [
    {
     "data": {
      "text/plain": [
       "0        0.000000\n",
       "1        0.003215\n",
       "2        0.006431\n",
       "3        0.009646\n",
       "4        0.012862\n",
       "           ...   \n",
       "45645    0.987138\n",
       "45646    0.990354\n",
       "45647    0.993569\n",
       "45648    0.996785\n",
       "45649    1.000000\n",
       "Name: normalized_time, Length: 2480, dtype: float64"
      ]
     },
     "execution_count": 53,
     "metadata": {},
     "output_type": "execute_result"
    }
   ],
   "source": [
    "aq_df['normalized_time'] = (day_time - min_t) / (max_t-min_t)\n",
    "aq_df['normalized_time']"
   ]
  },
  {
   "cell_type": "markdown",
   "metadata": {},
   "source": [
    "## Load ebus data"
   ]
  },
  {
   "cell_type": "code",
   "execution_count": 54,
   "metadata": {},
   "outputs": [],
   "source": [
    "ebus = pd.read_csv(\"./data/EBUS_TEST_DATA/BUS04_2023_06.csv\", header = [0,1],  \n",
    "                 na_values = -9999.00)"
   ]
  },
  {
   "cell_type": "code",
   "execution_count": 55,
   "metadata": {},
   "outputs": [
    {
     "data": {
      "text/plain": [
       "(151537, 27)"
      ]
     },
     "execution_count": 55,
     "metadata": {},
     "output_type": "execute_result"
    }
   ],
   "source": [
    "ebus.shape"
   ]
  },
  {
   "cell_type": "code",
   "execution_count": 56,
   "metadata": {},
   "outputs": [
    {
     "data": {
      "text/html": [
       "<div>\n",
       "<style scoped>\n",
       "    .dataframe tbody tr th:only-of-type {\n",
       "        vertical-align: middle;\n",
       "    }\n",
       "\n",
       "    .dataframe tbody tr th {\n",
       "        vertical-align: top;\n",
       "    }\n",
       "\n",
       "    .dataframe thead tr th {\n",
       "        text-align: left;\n",
       "    }\n",
       "</style>\n",
       "<table border=\"1\" class=\"dataframe\">\n",
       "  <thead>\n",
       "    <tr>\n",
       "      <th></th>\n",
       "      <th>Timestamp</th>\n",
       "      <th>Latitude</th>\n",
       "      <th>Longitude</th>\n",
       "      <th>Elevation</th>\n",
       "      <th>GPS_Speed</th>\n",
       "      <th>GPS_Direction</th>\n",
       "      <th>GPS_RMC_Valid</th>\n",
       "      <th>Battery_Voltage</th>\n",
       "      <th>Bus_Box_Temperature</th>\n",
       "      <th>Bus_Top_Temperature</th>\n",
       "      <th>...</th>\n",
       "      <th>ES405_Internal_Relative_Humidity</th>\n",
       "      <th>ES405_Internal_Air_Pressure</th>\n",
       "      <th>ES405_Error_Code</th>\n",
       "      <th>2B_Ozone_Concentration</th>\n",
       "      <th>2B_Air_Flow_Rate</th>\n",
       "      <th>2B_Internal_Air_Temperature</th>\n",
       "      <th>2B_Internal_Air_Pressure</th>\n",
       "      <th>PM2.5_Data_Flagged</th>\n",
       "      <th>Ozone_Data_Flagged</th>\n",
       "      <th>GPS_Data_Flagged</th>\n",
       "    </tr>\n",
       "    <tr>\n",
       "      <th></th>\n",
       "      <th>UTC</th>\n",
       "      <th>ddeg</th>\n",
       "      <th>ddeg</th>\n",
       "      <th>m</th>\n",
       "      <th>m/s</th>\n",
       "      <th>deg</th>\n",
       "      <th>binary</th>\n",
       "      <th>volts</th>\n",
       "      <th>degC</th>\n",
       "      <th>degC</th>\n",
       "      <th>...</th>\n",
       "      <th>%</th>\n",
       "      <th>hpa</th>\n",
       "      <th>code</th>\n",
       "      <th>ppbv</th>\n",
       "      <th>L/min</th>\n",
       "      <th>degC</th>\n",
       "      <th>hpa</th>\n",
       "      <th>binary</th>\n",
       "      <th>binary</th>\n",
       "      <th>binary</th>\n",
       "    </tr>\n",
       "  </thead>\n",
       "  <tbody>\n",
       "    <tr>\n",
       "      <th>0</th>\n",
       "      <td>2023-06-01T00:00:00</td>\n",
       "      <td>40.767262</td>\n",
       "      <td>-111.865799</td>\n",
       "      <td>1348.7</td>\n",
       "      <td>0.0</td>\n",
       "      <td>275.8</td>\n",
       "      <td>1.0</td>\n",
       "      <td>13.39</td>\n",
       "      <td>25.76</td>\n",
       "      <td>24.68</td>\n",
       "      <td>...</td>\n",
       "      <td>21.1</td>\n",
       "      <td>643.9</td>\n",
       "      <td>0.0</td>\n",
       "      <td>51.5</td>\n",
       "      <td>2.14</td>\n",
       "      <td>37.0</td>\n",
       "      <td>826.4</td>\n",
       "      <td>0</td>\n",
       "      <td>0</td>\n",
       "      <td>0</td>\n",
       "    </tr>\n",
       "    <tr>\n",
       "      <th>1</th>\n",
       "      <td>2023-06-01T00:00:05</td>\n",
       "      <td>40.767262</td>\n",
       "      <td>-111.865799</td>\n",
       "      <td>1348.7</td>\n",
       "      <td>0.0</td>\n",
       "      <td>275.8</td>\n",
       "      <td>1.0</td>\n",
       "      <td>13.38</td>\n",
       "      <td>25.76</td>\n",
       "      <td>24.68</td>\n",
       "      <td>...</td>\n",
       "      <td>NaN</td>\n",
       "      <td>NaN</td>\n",
       "      <td>NaN</td>\n",
       "      <td>44.2</td>\n",
       "      <td>2.13</td>\n",
       "      <td>37.0</td>\n",
       "      <td>826.7</td>\n",
       "      <td>0</td>\n",
       "      <td>0</td>\n",
       "      <td>0</td>\n",
       "    </tr>\n",
       "    <tr>\n",
       "      <th>2</th>\n",
       "      <td>2023-06-01T00:00:10</td>\n",
       "      <td>40.767262</td>\n",
       "      <td>-111.865799</td>\n",
       "      <td>1348.7</td>\n",
       "      <td>0.0</td>\n",
       "      <td>275.8</td>\n",
       "      <td>1.0</td>\n",
       "      <td>13.39</td>\n",
       "      <td>25.76</td>\n",
       "      <td>24.68</td>\n",
       "      <td>...</td>\n",
       "      <td>NaN</td>\n",
       "      <td>NaN</td>\n",
       "      <td>NaN</td>\n",
       "      <td>49.4</td>\n",
       "      <td>2.14</td>\n",
       "      <td>37.0</td>\n",
       "      <td>826.8</td>\n",
       "      <td>0</td>\n",
       "      <td>0</td>\n",
       "      <td>0</td>\n",
       "    </tr>\n",
       "    <tr>\n",
       "      <th>3</th>\n",
       "      <td>2023-06-01T00:00:15</td>\n",
       "      <td>40.767262</td>\n",
       "      <td>-111.865799</td>\n",
       "      <td>1348.7</td>\n",
       "      <td>0.0</td>\n",
       "      <td>275.8</td>\n",
       "      <td>1.0</td>\n",
       "      <td>13.38</td>\n",
       "      <td>25.76</td>\n",
       "      <td>24.70</td>\n",
       "      <td>...</td>\n",
       "      <td>NaN</td>\n",
       "      <td>NaN</td>\n",
       "      <td>NaN</td>\n",
       "      <td>49.4</td>\n",
       "      <td>2.15</td>\n",
       "      <td>37.0</td>\n",
       "      <td>826.5</td>\n",
       "      <td>0</td>\n",
       "      <td>0</td>\n",
       "      <td>0</td>\n",
       "    </tr>\n",
       "    <tr>\n",
       "      <th>4</th>\n",
       "      <td>2023-06-01T00:00:20</td>\n",
       "      <td>40.767262</td>\n",
       "      <td>-111.865799</td>\n",
       "      <td>1348.7</td>\n",
       "      <td>0.0</td>\n",
       "      <td>275.8</td>\n",
       "      <td>1.0</td>\n",
       "      <td>13.39</td>\n",
       "      <td>25.76</td>\n",
       "      <td>24.70</td>\n",
       "      <td>...</td>\n",
       "      <td>NaN</td>\n",
       "      <td>NaN</td>\n",
       "      <td>NaN</td>\n",
       "      <td>46.0</td>\n",
       "      <td>2.14</td>\n",
       "      <td>37.0</td>\n",
       "      <td>826.4</td>\n",
       "      <td>0</td>\n",
       "      <td>0</td>\n",
       "      <td>0</td>\n",
       "    </tr>\n",
       "  </tbody>\n",
       "</table>\n",
       "<p>5 rows × 27 columns</p>\n",
       "</div>"
      ],
      "text/plain": [
       "             Timestamp   Latitude   Longitude Elevation GPS_Speed  \\\n",
       "                   UTC       ddeg        ddeg         m       m/s   \n",
       "0  2023-06-01T00:00:00  40.767262 -111.865799    1348.7       0.0   \n",
       "1  2023-06-01T00:00:05  40.767262 -111.865799    1348.7       0.0   \n",
       "2  2023-06-01T00:00:10  40.767262 -111.865799    1348.7       0.0   \n",
       "3  2023-06-01T00:00:15  40.767262 -111.865799    1348.7       0.0   \n",
       "4  2023-06-01T00:00:20  40.767262 -111.865799    1348.7       0.0   \n",
       "\n",
       "  GPS_Direction GPS_RMC_Valid Battery_Voltage Bus_Box_Temperature  \\\n",
       "            deg        binary           volts                degC   \n",
       "0         275.8           1.0           13.39               25.76   \n",
       "1         275.8           1.0           13.38               25.76   \n",
       "2         275.8           1.0           13.39               25.76   \n",
       "3         275.8           1.0           13.38               25.76   \n",
       "4         275.8           1.0           13.39               25.76   \n",
       "\n",
       "  Bus_Top_Temperature  ... ES405_Internal_Relative_Humidity  \\\n",
       "                 degC  ...                                %   \n",
       "0               24.68  ...                             21.1   \n",
       "1               24.68  ...                              NaN   \n",
       "2               24.68  ...                              NaN   \n",
       "3               24.70  ...                              NaN   \n",
       "4               24.70  ...                              NaN   \n",
       "\n",
       "  ES405_Internal_Air_Pressure ES405_Error_Code 2B_Ozone_Concentration  \\\n",
       "                          hpa             code                   ppbv   \n",
       "0                       643.9              0.0                   51.5   \n",
       "1                         NaN              NaN                   44.2   \n",
       "2                         NaN              NaN                   49.4   \n",
       "3                         NaN              NaN                   49.4   \n",
       "4                         NaN              NaN                   46.0   \n",
       "\n",
       "  2B_Air_Flow_Rate 2B_Internal_Air_Temperature 2B_Internal_Air_Pressure  \\\n",
       "             L/min                        degC                      hpa   \n",
       "0             2.14                        37.0                    826.4   \n",
       "1             2.13                        37.0                    826.7   \n",
       "2             2.14                        37.0                    826.8   \n",
       "3             2.15                        37.0                    826.5   \n",
       "4             2.14                        37.0                    826.4   \n",
       "\n",
       "  PM2.5_Data_Flagged Ozone_Data_Flagged GPS_Data_Flagged  \n",
       "              binary             binary           binary  \n",
       "0                  0                  0                0  \n",
       "1                  0                  0                0  \n",
       "2                  0                  0                0  \n",
       "3                  0                  0                0  \n",
       "4                  0                  0                0  \n",
       "\n",
       "[5 rows x 27 columns]"
      ]
     },
     "execution_count": 56,
     "metadata": {},
     "output_type": "execute_result"
    }
   ],
   "source": [
    "ebus.head()"
   ]
  },
  {
   "cell_type": "code",
   "execution_count": 61,
   "metadata": {},
   "outputs": [
    {
     "data": {
      "text/html": [
       "<div>\n",
       "<style scoped>\n",
       "    .dataframe tbody tr th:only-of-type {\n",
       "        vertical-align: middle;\n",
       "    }\n",
       "\n",
       "    .dataframe tbody tr th {\n",
       "        vertical-align: top;\n",
       "    }\n",
       "\n",
       "    .dataframe thead th {\n",
       "        text-align: right;\n",
       "    }\n",
       "</style>\n",
       "<table border=\"1\" class=\"dataframe\">\n",
       "  <thead>\n",
       "    <tr style=\"text-align: right;\">\n",
       "      <th></th>\n",
       "      <th>time</th>\n",
       "      <th>lon</th>\n",
       "      <th>lat</th>\n",
       "    </tr>\n",
       "  </thead>\n",
       "  <tbody>\n",
       "    <tr>\n",
       "      <th>0</th>\n",
       "      <td>2023-06-01 00:00:00</td>\n",
       "      <td>-111.865799</td>\n",
       "      <td>40.767262</td>\n",
       "    </tr>\n",
       "    <tr>\n",
       "      <th>1</th>\n",
       "      <td>2023-06-01 00:00:05</td>\n",
       "      <td>-111.865799</td>\n",
       "      <td>40.767262</td>\n",
       "    </tr>\n",
       "    <tr>\n",
       "      <th>2</th>\n",
       "      <td>2023-06-01 00:00:10</td>\n",
       "      <td>-111.865799</td>\n",
       "      <td>40.767262</td>\n",
       "    </tr>\n",
       "    <tr>\n",
       "      <th>3</th>\n",
       "      <td>2023-06-01 00:00:15</td>\n",
       "      <td>-111.865799</td>\n",
       "      <td>40.767262</td>\n",
       "    </tr>\n",
       "    <tr>\n",
       "      <th>4</th>\n",
       "      <td>2023-06-01 00:00:20</td>\n",
       "      <td>-111.865799</td>\n",
       "      <td>40.767262</td>\n",
       "    </tr>\n",
       "    <tr>\n",
       "      <th>...</th>\n",
       "      <td>...</td>\n",
       "      <td>...</td>\n",
       "      <td>...</td>\n",
       "    </tr>\n",
       "    <tr>\n",
       "      <th>151532</th>\n",
       "      <td>2023-06-30 23:59:35</td>\n",
       "      <td>-111.977150</td>\n",
       "      <td>40.704048</td>\n",
       "    </tr>\n",
       "    <tr>\n",
       "      <th>151533</th>\n",
       "      <td>2023-06-30 23:59:40</td>\n",
       "      <td>-111.977150</td>\n",
       "      <td>40.704052</td>\n",
       "    </tr>\n",
       "    <tr>\n",
       "      <th>151534</th>\n",
       "      <td>2023-06-30 23:59:45</td>\n",
       "      <td>-111.977150</td>\n",
       "      <td>40.704052</td>\n",
       "    </tr>\n",
       "    <tr>\n",
       "      <th>151535</th>\n",
       "      <td>2023-06-30 23:59:50</td>\n",
       "      <td>-111.977165</td>\n",
       "      <td>40.703819</td>\n",
       "    </tr>\n",
       "    <tr>\n",
       "      <th>151536</th>\n",
       "      <td>2023-06-30 23:59:55</td>\n",
       "      <td>-111.977219</td>\n",
       "      <td>40.703548</td>\n",
       "    </tr>\n",
       "  </tbody>\n",
       "</table>\n",
       "<p>151537 rows × 3 columns</p>\n",
       "</div>"
      ],
      "text/plain": [
       "                      time         lon        lat\n",
       "0      2023-06-01 00:00:00 -111.865799  40.767262\n",
       "1      2023-06-01 00:00:05 -111.865799  40.767262\n",
       "2      2023-06-01 00:00:10 -111.865799  40.767262\n",
       "3      2023-06-01 00:00:15 -111.865799  40.767262\n",
       "4      2023-06-01 00:00:20 -111.865799  40.767262\n",
       "...                    ...         ...        ...\n",
       "151532 2023-06-30 23:59:35 -111.977150  40.704048\n",
       "151533 2023-06-30 23:59:40 -111.977150  40.704052\n",
       "151534 2023-06-30 23:59:45 -111.977150  40.704052\n",
       "151535 2023-06-30 23:59:50 -111.977165  40.703819\n",
       "151536 2023-06-30 23:59:55 -111.977219  40.703548\n",
       "\n",
       "[151537 rows x 3 columns]"
      ]
     },
     "execution_count": 61,
     "metadata": {},
     "output_type": "execute_result"
    }
   ],
   "source": [
    "ebus2 = pd.DataFrame({\n",
    "    'time': pd.to_datetime(ebus.iloc[:,0]),\n",
    "    'lon': ebus.iloc[:,2],\n",
    "    'lat': ebus.iloc[:,1]\n",
    "    })"
   ]
  },
  {
   "cell_type": "code",
   "execution_count": 63,
   "metadata": {},
   "outputs": [
    {
     "data": {
      "text/html": [
       "<div>\n",
       "<style scoped>\n",
       "    .dataframe tbody tr th:only-of-type {\n",
       "        vertical-align: middle;\n",
       "    }\n",
       "\n",
       "    .dataframe tbody tr th {\n",
       "        vertical-align: top;\n",
       "    }\n",
       "\n",
       "    .dataframe thead th {\n",
       "        text-align: right;\n",
       "    }\n",
       "</style>\n",
       "<table border=\"1\" class=\"dataframe\">\n",
       "  <thead>\n",
       "    <tr style=\"text-align: right;\">\n",
       "      <th></th>\n",
       "      <th>time</th>\n",
       "      <th>lon</th>\n",
       "      <th>lat</th>\n",
       "      <th>val</th>\n",
       "    </tr>\n",
       "  </thead>\n",
       "  <tbody>\n",
       "    <tr>\n",
       "      <th>0</th>\n",
       "      <td>2023-06-01 00:00:00</td>\n",
       "      <td>-111.865799</td>\n",
       "      <td>40.767262</td>\n",
       "      <td>51.5</td>\n",
       "    </tr>\n",
       "    <tr>\n",
       "      <th>1</th>\n",
       "      <td>2023-06-01 00:00:05</td>\n",
       "      <td>-111.865799</td>\n",
       "      <td>40.767262</td>\n",
       "      <td>44.2</td>\n",
       "    </tr>\n",
       "    <tr>\n",
       "      <th>2</th>\n",
       "      <td>2023-06-01 00:00:10</td>\n",
       "      <td>-111.865799</td>\n",
       "      <td>40.767262</td>\n",
       "      <td>49.4</td>\n",
       "    </tr>\n",
       "    <tr>\n",
       "      <th>3</th>\n",
       "      <td>2023-06-01 00:00:15</td>\n",
       "      <td>-111.865799</td>\n",
       "      <td>40.767262</td>\n",
       "      <td>49.4</td>\n",
       "    </tr>\n",
       "    <tr>\n",
       "      <th>4</th>\n",
       "      <td>2023-06-01 00:00:20</td>\n",
       "      <td>-111.865799</td>\n",
       "      <td>40.767262</td>\n",
       "      <td>46.0</td>\n",
       "    </tr>\n",
       "    <tr>\n",
       "      <th>...</th>\n",
       "      <td>...</td>\n",
       "      <td>...</td>\n",
       "      <td>...</td>\n",
       "      <td>...</td>\n",
       "    </tr>\n",
       "    <tr>\n",
       "      <th>151532</th>\n",
       "      <td>2023-06-30 23:59:35</td>\n",
       "      <td>-111.977150</td>\n",
       "      <td>40.704048</td>\n",
       "      <td>56.4</td>\n",
       "    </tr>\n",
       "    <tr>\n",
       "      <th>151533</th>\n",
       "      <td>2023-06-30 23:59:40</td>\n",
       "      <td>-111.977150</td>\n",
       "      <td>40.704052</td>\n",
       "      <td>58.2</td>\n",
       "    </tr>\n",
       "    <tr>\n",
       "      <th>151534</th>\n",
       "      <td>2023-06-30 23:59:45</td>\n",
       "      <td>-111.977150</td>\n",
       "      <td>40.704052</td>\n",
       "      <td>57.7</td>\n",
       "    </tr>\n",
       "    <tr>\n",
       "      <th>151535</th>\n",
       "      <td>2023-06-30 23:59:50</td>\n",
       "      <td>-111.977165</td>\n",
       "      <td>40.703819</td>\n",
       "      <td>61.2</td>\n",
       "    </tr>\n",
       "    <tr>\n",
       "      <th>151536</th>\n",
       "      <td>2023-06-30 23:59:55</td>\n",
       "      <td>-111.977219</td>\n",
       "      <td>40.703548</td>\n",
       "      <td>56.3</td>\n",
       "    </tr>\n",
       "  </tbody>\n",
       "</table>\n",
       "<p>151537 rows × 4 columns</p>\n",
       "</div>"
      ],
      "text/plain": [
       "                      time         lon        lat   val\n",
       "0      2023-06-01 00:00:00 -111.865799  40.767262  51.5\n",
       "1      2023-06-01 00:00:05 -111.865799  40.767262  44.2\n",
       "2      2023-06-01 00:00:10 -111.865799  40.767262  49.4\n",
       "3      2023-06-01 00:00:15 -111.865799  40.767262  49.4\n",
       "4      2023-06-01 00:00:20 -111.865799  40.767262  46.0\n",
       "...                    ...         ...        ...   ...\n",
       "151532 2023-06-30 23:59:35 -111.977150  40.704048  56.4\n",
       "151533 2023-06-30 23:59:40 -111.977150  40.704052  58.2\n",
       "151534 2023-06-30 23:59:45 -111.977150  40.704052  57.7\n",
       "151535 2023-06-30 23:59:50 -111.977165  40.703819  61.2\n",
       "151536 2023-06-30 23:59:55 -111.977219  40.703548  56.3\n",
       "\n",
       "[151537 rows x 4 columns]"
      ]
     },
     "execution_count": 63,
     "metadata": {},
     "output_type": "execute_result"
    }
   ],
   "source": [
    "ebus2['val'] = ebus['2B_Ozone_Concentration']\n",
    "ebus2"
   ]
  },
  {
   "cell_type": "markdown",
   "metadata": {},
   "source": [
    "## Basis functions"
   ]
  },
  {
   "cell_type": "markdown",
   "metadata": {},
   "source": [
    "### Time"
   ]
  },
  {
   "cell_type": "code",
   "execution_count": null,
   "metadata": {},
   "outputs": [],
   "source": [
    "s = np.array(aq_df['day_time2']).reshape(len(aq_df),1)\n",
    "print(s.shape)\n",
    "N_data = len(aq_df)\n",
    "N = N_data ## We have a separate N for the training + test data set (no testing at present)\n",
    "print(N)"
   ]
  },
  {
   "cell_type": "markdown",
   "metadata": {},
   "source": [
    "We need to define:\n",
    "- Number of basis layers (3)\n",
    "- Number of knots per layer\n",
    "- S.D. for Gaussian function\n",
    "\n",
    "Then make a ragged array holding the knots on the normalized scale.\n",
    "\n",
    "Note that one of the previous examples has a very high number of temporal knots (~800) which is very computationally expensive"
   ]
  },
  {
   "cell_type": "code",
   "execution_count": null,
   "metadata": {},
   "outputs": [],
   "source": [
    "## time basis \n",
    "num_basis = [10,15,45]\n",
    "std_arr = [0.4,0.2,0.1]\n",
    "num_basis = [10,20,56]\n",
    "std_arr = [0.3,0.15,0.05]\n",
    "#num_basis = [70,250,410]\n",
    "#std_arr = [0.2,0.09,0.009]\n",
    "#std_arr = [0.3,0.15,0.05]\n",
    "\n",
    "mu_knots = [np.linspace(0,1,int(i)) for i in num_basis]"
   ]
  },
  {
   "cell_type": "code",
   "execution_count": null,
   "metadata": {},
   "outputs": [],
   "source": [
    "mu_knots"
   ]
  },
  {
   "cell_type": "markdown",
   "metadata": {},
   "source": [
    "Now create the basis functions. This does the following:\n",
    "- Loop over each basis layer\n",
    "- Loop by knot in the selected layer\n",
    "- Get distance from each observation (held in `s`) to the knot\n",
    "- Estimate Gaussian weight"
   ]
  },
  {
   "cell_type": "code",
   "execution_count": null,
   "metadata": {},
   "outputs": [],
   "source": [
    "phi_t = np.zeros((N, sum(num_basis)))\n",
    "K = 0\n",
    "for res in range(len(num_basis)):\n",
    "    std = std_arr[res]\n",
    "    for i in range(num_basis[res]):\n",
    "        d = np.square(np.absolute(s-mu_knots[res][i]))\n",
    "        for j in range(len(d)):\n",
    "            if d[j] >= 0 and d[j] <= 1:\n",
    "                phi_t[j,i + K] = np.exp(-0.5 * d[j]/(std**2))\n",
    "            else:\n",
    "                phi_t[j,i + K] = 0\n",
    "    K = K + num_basis[res]"
   ]
  },
  {
   "cell_type": "markdown",
   "metadata": {},
   "source": [
    "Plot basis functions at location (time) 0"
   ]
  },
  {
   "cell_type": "code",
   "execution_count": null,
   "metadata": {},
   "outputs": [],
   "source": [
    "plt.plot(phi_t[0,:])\n",
    "#plt.plot(phi_t[25000,:])\n",
    "plt.show()"
   ]
  },
  {
   "cell_type": "markdown",
   "metadata": {},
   "source": [
    "Plot first basis function (over all time)"
   ]
  },
  {
   "cell_type": "code",
   "execution_count": null,
   "metadata": {},
   "outputs": [],
   "source": [
    "plt.plot(phi_t[:,0])"
   ]
  },
  {
   "cell_type": "markdown",
   "metadata": {},
   "source": [
    "### Space"
   ]
  },
  {
   "cell_type": "code",
   "execution_count": null,
   "metadata": {},
   "outputs": [],
   "source": [
    "s = np.vstack((normalized_lon_aq,normalized_lat_aq)).T"
   ]
  },
  {
   "cell_type": "code",
   "execution_count": null,
   "metadata": {},
   "outputs": [],
   "source": [
    "## Knots for spatial dimension (from STDK example)\n",
    "num_basis = [5**2,9**2,11**2]\n",
    "knots_1d = [np.linspace(0,1,int(np.sqrt(i))) for i in num_basis]"
   ]
  },
  {
   "cell_type": "code",
   "execution_count": null,
   "metadata": {},
   "outputs": [],
   "source": [
    "##Wendland kernel\n",
    "K = 0\n",
    "phi = np.zeros((N, sum(num_basis)))\n",
    "for res in range(len(num_basis)):\n",
    "    theta = 1/np.sqrt(num_basis[res])*2.5\n",
    "    knots_s1, knots_s2 = np.meshgrid(knots_1d[res],knots_1d[res])\n",
    "    knots = np.column_stack((knots_s1.flatten(),knots_s2.flatten()))\n",
    "    for i in range(num_basis[res]):\n",
    "        d = np.linalg.norm(s-knots[i,:],axis=1)/theta\n",
    "        for j in range(len(d)):\n",
    "            if d[j] >= 0 and d[j] <= 1:\n",
    "                phi[j,i + K] = (1-d[j])**6 * (35 * d[j]**2 + 18 * d[j] + 3)/3\n",
    "            else:\n",
    "                phi[j,i + K] = 0\n",
    "    K = K + num_basis[res]"
   ]
  },
  {
   "cell_type": "markdown",
   "metadata": {},
   "source": [
    "Basis function for first location"
   ]
  },
  {
   "cell_type": "code",
   "execution_count": null,
   "metadata": {},
   "outputs": [],
   "source": [
    "plt.plot(phi[0,:])"
   ]
  },
  {
   "cell_type": "code",
   "execution_count": null,
   "metadata": {},
   "outputs": [],
   "source": [
    "x = phi[0,0:25]\n",
    "x = x.reshape(5, 5)"
   ]
  },
  {
   "cell_type": "code",
   "execution_count": null,
   "metadata": {},
   "outputs": [],
   "source": [
    "plt.imshow(x, extent=[1, 0, 1, 0])\n",
    "plt.plot(normalized_lon_aq[0], normalized_lat_aq[0], 'bo')\n",
    "plt.show()"
   ]
  },
  {
   "cell_type": "code",
   "execution_count": null,
   "metadata": {},
   "outputs": [],
   "source": [
    "num_basis"
   ]
  },
  {
   "cell_type": "code",
   "execution_count": null,
   "metadata": {},
   "outputs": [],
   "source": [
    "x = phi[0,25:106]\n",
    "x = x.reshape(9, 9)\n",
    "plt.imshow(x, extent=[1, 0, 1, 0])\n",
    "plt.plot(normalized_lon_aq[0], normalized_lat_aq[0], 'bo')\n",
    "plt.show()\n"
   ]
  },
  {
   "cell_type": "code",
   "execution_count": null,
   "metadata": {},
   "outputs": [],
   "source": [
    "x = phi[0,106:227]\n",
    "x = x.reshape(11, 11)\n",
    "plt.imshow(x, extent=[1, 0, 1, 0])\n",
    "plt.plot(normalized_lon_aq[0], normalized_lat_aq[0], 'bo')\n",
    "plt.show()\n"
   ]
  },
  {
   "cell_type": "markdown",
   "metadata": {},
   "source": [
    "Check dimensions and stack (column bind)"
   ]
  },
  {
   "cell_type": "code",
   "execution_count": null,
   "metadata": {},
   "outputs": [],
   "source": [
    "print(phi_t.shape)\n",
    "print(phi.shape)\n",
    "\n",
    "phi2 = np.hstack((phi_t,phi))"
   ]
  },
  {
   "cell_type": "markdown",
   "metadata": {},
   "source": [
    "Remove any columns with all zeros (basis functions not linked to obs)"
   ]
  },
  {
   "cell_type": "code",
   "execution_count": null,
   "metadata": {},
   "outputs": [],
   "source": [
    "idx_zero = np.array([], dtype=int)\n",
    "for i in range(phi2.shape[1]):\n",
    "    if sum(phi2[:,i]!=0)==0:\n",
    "        idx_zero = np.append(idx_zero,int(i))\n",
    "\n",
    "phi_reduce = np.delete(phi2,idx_zero,1)\n",
    "print(phi2.shape)\n",
    "print(phi_reduce.shape)"
   ]
  },
  {
   "cell_type": "markdown",
   "metadata": {},
   "source": [
    "Write out"
   ]
  },
  {
   "cell_type": "code",
   "execution_count": null,
   "metadata": {},
   "outputs": [],
   "source": [
    "np.save(\"./rbfs/phi_short_full.npy\", phi2)\n",
    "np.save(\"./rbfs/phi_short_reduce.npy\", phi_reduce)"
   ]
  },
  {
   "cell_type": "code",
   "execution_count": null,
   "metadata": {},
   "outputs": [],
   "source": [
    "y = np.array(aq_df[\"sample.measurement\"])\n",
    "np.save(\"./rbfs/y_short.npy\", y)\n",
    "#y.min()"
   ]
  },
  {
   "cell_type": "code",
   "execution_count": null,
   "metadata": {},
   "outputs": [],
   "source": [
    "plt.plot(y)"
   ]
  },
  {
   "cell_type": "code",
   "execution_count": null,
   "metadata": {},
   "outputs": [],
   "source": [
    "df_y = pd.DataFrame(y)\n",
    "#df_y.to_csv(\"./rbfs/y.csv\")"
   ]
  },
  {
   "cell_type": "code",
   "execution_count": null,
   "metadata": {},
   "outputs": [],
   "source": [
    "df = pd.DataFrame(phi2)\n",
    "df['y'] = df_y[0]\n",
    "df['site'] = aq_df['site.num'].to_numpy()\n",
    "df['date'] = aq_df['date'].to_numpy()\n",
    "df.to_csv(\"./rbfs/phi_short_full.csv\")\n",
    "df = pd.DataFrame(phi_reduce)\n",
    "df['y'] = df_y[0]\n",
    "df['site'] = aq_df['site.num'].to_numpy()\n",
    "df['date'] = aq_df['date'].to_numpy()\n",
    "df.to_csv(\"./rbfs/phi_short_reduce.csv\")"
   ]
  },
  {
   "cell_type": "code",
   "execution_count": null,
   "metadata": {},
   "outputs": [],
   "source": [
    "df['site']"
   ]
  }
 ],
 "metadata": {
  "kernelspec": {
   "display_name": "Python 3",
   "language": "python",
   "name": "python3"
  },
  "language_info": {
   "codemirror_mode": {
    "name": "ipython",
    "version": 3
   },
   "file_extension": ".py",
   "mimetype": "text/x-python",
   "name": "python",
   "nbconvert_exporter": "python",
   "pygments_lexer": "ipython3",
   "version": "3.10.13"
  }
 },
 "nbformat": 4,
 "nbformat_minor": 2
}
