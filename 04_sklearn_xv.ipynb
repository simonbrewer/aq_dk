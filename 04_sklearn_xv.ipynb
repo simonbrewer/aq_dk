{
 "cells": [
  {
   "cell_type": "markdown",
   "metadata": {},
   "source": [
    "# Basis functions and scikit-learn"
   ]
  },
  {
   "cell_type": "markdown",
   "metadata": {},
   "source": []
  },
  {
   "cell_type": "code",
   "execution_count": 1,
   "metadata": {},
   "outputs": [],
   "source": [
    "import numpy as np\n",
    "import matplotlib.pyplot as plt\n",
    "import pandas as pd\n",
    "\n",
    "from sklearn.model_selection import train_test_split\n",
    "from sklearn import ensemble\n",
    "from sklearn.metrics import mean_absolute_error\n",
    "from sklearn.metrics import mean_squared_error"
   ]
  },
  {
   "cell_type": "markdown",
   "metadata": {},
   "source": [
    "## Load data"
   ]
  },
  {
   "cell_type": "code",
   "execution_count": 2,
   "metadata": {},
   "outputs": [
    {
     "data": {
      "text/html": [
       "<div>\n",
       "<style scoped>\n",
       "    .dataframe tbody tr th:only-of-type {\n",
       "        vertical-align: middle;\n",
       "    }\n",
       "\n",
       "    .dataframe tbody tr th {\n",
       "        vertical-align: top;\n",
       "    }\n",
       "\n",
       "    .dataframe thead th {\n",
       "        text-align: right;\n",
       "    }\n",
       "</style>\n",
       "<table border=\"1\" class=\"dataframe\">\n",
       "  <thead>\n",
       "    <tr style=\"text-align: right;\">\n",
       "      <th></th>\n",
       "      <th>Unnamed: 0</th>\n",
       "      <th>0</th>\n",
       "      <th>1</th>\n",
       "      <th>2</th>\n",
       "      <th>3</th>\n",
       "      <th>4</th>\n",
       "      <th>5</th>\n",
       "      <th>6</th>\n",
       "      <th>7</th>\n",
       "      <th>8</th>\n",
       "      <th>...</th>\n",
       "      <th>854</th>\n",
       "      <th>855</th>\n",
       "      <th>856</th>\n",
       "      <th>857</th>\n",
       "      <th>858</th>\n",
       "      <th>859</th>\n",
       "      <th>860</th>\n",
       "      <th>y</th>\n",
       "      <th>site</th>\n",
       "      <th>date</th>\n",
       "    </tr>\n",
       "  </thead>\n",
       "  <tbody>\n",
       "    <tr>\n",
       "      <th>0</th>\n",
       "      <td>0</td>\n",
       "      <td>1.000000</td>\n",
       "      <td>0.997378</td>\n",
       "      <td>0.989553</td>\n",
       "      <td>0.976648</td>\n",
       "      <td>0.958862</td>\n",
       "      <td>0.936470</td>\n",
       "      <td>0.909811</td>\n",
       "      <td>0.879282</td>\n",
       "      <td>0.845327</td>\n",
       "      <td>...</td>\n",
       "      <td>0.0</td>\n",
       "      <td>0.0</td>\n",
       "      <td>0.0</td>\n",
       "      <td>0.0</td>\n",
       "      <td>0.0</td>\n",
       "      <td>0.0</td>\n",
       "      <td>0.0</td>\n",
       "      <td>0.014</td>\n",
       "      <td>2005</td>\n",
       "      <td>2023-01-01</td>\n",
       "    </tr>\n",
       "    <tr>\n",
       "      <th>1</th>\n",
       "      <td>1</td>\n",
       "      <td>1.000000</td>\n",
       "      <td>0.997433</td>\n",
       "      <td>0.989662</td>\n",
       "      <td>0.976809</td>\n",
       "      <td>0.959074</td>\n",
       "      <td>0.936729</td>\n",
       "      <td>0.910113</td>\n",
       "      <td>0.879622</td>\n",
       "      <td>0.845701</td>\n",
       "      <td>...</td>\n",
       "      <td>0.0</td>\n",
       "      <td>0.0</td>\n",
       "      <td>0.0</td>\n",
       "      <td>0.0</td>\n",
       "      <td>0.0</td>\n",
       "      <td>0.0</td>\n",
       "      <td>0.0</td>\n",
       "      <td>0.007</td>\n",
       "      <td>2005</td>\n",
       "      <td>2023-01-01</td>\n",
       "    </tr>\n",
       "    <tr>\n",
       "      <th>2</th>\n",
       "      <td>2</td>\n",
       "      <td>0.999999</td>\n",
       "      <td>0.997487</td>\n",
       "      <td>0.989771</td>\n",
       "      <td>0.976971</td>\n",
       "      <td>0.959285</td>\n",
       "      <td>0.936987</td>\n",
       "      <td>0.910414</td>\n",
       "      <td>0.879962</td>\n",
       "      <td>0.846074</td>\n",
       "      <td>...</td>\n",
       "      <td>0.0</td>\n",
       "      <td>0.0</td>\n",
       "      <td>0.0</td>\n",
       "      <td>0.0</td>\n",
       "      <td>0.0</td>\n",
       "      <td>0.0</td>\n",
       "      <td>0.0</td>\n",
       "      <td>0.002</td>\n",
       "      <td>2005</td>\n",
       "      <td>2023-01-01</td>\n",
       "    </tr>\n",
       "    <tr>\n",
       "      <th>3</th>\n",
       "      <td>3</td>\n",
       "      <td>0.999997</td>\n",
       "      <td>0.997541</td>\n",
       "      <td>0.989879</td>\n",
       "      <td>0.977131</td>\n",
       "      <td>0.959496</td>\n",
       "      <td>0.937245</td>\n",
       "      <td>0.910715</td>\n",
       "      <td>0.880302</td>\n",
       "      <td>0.846447</td>\n",
       "      <td>...</td>\n",
       "      <td>0.0</td>\n",
       "      <td>0.0</td>\n",
       "      <td>0.0</td>\n",
       "      <td>0.0</td>\n",
       "      <td>0.0</td>\n",
       "      <td>0.0</td>\n",
       "      <td>0.0</td>\n",
       "      <td>0.009</td>\n",
       "      <td>2005</td>\n",
       "      <td>2023-01-01</td>\n",
       "    </tr>\n",
       "    <tr>\n",
       "      <th>4</th>\n",
       "      <td>4</td>\n",
       "      <td>0.999995</td>\n",
       "      <td>0.997594</td>\n",
       "      <td>0.989986</td>\n",
       "      <td>0.977291</td>\n",
       "      <td>0.959707</td>\n",
       "      <td>0.937502</td>\n",
       "      <td>0.911016</td>\n",
       "      <td>0.880641</td>\n",
       "      <td>0.846820</td>\n",
       "      <td>...</td>\n",
       "      <td>0.0</td>\n",
       "      <td>0.0</td>\n",
       "      <td>0.0</td>\n",
       "      <td>0.0</td>\n",
       "      <td>0.0</td>\n",
       "      <td>0.0</td>\n",
       "      <td>0.0</td>\n",
       "      <td>0.011</td>\n",
       "      <td>2005</td>\n",
       "      <td>2023-01-01</td>\n",
       "    </tr>\n",
       "  </tbody>\n",
       "</table>\n",
       "<p>5 rows × 865 columns</p>\n",
       "</div>"
      ],
      "text/plain": [
       "   Unnamed: 0         0         1         2         3         4         5  \\\n",
       "0           0  1.000000  0.997378  0.989553  0.976648  0.958862  0.936470   \n",
       "1           1  1.000000  0.997433  0.989662  0.976809  0.959074  0.936729   \n",
       "2           2  0.999999  0.997487  0.989771  0.976971  0.959285  0.936987   \n",
       "3           3  0.999997  0.997541  0.989879  0.977131  0.959496  0.937245   \n",
       "4           4  0.999995  0.997594  0.989986  0.977291  0.959707  0.937502   \n",
       "\n",
       "          6         7         8  ...  854  855  856  857  858  859  860  \\\n",
       "0  0.909811  0.879282  0.845327  ...  0.0  0.0  0.0  0.0  0.0  0.0  0.0   \n",
       "1  0.910113  0.879622  0.845701  ...  0.0  0.0  0.0  0.0  0.0  0.0  0.0   \n",
       "2  0.910414  0.879962  0.846074  ...  0.0  0.0  0.0  0.0  0.0  0.0  0.0   \n",
       "3  0.910715  0.880302  0.846447  ...  0.0  0.0  0.0  0.0  0.0  0.0  0.0   \n",
       "4  0.911016  0.880641  0.846820  ...  0.0  0.0  0.0  0.0  0.0  0.0  0.0   \n",
       "\n",
       "       y  site        date  \n",
       "0  0.014  2005  2023-01-01  \n",
       "1  0.007  2005  2023-01-01  \n",
       "2  0.002  2005  2023-01-01  \n",
       "3  0.009  2005  2023-01-01  \n",
       "4  0.011  2005  2023-01-01  \n",
       "\n",
       "[5 rows x 865 columns]"
      ]
     },
     "execution_count": 2,
     "metadata": {},
     "output_type": "execute_result"
    }
   ],
   "source": [
    "dat = pd.read_csv(\"./rbfs/phi_reduce.csv\")\n",
    "dat.head()"
   ]
  },
  {
   "cell_type": "code",
   "execution_count": 3,
   "metadata": {},
   "outputs": [
    {
     "data": {
      "text/plain": [
       "(51821, 865)"
      ]
     },
     "execution_count": 3,
     "metadata": {},
     "output_type": "execute_result"
    }
   ],
   "source": [
    "dat.shape"
   ]
  },
  {
   "cell_type": "code",
   "execution_count": 4,
   "metadata": {},
   "outputs": [
    {
     "name": "stdout",
     "output_type": "stream",
     "text": [
      "(45330, 865)\n"
     ]
    }
   ],
   "source": [
    "## Alternate for site samples\n",
    "train = dat[dat.site != 2005]\n",
    "print(train.shape)\n",
    "X_train = train.iloc[:, 1:862]\n",
    "y_train = train['y']"
   ]
  },
  {
   "cell_type": "code",
   "execution_count": 5,
   "metadata": {},
   "outputs": [
    {
     "name": "stdout",
     "output_type": "stream",
     "text": [
      "(6491, 865)\n"
     ]
    }
   ],
   "source": [
    "## Alternate for site samples\n",
    "test = dat[dat.site == 2005]\n",
    "print(test.shape)\n",
    "X_test = test.iloc[:, 1:862]\n",
    "y_test = test['y']"
   ]
  },
  {
   "cell_type": "code",
   "execution_count": 6,
   "metadata": {},
   "outputs": [],
   "source": [
    "aq_rf = ensemble.RandomForestRegressor()"
   ]
  },
  {
   "cell_type": "code",
   "execution_count": 7,
   "metadata": {},
   "outputs": [],
   "source": [
    "aq_rf.fit(X_train, y_train)"
   ]
  },
  {
   "cell_type": "code",
   "execution_count": null,
   "metadata": {},
   "outputs": [],
   "source": [
    "y_test2 = y_test.reshape(1, -1)"
   ]
  },
  {
   "cell_type": "code",
   "execution_count": null,
   "metadata": {},
   "outputs": [],
   "source": [
    "y_test_pred = aq_rf.predict(X_test)"
   ]
  },
  {
   "cell_type": "code",
   "execution_count": null,
   "metadata": {},
   "outputs": [],
   "source": [
    "plt.plot(y_test, y_test_pred, 'bo')\n",
    "plt.axline((0,0), slope=1)\n",
    "plt.show()"
   ]
  },
  {
   "cell_type": "code",
   "execution_count": null,
   "metadata": {},
   "outputs": [],
   "source": [
    "print(f\"MAE: {mean_absolute_error(y_test, y_test_pred):.4f}\")\n",
    "print(f\"MSE: {mean_squared_error(y_test, y_test_pred):.4f}\")"
   ]
  },
  {
   "cell_type": "code",
   "execution_count": null,
   "metadata": {},
   "outputs": [],
   "source": [
    "plt.plot(y_test[0:200])\n",
    "plt.plot(y_test_pred[0:200])\n",
    "plt.show()"
   ]
  },
  {
   "cell_type": "markdown",
   "metadata": {},
   "source": []
  },
  {
   "cell_type": "code",
   "execution_count": null,
   "metadata": {},
   "outputs": [],
   "source": [
    "y_train_pred = aq_rf.predict(X_train)\n",
    "plt.plot(y_train, y_train_pred, 'bo')\n",
    "plt.axline((0,0), slope=1)\n",
    "plt.show()"
   ]
  }
 ],
 "metadata": {
  "kernelspec": {
   "display_name": "dk",
   "language": "python",
   "name": "python3"
  },
  "language_info": {
   "codemirror_mode": {
    "name": "ipython",
    "version": 3
   },
   "file_extension": ".py",
   "mimetype": "text/x-python",
   "name": "python",
   "nbconvert_exporter": "python",
   "pygments_lexer": "ipython3",
   "version": "3.10.13"
  }
 },
 "nbformat": 4,
 "nbformat_minor": 2
}
