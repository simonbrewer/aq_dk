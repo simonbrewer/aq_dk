{
 "cells": [
  {
   "cell_type": "markdown",
   "metadata": {},
   "source": [
    "# Simple regression with TensorFlow"
   ]
  },
  {
   "cell_type": "markdown",
   "metadata": {},
   "source": [
    "Progressive example working through various network set ups\n",
    "\n",
    "https://towardsdatascience.com/training-neural-networks-for-price-prediction-with-tensorflow-8aafe0c55198"
   ]
  },
  {
   "cell_type": "code",
   "execution_count": 1,
   "metadata": {},
   "outputs": [],
   "source": [
    "import numpy as np\n",
    "import matplotlib.pyplot as plt"
   ]
  },
  {
   "cell_type": "code",
   "execution_count": 2,
   "metadata": {},
   "outputs": [
    {
     "name": "stdout",
     "output_type": "stream",
     "text": [
      "2.13.1\n"
     ]
    }
   ],
   "source": [
    "import tensorflow as tf\n",
    "\n",
    "from tensorflow import keras\n",
    "from tensorflow.keras import layers\n",
    "\n",
    "print(tf.__version__)"
   ]
  },
  {
   "cell_type": "code",
   "execution_count": 3,
   "metadata": {},
   "outputs": [],
   "source": [
    "from sklearn.metrics import mean_absolute_error\n",
    "from sklearn.metrics import mean_squared_error"
   ]
  },
  {
   "cell_type": "code",
   "execution_count": 4,
   "metadata": {},
   "outputs": [],
   "source": [
    "X = np.load(\"./rbfs/phi_reduce.npy\")\n",
    "y = np.load(\"./rbfs/y.npy\")"
   ]
  },
  {
   "cell_type": "code",
   "execution_count": 16,
   "metadata": {},
   "outputs": [
    {
     "data": {
      "text/plain": [
       "-0.001"
      ]
     },
     "execution_count": 16,
     "metadata": {},
     "output_type": "execute_result"
    }
   ],
   "source": [
    "y.min()"
   ]
  },
  {
   "cell_type": "code",
   "execution_count": 5,
   "metadata": {},
   "outputs": [
    {
     "data": {
      "text/plain": [
       "(array([2.8090e+03, 4.0340e+03, 9.2550e+03, 1.3645e+04, 1.2332e+04,\n",
       "        7.3420e+03, 2.0200e+03, 3.2900e+02, 4.8000e+01, 7.0000e+00]),\n",
       " array([-0.001 ,  0.0094,  0.0198,  0.0302,  0.0406,  0.051 ,  0.0614,\n",
       "         0.0718,  0.0822,  0.0926,  0.103 ]),\n",
       " <BarContainer object of 10 artists>)"
      ]
     },
     "execution_count": 5,
     "metadata": {},
     "output_type": "execute_result"
    },
    {
     "data": {
      "image/png": "[encoded data removed]",
      "text/plain": [
       "<Figure size 640x480 with 1 Axes>"
      ]
     },
     "metadata": {},
     "output_type": "display_data"
    }
   ],
   "source": [
    "plt.hist(y)"
   ]
  },
  {
   "cell_type": "code",
   "execution_count": 6,
   "metadata": {},
   "outputs": [],
   "source": [
    "from sklearn.model_selection import train_test_split\n",
    "X_train, X_test, y_train, y_test = train_test_split(X, y,\n",
    "                                                    train_size = 0.8, random_state=42)"
   ]
  },
  {
   "cell_type": "markdown",
   "metadata": {},
   "source": [
    "## TensorFlow"
   ]
  },
  {
   "cell_type": "code",
   "execution_count": 7,
   "metadata": {},
   "outputs": [],
   "source": [
    "# Set random seed\n",
    "tf.random.set_seed(42)\n",
    "from keras import Sequential\n",
    "from keras import models\n",
    "from keras import layers"
   ]
  },
  {
   "cell_type": "code",
   "execution_count": 8,
   "metadata": {},
   "outputs": [],
   "source": [
    "n_feat = X_train.shape[1]"
   ]
  },
  {
   "cell_type": "markdown",
   "metadata": {},
   "source": [
    "### Model 1 (Simple TF regression)"
   ]
  },
  {
   "cell_type": "code",
   "execution_count": 9,
   "metadata": {},
   "outputs": [
    {
     "name": "stdout",
     "output_type": "stream",
     "text": [
      "Model: \"sequential\"\n",
      "_________________________________________________________________\n",
      " Layer (type)                Output Shape              Param #   \n",
      "=================================================================\n",
      " dense (Dense)               (None, 512)               103424    \n",
      "                                                                 \n",
      " dense_1 (Dense)             (None, 512)               262656    \n",
      "                                                                 \n",
      " dense_2 (Dense)             (None, 256)               131328    \n",
      "                                                                 \n",
      " dense_3 (Dense)             (None, 256)               65792     \n",
      "                                                                 \n",
      " dense_4 (Dense)             (None, 128)               32896     \n",
      "                                                                 \n",
      " dense_5 (Dense)             (None, 1)                 129       \n",
      "                                                                 \n",
      "=================================================================\n",
      "Total params: 596225 (2.27 MB)\n",
      "Trainable params: 596225 (2.27 MB)\n",
      "Non-trainable params: 0 (0.00 Byte)\n",
      "_________________________________________________________________\n"
     ]
    }
   ],
   "source": [
    "model = models.Sequential([\n",
    "  layers.Dense(512, activation='relu', input_shape=(n_feat,)),\n",
    "  layers.Dense(512, activation='relu'),\n",
    "  layers.Dense(256, activation='relu'),\n",
    "  layers.Dense(256, activation='relu'),\n",
    "  layers.Dense(128, activation='relu'),\n",
    "  layers.Dense(1, activation='linear')\n",
    "], name=\"Initial_model\")\n",
    "model.summary()"
   ]
  },
  {
   "cell_type": "code",
   "execution_count": 11,
   "metadata": {},
   "outputs": [],
   "source": [
    "# Compile the model\n",
    "model.compile(loss='mae', metrics=['mae', 'mse'], optimizer='adam')"
   ]
  },
  {
   "cell_type": "code",
   "execution_count": 12,
   "metadata": {},
   "outputs": [
    {
     "name": "stdout",
     "output_type": "stream",
     "text": [
      "Epoch 1/200\n",
      "33/33 [==============================] - 1s 17ms/step - loss: 0.0336 - mae: 0.0336 - mse: 0.0043 - val_loss: 0.0104 - val_mae: 0.0104 - val_mse: 1.7484e-04\n",
      "Epoch 2/200\n",
      "33/33 [==============================] - 0s 14ms/step - loss: 0.0104 - mae: 0.0104 - mse: 1.7536e-04 - val_loss: 0.0101 - val_mae: 0.0101 - val_mse: 1.6575e-04\n",
      "Epoch 3/200\n",
      "33/33 [==============================] - 0s 14ms/step - loss: 0.0102 - mae: 0.0102 - mse: 1.6948e-04 - val_loss: 0.0100 - val_mae: 0.0100 - val_mse: 1.6536e-04\n",
      "Epoch 4/200\n",
      "33/33 [==============================] - 0s 14ms/step - loss: 0.0102 - mae: 0.0102 - mse: 1.6954e-04 - val_loss: 0.0101 - val_mae: 0.0101 - val_mse: 1.6290e-04\n",
      "Epoch 5/200\n",
      "33/33 [==============================] - 1s 15ms/step - loss: 0.0102 - mae: 0.0102 - mse: 1.6879e-04 - val_loss: 0.0101 - val_mae: 0.0101 - val_mse: 1.6280e-04\n",
      "Epoch 6/200\n",
      "33/33 [==============================] - 1s 16ms/step - loss: 0.0102 - mae: 0.0102 - mse: 1.6771e-04 - val_loss: 0.0101 - val_mae: 0.0101 - val_mse: 1.6618e-04\n",
      "Epoch 7/200\n",
      "33/33 [==============================] - 1s 16ms/step - loss: 0.0102 - mae: 0.0102 - mse: 1.6981e-04 - val_loss: 0.0101 - val_mae: 0.0101 - val_mse: 1.6808e-04\n",
      "Epoch 8/200\n",
      "33/33 [==============================] - 1s 15ms/step - loss: 0.0103 - mae: 0.0103 - mse: 1.7047e-04 - val_loss: 0.0101 - val_mae: 0.0101 - val_mse: 1.6540e-04\n",
      "Epoch 9/200\n",
      "33/33 [==============================] - 0s 14ms/step - loss: 0.0102 - mae: 0.0102 - mse: 1.6925e-04 - val_loss: 0.0100 - val_mae: 0.0100 - val_mse: 1.6612e-04\n",
      "Epoch 10/200\n",
      "33/33 [==============================] - 0s 15ms/step - loss: 0.0102 - mae: 0.0102 - mse: 1.6984e-04 - val_loss: 0.0100 - val_mae: 0.0100 - val_mse: 1.6157e-04\n",
      "Epoch 11/200\n",
      "33/33 [==============================] - 1s 15ms/step - loss: 0.0102 - mae: 0.0102 - mse: 1.6932e-04 - val_loss: 0.0102 - val_mae: 0.0102 - val_mse: 1.6292e-04\n",
      "Epoch 12/200\n",
      "33/33 [==============================] - 0s 15ms/step - loss: 0.0102 - mae: 0.0102 - mse: 1.6907e-04 - val_loss: 0.0101 - val_mae: 0.0101 - val_mse: 1.6849e-04\n",
      "Epoch 13/200\n",
      "33/33 [==============================] - 0s 15ms/step - loss: 0.0102 - mae: 0.0102 - mse: 1.6870e-04 - val_loss: 0.0102 - val_mae: 0.0102 - val_mse: 1.6169e-04\n",
      "Epoch 14/200\n",
      "33/33 [==============================] - 1s 17ms/step - loss: 0.0102 - mae: 0.0102 - mse: 1.6844e-04 - val_loss: 0.0100 - val_mae: 0.0100 - val_mse: 1.6490e-04\n",
      "Epoch 15/200\n",
      "33/33 [==============================] - 1s 17ms/step - loss: 0.0102 - mae: 0.0102 - mse: 1.6832e-04 - val_loss: 0.0100 - val_mae: 0.0100 - val_mse: 1.6363e-04\n",
      "Epoch 16/200\n",
      "33/33 [==============================] - 1s 18ms/step - loss: 0.0102 - mae: 0.0102 - mse: 1.6847e-04 - val_loss: 0.0100 - val_mae: 0.0100 - val_mse: 1.6170e-04\n",
      "Epoch 17/200\n",
      "33/33 [==============================] - 1s 16ms/step - loss: 0.0102 - mae: 0.0102 - mse: 1.6893e-04 - val_loss: 0.0100 - val_mae: 0.0100 - val_mse: 1.6608e-04\n",
      "Epoch 18/200\n",
      "33/33 [==============================] - 1s 16ms/step - loss: 0.0102 - mae: 0.0102 - mse: 1.6767e-04 - val_loss: 0.0100 - val_mae: 0.0100 - val_mse: 1.6467e-04\n",
      "Epoch 19/200\n",
      "33/33 [==============================] - 1s 16ms/step - loss: 0.0102 - mae: 0.0102 - mse: 1.6853e-04 - val_loss: 0.0102 - val_mae: 0.0102 - val_mse: 1.6425e-04\n",
      "Epoch 20/200\n",
      "33/33 [==============================] - 1s 18ms/step - loss: 0.0102 - mae: 0.0102 - mse: 1.6903e-04 - val_loss: 0.0101 - val_mae: 0.0101 - val_mse: 1.7171e-04\n",
      "Epoch 21/200\n",
      "33/33 [==============================] - 1s 17ms/step - loss: 0.0102 - mae: 0.0102 - mse: 1.6750e-04 - val_loss: 0.0101 - val_mae: 0.0101 - val_mse: 1.6464e-04\n",
      "Epoch 22/200\n",
      "33/33 [==============================] - 1s 16ms/step - loss: 0.0102 - mae: 0.0102 - mse: 1.6783e-04 - val_loss: 0.0102 - val_mae: 0.0102 - val_mse: 1.6661e-04\n",
      "Epoch 23/200\n",
      "33/33 [==============================] - 1s 17ms/step - loss: 0.0101 - mae: 0.0101 - mse: 1.6716e-04 - val_loss: 0.0099 - val_mae: 0.0099 - val_mse: 1.6289e-04\n",
      "Epoch 24/200\n",
      "33/33 [==============================] - 1s 16ms/step - loss: 0.0101 - mae: 0.0101 - mse: 1.6677e-04 - val_loss: 0.0100 - val_mae: 0.0100 - val_mse: 1.6267e-04\n",
      "Epoch 25/200\n",
      "33/33 [==============================] - 1s 19ms/step - loss: 0.0102 - mae: 0.0102 - mse: 1.6793e-04 - val_loss: 0.0102 - val_mae: 0.0102 - val_mse: 1.7575e-04\n",
      "Epoch 26/200\n",
      "33/33 [==============================] - 1s 18ms/step - loss: 0.0102 - mae: 0.0102 - mse: 1.6770e-04 - val_loss: 0.0101 - val_mae: 0.0101 - val_mse: 1.7090e-04\n",
      "Epoch 27/200\n",
      "33/33 [==============================] - 1s 16ms/step - loss: 0.0102 - mae: 0.0102 - mse: 1.6743e-04 - val_loss: 0.0100 - val_mae: 0.0100 - val_mse: 1.6953e-04\n",
      "Epoch 28/200\n",
      "33/33 [==============================] - 1s 17ms/step - loss: 0.0101 - mae: 0.0101 - mse: 1.6778e-04 - val_loss: 0.0101 - val_mae: 0.0101 - val_mse: 1.6358e-04\n",
      "Epoch 29/200\n",
      "33/33 [==============================] - 1s 19ms/step - loss: 0.0102 - mae: 0.0102 - mse: 1.6736e-04 - val_loss: 0.0100 - val_mae: 0.0100 - val_mse: 1.6164e-04\n",
      "Epoch 30/200\n",
      "33/33 [==============================] - 1s 19ms/step - loss: 0.0102 - mae: 0.0102 - mse: 1.6771e-04 - val_loss: 0.0099 - val_mae: 0.0099 - val_mse: 1.6198e-04\n",
      "Epoch 31/200\n",
      "33/33 [==============================] - 1s 17ms/step - loss: 0.0101 - mae: 0.0101 - mse: 1.6624e-04 - val_loss: 0.0099 - val_mae: 0.0099 - val_mse: 1.6394e-04\n",
      "Epoch 32/200\n",
      "33/33 [==============================] - 1s 17ms/step - loss: 0.0101 - mae: 0.0101 - mse: 1.6639e-04 - val_loss: 0.0100 - val_mae: 0.0100 - val_mse: 1.6263e-04\n",
      "Epoch 33/200\n",
      "33/33 [==============================] - 1s 16ms/step - loss: 0.0101 - mae: 0.0101 - mse: 1.6639e-04 - val_loss: 0.0100 - val_mae: 0.0100 - val_mse: 1.6213e-04\n",
      "Epoch 34/200\n",
      "33/33 [==============================] - 1s 17ms/step - loss: 0.0101 - mae: 0.0101 - mse: 1.6719e-04 - val_loss: 0.0100 - val_mae: 0.0100 - val_mse: 1.6319e-04\n",
      "Epoch 35/200\n",
      "33/33 [==============================] - 1s 17ms/step - loss: 0.0101 - mae: 0.0101 - mse: 1.6640e-04 - val_loss: 0.0099 - val_mae: 0.0099 - val_mse: 1.6114e-04\n",
      "Epoch 36/200\n",
      "33/33 [==============================] - 1s 18ms/step - loss: 0.0102 - mae: 0.0102 - mse: 1.6783e-04 - val_loss: 0.0100 - val_mae: 0.0100 - val_mse: 1.6140e-04\n",
      "Epoch 37/200\n",
      "33/33 [==============================] - 1s 19ms/step - loss: 0.0101 - mae: 0.0101 - mse: 1.6590e-04 - val_loss: 0.0100 - val_mae: 0.0100 - val_mse: 1.6207e-04\n",
      "Epoch 38/200\n",
      "33/33 [==============================] - 1s 18ms/step - loss: 0.0101 - mae: 0.0101 - mse: 1.6679e-04 - val_loss: 0.0099 - val_mae: 0.0099 - val_mse: 1.6265e-04\n",
      "Epoch 39/200\n",
      "33/33 [==============================] - 0s 15ms/step - loss: 0.0101 - mae: 0.0101 - mse: 1.6729e-04 - val_loss: 0.0100 - val_mae: 0.0100 - val_mse: 1.6450e-04\n",
      "Epoch 40/200\n",
      "33/33 [==============================] - 1s 15ms/step - loss: 0.0101 - mae: 0.0101 - mse: 1.6686e-04 - val_loss: 0.0100 - val_mae: 0.0100 - val_mse: 1.6555e-04\n",
      "Epoch 41/200\n",
      "33/33 [==============================] - 1s 18ms/step - loss: 0.0101 - mae: 0.0101 - mse: 1.6598e-04 - val_loss: 0.0100 - val_mae: 0.0100 - val_mse: 1.6034e-04\n",
      "Epoch 42/200\n",
      "33/33 [==============================] - 0s 15ms/step - loss: 0.0101 - mae: 0.0101 - mse: 1.6739e-04 - val_loss: 0.0100 - val_mae: 0.0100 - val_mse: 1.6314e-04\n",
      "Epoch 43/200\n",
      "33/33 [==============================] - 1s 16ms/step - loss: 0.0101 - mae: 0.0101 - mse: 1.6599e-04 - val_loss: 0.0100 - val_mae: 0.0100 - val_mse: 1.6168e-04\n",
      "Epoch 44/200\n",
      "33/33 [==============================] - 1s 15ms/step - loss: 0.0101 - mae: 0.0101 - mse: 1.6545e-04 - val_loss: 0.0100 - val_mae: 0.0100 - val_mse: 1.6101e-04\n",
      "Epoch 45/200\n",
      "33/33 [==============================] - 0s 15ms/step - loss: 0.0101 - mae: 0.0101 - mse: 1.6682e-04 - val_loss: 0.0099 - val_mae: 0.0099 - val_mse: 1.6291e-04\n",
      "Epoch 46/200\n",
      "33/33 [==============================] - 0s 15ms/step - loss: 0.0101 - mae: 0.0101 - mse: 1.6580e-04 - val_loss: 0.0100 - val_mae: 0.0100 - val_mse: 1.6068e-04\n",
      "Epoch 47/200\n",
      "33/33 [==============================] - 1s 17ms/step - loss: 0.0101 - mae: 0.0101 - mse: 1.6708e-04 - val_loss: 0.0101 - val_mae: 0.0101 - val_mse: 1.6247e-04\n",
      "Epoch 48/200\n",
      "33/33 [==============================] - 1s 16ms/step - loss: 0.0101 - mae: 0.0101 - mse: 1.6624e-04 - val_loss: 0.0099 - val_mae: 0.0099 - val_mse: 1.6110e-04\n",
      "Epoch 49/200\n",
      "33/33 [==============================] - 1s 15ms/step - loss: 0.0101 - mae: 0.0101 - mse: 1.6555e-04 - val_loss: 0.0100 - val_mae: 0.0100 - val_mse: 1.6092e-04\n",
      "Epoch 50/200\n",
      "33/33 [==============================] - 1s 18ms/step - loss: 0.0101 - mae: 0.0101 - mse: 1.6588e-04 - val_loss: 0.0100 - val_mae: 0.0100 - val_mse: 1.6137e-04\n",
      "Epoch 51/200\n",
      "33/33 [==============================] - 1s 16ms/step - loss: 0.0101 - mae: 0.0101 - mse: 1.6498e-04 - val_loss: 0.0100 - val_mae: 0.0100 - val_mse: 1.6566e-04\n",
      "Epoch 52/200\n",
      "33/33 [==============================] - 1s 16ms/step - loss: 0.0101 - mae: 0.0101 - mse: 1.6563e-04 - val_loss: 0.0099 - val_mae: 0.0099 - val_mse: 1.6290e-04\n",
      "Epoch 53/200\n",
      "33/33 [==============================] - 1s 17ms/step - loss: 0.0100 - mae: 0.0100 - mse: 1.6509e-04 - val_loss: 0.0099 - val_mae: 0.0099 - val_mse: 1.5964e-04\n",
      "Epoch 54/200\n",
      "33/33 [==============================] - 1s 16ms/step - loss: 0.0101 - mae: 0.0101 - mse: 1.6610e-04 - val_loss: 0.0099 - val_mae: 0.0099 - val_mse: 1.6388e-04\n",
      "Epoch 55/200\n",
      "33/33 [==============================] - 1s 17ms/step - loss: 0.0101 - mae: 0.0101 - mse: 1.6507e-04 - val_loss: 0.0099 - val_mae: 0.0099 - val_mse: 1.6058e-04\n",
      "Epoch 56/200\n",
      "33/33 [==============================] - 1s 18ms/step - loss: 0.0101 - mae: 0.0101 - mse: 1.6472e-04 - val_loss: 0.0099 - val_mae: 0.0099 - val_mse: 1.6101e-04\n",
      "Epoch 57/200\n",
      "33/33 [==============================] - 1s 17ms/step - loss: 0.0101 - mae: 0.0101 - mse: 1.6519e-04 - val_loss: 0.0100 - val_mae: 0.0100 - val_mse: 1.6508e-04\n",
      "Epoch 58/200\n",
      "33/33 [==============================] - 1s 18ms/step - loss: 0.0101 - mae: 0.0101 - mse: 1.6518e-04 - val_loss: 0.0099 - val_mae: 0.0099 - val_mse: 1.6243e-04\n",
      "Epoch 59/200\n",
      "33/33 [==============================] - 1s 17ms/step - loss: 0.0101 - mae: 0.0101 - mse: 1.6541e-04 - val_loss: 0.0101 - val_mae: 0.0101 - val_mse: 1.6241e-04\n",
      "Epoch 60/200\n",
      "33/33 [==============================] - 1s 17ms/step - loss: 0.0101 - mae: 0.0101 - mse: 1.6676e-04 - val_loss: 0.0100 - val_mae: 0.0100 - val_mse: 1.6239e-04\n",
      "Epoch 61/200\n",
      "33/33 [==============================] - 1s 17ms/step - loss: 0.0101 - mae: 0.0101 - mse: 1.6524e-04 - val_loss: 0.0100 - val_mae: 0.0100 - val_mse: 1.6068e-04\n",
      "Epoch 62/200\n",
      "33/33 [==============================] - 1s 17ms/step - loss: 0.0101 - mae: 0.0101 - mse: 1.6576e-04 - val_loss: 0.0099 - val_mae: 0.0099 - val_mse: 1.6293e-04\n",
      "Epoch 63/200\n",
      "33/33 [==============================] - 1s 18ms/step - loss: 0.0100 - mae: 0.0100 - mse: 1.6457e-04 - val_loss: 0.0099 - val_mae: 0.0099 - val_mse: 1.5909e-04\n",
      "Epoch 64/200\n",
      "33/33 [==============================] - 1s 18ms/step - loss: 0.0100 - mae: 0.0100 - mse: 1.6416e-04 - val_loss: 0.0099 - val_mae: 0.0099 - val_mse: 1.6278e-04\n",
      "Epoch 65/200\n",
      "33/33 [==============================] - 1s 18ms/step - loss: 0.0100 - mae: 0.0100 - mse: 1.6480e-04 - val_loss: 0.0100 - val_mae: 0.0100 - val_mse: 1.6970e-04\n",
      "Epoch 66/200\n",
      "33/33 [==============================] - 1s 20ms/step - loss: 0.0101 - mae: 0.0101 - mse: 1.6514e-04 - val_loss: 0.0099 - val_mae: 0.0099 - val_mse: 1.6274e-04\n",
      "Epoch 67/200\n",
      "33/33 [==============================] - 1s 17ms/step - loss: 0.0100 - mae: 0.0100 - mse: 1.6462e-04 - val_loss: 0.0100 - val_mae: 0.0100 - val_mse: 1.6629e-04\n",
      "Epoch 68/200\n",
      "33/33 [==============================] - 1s 18ms/step - loss: 0.0100 - mae: 0.0100 - mse: 1.6468e-04 - val_loss: 0.0100 - val_mae: 0.0100 - val_mse: 1.6342e-04\n",
      "Epoch 69/200\n",
      "33/33 [==============================] - 1s 18ms/step - loss: 0.0100 - mae: 0.0100 - mse: 1.6411e-04 - val_loss: 0.0099 - val_mae: 0.0099 - val_mse: 1.6513e-04\n",
      "Epoch 70/200\n",
      "33/33 [==============================] - 1s 17ms/step - loss: 0.0100 - mae: 0.0100 - mse: 1.6441e-04 - val_loss: 0.0099 - val_mae: 0.0099 - val_mse: 1.5931e-04\n",
      "Epoch 71/200\n",
      "33/33 [==============================] - 1s 18ms/step - loss: 0.0100 - mae: 0.0100 - mse: 1.6507e-04 - val_loss: 0.0099 - val_mae: 0.0099 - val_mse: 1.5895e-04\n",
      "Epoch 72/200\n",
      "33/33 [==============================] - 1s 17ms/step - loss: 0.0100 - mae: 0.0100 - mse: 1.6422e-04 - val_loss: 0.0099 - val_mae: 0.0099 - val_mse: 1.6486e-04\n",
      "Epoch 73/200\n",
      "33/33 [==============================] - 1s 18ms/step - loss: 0.0100 - mae: 0.0100 - mse: 1.6413e-04 - val_loss: 0.0099 - val_mae: 0.0099 - val_mse: 1.6112e-04\n",
      "Epoch 74/200\n",
      "33/33 [==============================] - 1s 17ms/step - loss: 0.0100 - mae: 0.0100 - mse: 1.6389e-04 - val_loss: 0.0099 - val_mae: 0.0099 - val_mse: 1.6034e-04\n",
      "Epoch 75/200\n",
      "33/33 [==============================] - 1s 18ms/step - loss: 0.0100 - mae: 0.0100 - mse: 1.6367e-04 - val_loss: 0.0100 - val_mae: 0.0100 - val_mse: 1.6184e-04\n",
      "Epoch 76/200\n",
      "33/33 [==============================] - 1s 17ms/step - loss: 0.0100 - mae: 0.0100 - mse: 1.6354e-04 - val_loss: 0.0100 - val_mae: 0.0100 - val_mse: 1.6095e-04\n",
      "Epoch 77/200\n",
      "33/33 [==============================] - 1s 19ms/step - loss: 0.0100 - mae: 0.0100 - mse: 1.6359e-04 - val_loss: 0.0099 - val_mae: 0.0099 - val_mse: 1.6122e-04\n",
      "Epoch 78/200\n",
      "33/33 [==============================] - 1s 18ms/step - loss: 0.0100 - mae: 0.0100 - mse: 1.6361e-04 - val_loss: 0.0100 - val_mae: 0.0100 - val_mse: 1.6548e-04\n",
      "Epoch 79/200\n",
      "33/33 [==============================] - 1s 18ms/step - loss: 0.0100 - mae: 0.0100 - mse: 1.6446e-04 - val_loss: 0.0099 - val_mae: 0.0099 - val_mse: 1.5972e-04\n",
      "Epoch 80/200\n",
      "33/33 [==============================] - 1s 18ms/step - loss: 0.0100 - mae: 0.0100 - mse: 1.6474e-04 - val_loss: 0.0099 - val_mae: 0.0099 - val_mse: 1.5941e-04\n",
      "Epoch 81/200\n",
      "33/33 [==============================] - 1s 18ms/step - loss: 0.0100 - mae: 0.0100 - mse: 1.6306e-04 - val_loss: 0.0099 - val_mae: 0.0099 - val_mse: 1.6105e-04\n",
      "Epoch 82/200\n",
      "33/33 [==============================] - 1s 17ms/step - loss: 0.0101 - mae: 0.0101 - mse: 1.6583e-04 - val_loss: 0.0099 - val_mae: 0.0099 - val_mse: 1.6209e-04\n",
      "Epoch 83/200\n",
      "33/33 [==============================] - 1s 20ms/step - loss: 0.0100 - mae: 0.0100 - mse: 1.6352e-04 - val_loss: 0.0098 - val_mae: 0.0098 - val_mse: 1.5974e-04\n",
      "Epoch 84/200\n",
      "33/33 [==============================] - 1s 18ms/step - loss: 0.0100 - mae: 0.0100 - mse: 1.6317e-04 - val_loss: 0.0099 - val_mae: 0.0099 - val_mse: 1.5914e-04\n",
      "Epoch 85/200\n",
      "33/33 [==============================] - 1s 19ms/step - loss: 0.0099 - mae: 0.0099 - mse: 1.6204e-04 - val_loss: 0.0099 - val_mae: 0.0099 - val_mse: 1.6443e-04\n",
      "Epoch 86/200\n",
      "33/33 [==============================] - 1s 17ms/step - loss: 0.0100 - mae: 0.0100 - mse: 1.6324e-04 - val_loss: 0.0100 - val_mae: 0.0100 - val_mse: 1.6151e-04\n",
      "Epoch 87/200\n",
      "33/33 [==============================] - 1s 17ms/step - loss: 0.0100 - mae: 0.0100 - mse: 1.6393e-04 - val_loss: 0.0099 - val_mae: 0.0099 - val_mse: 1.5886e-04\n",
      "Epoch 88/200\n",
      "33/33 [==============================] - 1s 19ms/step - loss: 0.0100 - mae: 0.0100 - mse: 1.6307e-04 - val_loss: 0.0099 - val_mae: 0.0099 - val_mse: 1.6291e-04\n",
      "Epoch 89/200\n",
      "33/33 [==============================] - 1s 18ms/step - loss: 0.0100 - mae: 0.0100 - mse: 1.6400e-04 - val_loss: 0.0098 - val_mae: 0.0098 - val_mse: 1.5858e-04\n",
      "Epoch 90/200\n",
      "33/33 [==============================] - 1s 20ms/step - loss: 0.0100 - mae: 0.0100 - mse: 1.6274e-04 - val_loss: 0.0099 - val_mae: 0.0099 - val_mse: 1.5911e-04\n",
      "Epoch 91/200\n",
      "33/33 [==============================] - 1s 19ms/step - loss: 0.0100 - mae: 0.0100 - mse: 1.6315e-04 - val_loss: 0.0099 - val_mae: 0.0099 - val_mse: 1.6043e-04\n",
      "Epoch 92/200\n",
      "33/33 [==============================] - 1s 18ms/step - loss: 0.0100 - mae: 0.0100 - mse: 1.6290e-04 - val_loss: 0.0099 - val_mae: 0.0099 - val_mse: 1.5952e-04\n",
      "Epoch 93/200\n",
      "33/33 [==============================] - 1s 16ms/step - loss: 0.0100 - mae: 0.0100 - mse: 1.6222e-04 - val_loss: 0.0099 - val_mae: 0.0099 - val_mse: 1.6078e-04\n",
      "Epoch 94/200\n",
      "33/33 [==============================] - 1s 16ms/step - loss: 0.0100 - mae: 0.0100 - mse: 1.6367e-04 - val_loss: 0.0098 - val_mae: 0.0098 - val_mse: 1.5835e-04\n",
      "Epoch 95/200\n",
      "33/33 [==============================] - 1s 18ms/step - loss: 0.0100 - mae: 0.0100 - mse: 1.6344e-04 - val_loss: 0.0100 - val_mae: 0.0100 - val_mse: 1.6557e-04\n",
      "Epoch 96/200\n",
      "33/33 [==============================] - 1s 22ms/step - loss: 0.0100 - mae: 0.0100 - mse: 1.6236e-04 - val_loss: 0.0099 - val_mae: 0.0099 - val_mse: 1.6064e-04\n",
      "Epoch 97/200\n",
      "33/33 [==============================] - 1s 18ms/step - loss: 0.0100 - mae: 0.0100 - mse: 1.6293e-04 - val_loss: 0.0099 - val_mae: 0.0099 - val_mse: 1.5918e-04\n",
      "Epoch 98/200\n",
      "33/33 [==============================] - 1s 16ms/step - loss: 0.0099 - mae: 0.0099 - mse: 1.6277e-04 - val_loss: 0.0098 - val_mae: 0.0098 - val_mse: 1.5833e-04\n",
      "Epoch 99/200\n",
      "33/33 [==============================] - 1s 15ms/step - loss: 0.0099 - mae: 0.0099 - mse: 1.6234e-04 - val_loss: 0.0099 - val_mae: 0.0099 - val_mse: 1.6151e-04\n",
      "Epoch 100/200\n",
      "33/33 [==============================] - 1s 17ms/step - loss: 0.0099 - mae: 0.0099 - mse: 1.6197e-04 - val_loss: 0.0098 - val_mae: 0.0098 - val_mse: 1.6047e-04\n",
      "Epoch 101/200\n",
      "33/33 [==============================] - 1s 16ms/step - loss: 0.0099 - mae: 0.0099 - mse: 1.6169e-04 - val_loss: 0.0099 - val_mae: 0.0099 - val_mse: 1.6188e-04\n",
      "Epoch 102/200\n",
      "33/33 [==============================] - 1s 18ms/step - loss: 0.0099 - mae: 0.0099 - mse: 1.6218e-04 - val_loss: 0.0100 - val_mae: 0.0100 - val_mse: 1.5888e-04\n",
      "Epoch 103/200\n",
      "33/33 [==============================] - 1s 17ms/step - loss: 0.0099 - mae: 0.0099 - mse: 1.6222e-04 - val_loss: 0.0098 - val_mae: 0.0098 - val_mse: 1.5822e-04\n",
      "Epoch 104/200\n",
      "33/33 [==============================] - 0s 14ms/step - loss: 0.0099 - mae: 0.0099 - mse: 1.6257e-04 - val_loss: 0.0098 - val_mae: 0.0098 - val_mse: 1.5868e-04\n",
      "Epoch 105/200\n",
      "33/33 [==============================] - 0s 14ms/step - loss: 0.0099 - mae: 0.0099 - mse: 1.6194e-04 - val_loss: 0.0098 - val_mae: 0.0098 - val_mse: 1.5749e-04\n",
      "Epoch 106/200\n",
      "33/33 [==============================] - 0s 14ms/step - loss: 0.0099 - mae: 0.0099 - mse: 1.6261e-04 - val_loss: 0.0098 - val_mae: 0.0098 - val_mse: 1.5610e-04\n",
      "Epoch 107/200\n",
      "33/33 [==============================] - 0s 14ms/step - loss: 0.0099 - mae: 0.0099 - mse: 1.6149e-04 - val_loss: 0.0098 - val_mae: 0.0098 - val_mse: 1.5914e-04\n",
      "Epoch 108/200\n",
      "33/33 [==============================] - 0s 15ms/step - loss: 0.0099 - mae: 0.0099 - mse: 1.6216e-04 - val_loss: 0.0099 - val_mae: 0.0099 - val_mse: 1.5890e-04\n",
      "Epoch 109/200\n",
      "33/33 [==============================] - 1s 17ms/step - loss: 0.0099 - mae: 0.0099 - mse: 1.6196e-04 - val_loss: 0.0098 - val_mae: 0.0098 - val_mse: 1.5838e-04\n",
      "Epoch 110/200\n",
      "33/33 [==============================] - 1s 18ms/step - loss: 0.0099 - mae: 0.0099 - mse: 1.6125e-04 - val_loss: 0.0098 - val_mae: 0.0098 - val_mse: 1.5702e-04\n",
      "Epoch 111/200\n",
      "33/33 [==============================] - 1s 15ms/step - loss: 0.0099 - mae: 0.0099 - mse: 1.6188e-04 - val_loss: 0.0099 - val_mae: 0.0099 - val_mse: 1.6162e-04\n",
      "Epoch 112/200\n",
      "33/33 [==============================] - 1s 16ms/step - loss: 0.0099 - mae: 0.0099 - mse: 1.6265e-04 - val_loss: 0.0098 - val_mae: 0.0098 - val_mse: 1.5912e-04\n",
      "Epoch 113/200\n",
      "33/33 [==============================] - 1s 17ms/step - loss: 0.0100 - mae: 0.0100 - mse: 1.6286e-04 - val_loss: 0.0099 - val_mae: 0.0099 - val_mse: 1.6073e-04\n",
      "Epoch 114/200\n",
      "33/33 [==============================] - 1s 16ms/step - loss: 0.0099 - mae: 0.0099 - mse: 1.6099e-04 - val_loss: 0.0098 - val_mae: 0.0098 - val_mse: 1.5902e-04\n",
      "Epoch 115/200\n",
      "33/33 [==============================] - 1s 17ms/step - loss: 0.0099 - mae: 0.0099 - mse: 1.6107e-04 - val_loss: 0.0098 - val_mae: 0.0098 - val_mse: 1.5867e-04\n",
      "Epoch 116/200\n",
      "33/33 [==============================] - 0s 15ms/step - loss: 0.0099 - mae: 0.0099 - mse: 1.6287e-04 - val_loss: 0.0098 - val_mae: 0.0098 - val_mse: 1.5770e-04\n",
      "Epoch 117/200\n",
      "33/33 [==============================] - 1s 16ms/step - loss: 0.0099 - mae: 0.0099 - mse: 1.6190e-04 - val_loss: 0.0099 - val_mae: 0.0099 - val_mse: 1.6291e-04\n",
      "Epoch 118/200\n",
      "33/33 [==============================] - 1s 16ms/step - loss: 0.0099 - mae: 0.0099 - mse: 1.6187e-04 - val_loss: 0.0100 - val_mae: 0.0100 - val_mse: 1.6933e-04\n",
      "Epoch 119/200\n",
      "33/33 [==============================] - 1s 15ms/step - loss: 0.0099 - mae: 0.0099 - mse: 1.6191e-04 - val_loss: 0.0099 - val_mae: 0.0099 - val_mse: 1.5910e-04\n",
      "Epoch 120/200\n",
      "33/33 [==============================] - 1s 16ms/step - loss: 0.0099 - mae: 0.0099 - mse: 1.6198e-04 - val_loss: 0.0099 - val_mae: 0.0099 - val_mse: 1.6209e-04\n",
      "Epoch 121/200\n",
      "33/33 [==============================] - 1s 23ms/step - loss: 0.0099 - mae: 0.0099 - mse: 1.6212e-04 - val_loss: 0.0098 - val_mae: 0.0098 - val_mse: 1.5748e-04\n",
      "Epoch 122/200\n",
      "33/33 [==============================] - 1s 25ms/step - loss: 0.0099 - mae: 0.0099 - mse: 1.6208e-04 - val_loss: 0.0098 - val_mae: 0.0098 - val_mse: 1.6004e-04\n",
      "Epoch 123/200\n",
      "33/33 [==============================] - 1s 22ms/step - loss: 0.0099 - mae: 0.0099 - mse: 1.6243e-04 - val_loss: 0.0099 - val_mae: 0.0099 - val_mse: 1.6038e-04\n",
      "Epoch 124/200\n",
      "33/33 [==============================] - 1s 23ms/step - loss: 0.0099 - mae: 0.0099 - mse: 1.6206e-04 - val_loss: 0.0098 - val_mae: 0.0098 - val_mse: 1.5915e-04\n",
      "Epoch 125/200\n",
      "33/33 [==============================] - 1s 19ms/step - loss: 0.0099 - mae: 0.0099 - mse: 1.6239e-04 - val_loss: 0.0098 - val_mae: 0.0098 - val_mse: 1.5915e-04\n",
      "Epoch 126/200\n",
      "33/33 [==============================] - 1s 23ms/step - loss: 0.0099 - mae: 0.0099 - mse: 1.6110e-04 - val_loss: 0.0099 - val_mae: 0.0099 - val_mse: 1.5815e-04\n",
      "Epoch 127/200\n",
      "33/33 [==============================] - 1s 26ms/step - loss: 0.0099 - mae: 0.0099 - mse: 1.6180e-04 - val_loss: 0.0100 - val_mae: 0.0100 - val_mse: 1.6017e-04\n",
      "Epoch 128/200\n",
      "33/33 [==============================] - 1s 22ms/step - loss: 0.0099 - mae: 0.0099 - mse: 1.6146e-04 - val_loss: 0.0098 - val_mae: 0.0098 - val_mse: 1.5757e-04\n",
      "Epoch 129/200\n",
      "33/33 [==============================] - 1s 22ms/step - loss: 0.0099 - mae: 0.0099 - mse: 1.6106e-04 - val_loss: 0.0099 - val_mae: 0.0099 - val_mse: 1.5836e-04\n",
      "Epoch 130/200\n",
      "33/33 [==============================] - 1s 19ms/step - loss: 0.0100 - mae: 0.0100 - mse: 1.6356e-04 - val_loss: 0.0099 - val_mae: 0.0099 - val_mse: 1.5746e-04\n",
      "Epoch 131/200\n",
      "33/33 [==============================] - 1s 25ms/step - loss: 0.0099 - mae: 0.0099 - mse: 1.6198e-04 - val_loss: 0.0098 - val_mae: 0.0098 - val_mse: 1.5920e-04\n",
      "Epoch 132/200\n",
      "33/33 [==============================] - 1s 23ms/step - loss: 0.0099 - mae: 0.0099 - mse: 1.6174e-04 - val_loss: 0.0099 - val_mae: 0.0099 - val_mse: 1.6539e-04\n",
      "Epoch 133/200\n",
      "33/33 [==============================] - 1s 27ms/step - loss: 0.0099 - mae: 0.0099 - mse: 1.6119e-04 - val_loss: 0.0099 - val_mae: 0.0099 - val_mse: 1.6250e-04\n",
      "Epoch 134/200\n",
      "33/33 [==============================] - 1s 23ms/step - loss: 0.0099 - mae: 0.0099 - mse: 1.6153e-04 - val_loss: 0.0098 - val_mae: 0.0098 - val_mse: 1.6111e-04\n",
      "Epoch 135/200\n",
      "33/33 [==============================] - 1s 20ms/step - loss: 0.0099 - mae: 0.0099 - mse: 1.6230e-04 - val_loss: 0.0098 - val_mae: 0.0098 - val_mse: 1.5772e-04\n",
      "Epoch 136/200\n",
      "33/33 [==============================] - 1s 17ms/step - loss: 0.0099 - mae: 0.0099 - mse: 1.6106e-04 - val_loss: 0.0098 - val_mae: 0.0098 - val_mse: 1.5790e-04\n",
      "Epoch 137/200\n",
      "33/33 [==============================] - 0s 15ms/step - loss: 0.0099 - mae: 0.0099 - mse: 1.6075e-04 - val_loss: 0.0098 - val_mae: 0.0098 - val_mse: 1.5936e-04\n",
      "Epoch 138/200\n",
      "33/33 [==============================] - 0s 15ms/step - loss: 0.0099 - mae: 0.0099 - mse: 1.6241e-04 - val_loss: 0.0100 - val_mae: 0.0100 - val_mse: 1.5926e-04\n",
      "Epoch 139/200\n",
      "33/33 [==============================] - 1s 16ms/step - loss: 0.0099 - mae: 0.0099 - mse: 1.6120e-04 - val_loss: 0.0098 - val_mae: 0.0098 - val_mse: 1.6010e-04\n",
      "Epoch 140/200\n",
      "33/33 [==============================] - 1s 15ms/step - loss: 0.0099 - mae: 0.0099 - mse: 1.6094e-04 - val_loss: 0.0100 - val_mae: 0.0100 - val_mse: 1.5965e-04\n",
      "Epoch 141/200\n",
      "33/33 [==============================] - 0s 14ms/step - loss: 0.0099 - mae: 0.0099 - mse: 1.6150e-04 - val_loss: 0.0098 - val_mae: 0.0098 - val_mse: 1.5728e-04\n",
      "Epoch 142/200\n",
      "33/33 [==============================] - 0s 15ms/step - loss: 0.0098 - mae: 0.0098 - mse: 1.5965e-04 - val_loss: 0.0098 - val_mae: 0.0098 - val_mse: 1.6012e-04\n",
      "Epoch 143/200\n",
      "33/33 [==============================] - 0s 15ms/step - loss: 0.0099 - mae: 0.0099 - mse: 1.6039e-04 - val_loss: 0.0098 - val_mae: 0.0098 - val_mse: 1.5901e-04\n",
      "Epoch 144/200\n",
      "33/33 [==============================] - 0s 15ms/step - loss: 0.0099 - mae: 0.0099 - mse: 1.6029e-04 - val_loss: 0.0098 - val_mae: 0.0098 - val_mse: 1.5694e-04\n",
      "Epoch 145/200\n",
      "33/33 [==============================] - 1s 16ms/step - loss: 0.0099 - mae: 0.0099 - mse: 1.6058e-04 - val_loss: 0.0099 - val_mae: 0.0099 - val_mse: 1.5918e-04\n",
      "Epoch 146/200\n",
      "33/33 [==============================] - 1s 16ms/step - loss: 0.0099 - mae: 0.0099 - mse: 1.6087e-04 - val_loss: 0.0099 - val_mae: 0.0099 - val_mse: 1.6615e-04\n",
      "Epoch 147/200\n",
      "33/33 [==============================] - 1s 16ms/step - loss: 0.0099 - mae: 0.0099 - mse: 1.6193e-04 - val_loss: 0.0098 - val_mae: 0.0098 - val_mse: 1.5840e-04\n",
      "Epoch 148/200\n",
      "33/33 [==============================] - 1s 16ms/step - loss: 0.0099 - mae: 0.0099 - mse: 1.6018e-04 - val_loss: 0.0098 - val_mae: 0.0098 - val_mse: 1.5679e-04\n",
      "Epoch 149/200\n",
      "33/33 [==============================] - 1s 16ms/step - loss: 0.0098 - mae: 0.0098 - mse: 1.5954e-04 - val_loss: 0.0099 - val_mae: 0.0099 - val_mse: 1.5617e-04\n",
      "Epoch 150/200\n",
      "33/33 [==============================] - 1s 16ms/step - loss: 0.0099 - mae: 0.0099 - mse: 1.6117e-04 - val_loss: 0.0098 - val_mae: 0.0098 - val_mse: 1.5822e-04\n",
      "Epoch 151/200\n",
      "33/33 [==============================] - 1s 16ms/step - loss: 0.0099 - mae: 0.0099 - mse: 1.6096e-04 - val_loss: 0.0098 - val_mae: 0.0098 - val_mse: 1.5821e-04\n",
      "Epoch 152/200\n",
      "33/33 [==============================] - 1s 18ms/step - loss: 0.0099 - mae: 0.0099 - mse: 1.6046e-04 - val_loss: 0.0099 - val_mae: 0.0099 - val_mse: 1.5710e-04\n",
      "Epoch 153/200\n",
      "33/33 [==============================] - 1s 17ms/step - loss: 0.0099 - mae: 0.0099 - mse: 1.6031e-04 - val_loss: 0.0097 - val_mae: 0.0097 - val_mse: 1.5769e-04\n",
      "Epoch 154/200\n",
      "33/33 [==============================] - 1s 16ms/step - loss: 0.0099 - mae: 0.0099 - mse: 1.6138e-04 - val_loss: 0.0098 - val_mae: 0.0098 - val_mse: 1.5925e-04\n",
      "Epoch 155/200\n",
      "33/33 [==============================] - 1s 16ms/step - loss: 0.0099 - mae: 0.0099 - mse: 1.6105e-04 - val_loss: 0.0099 - val_mae: 0.0099 - val_mse: 1.6217e-04\n",
      "Epoch 156/200\n",
      "33/33 [==============================] - 1s 15ms/step - loss: 0.0099 - mae: 0.0099 - mse: 1.6165e-04 - val_loss: 0.0098 - val_mae: 0.0098 - val_mse: 1.5938e-04\n",
      "Epoch 157/200\n",
      "33/33 [==============================] - 1s 15ms/step - loss: 0.0099 - mae: 0.0099 - mse: 1.6003e-04 - val_loss: 0.0098 - val_mae: 0.0098 - val_mse: 1.5616e-04\n",
      "Epoch 158/200\n",
      "33/33 [==============================] - 0s 15ms/step - loss: 0.0099 - mae: 0.0099 - mse: 1.6043e-04 - val_loss: 0.0098 - val_mae: 0.0098 - val_mse: 1.5852e-04\n",
      "Epoch 159/200\n",
      "33/33 [==============================] - 0s 15ms/step - loss: 0.0099 - mae: 0.0099 - mse: 1.5978e-04 - val_loss: 0.0098 - val_mae: 0.0098 - val_mse: 1.5649e-04\n",
      "Epoch 160/200\n",
      "33/33 [==============================] - 1s 16ms/step - loss: 0.0099 - mae: 0.0099 - mse: 1.6036e-04 - val_loss: 0.0099 - val_mae: 0.0099 - val_mse: 1.5948e-04\n",
      "Epoch 161/200\n",
      "33/33 [==============================] - 0s 14ms/step - loss: 0.0098 - mae: 0.0098 - mse: 1.6007e-04 - val_loss: 0.0098 - val_mae: 0.0098 - val_mse: 1.5841e-04\n",
      "Epoch 162/200\n",
      "33/33 [==============================] - 0s 14ms/step - loss: 0.0098 - mae: 0.0098 - mse: 1.5919e-04 - val_loss: 0.0098 - val_mae: 0.0098 - val_mse: 1.5982e-04\n",
      "Epoch 163/200\n",
      "33/33 [==============================] - 0s 14ms/step - loss: 0.0098 - mae: 0.0098 - mse: 1.5858e-04 - val_loss: 0.0098 - val_mae: 0.0098 - val_mse: 1.5856e-04\n",
      "Epoch 164/200\n",
      "33/33 [==============================] - 0s 14ms/step - loss: 0.0099 - mae: 0.0099 - mse: 1.6056e-04 - val_loss: 0.0098 - val_mae: 0.0098 - val_mse: 1.5757e-04\n",
      "Epoch 165/200\n",
      "33/33 [==============================] - 0s 15ms/step - loss: 0.0099 - mae: 0.0099 - mse: 1.6109e-04 - val_loss: 0.0097 - val_mae: 0.0097 - val_mse: 1.5687e-04\n",
      "Epoch 166/200\n",
      "33/33 [==============================] - 0s 15ms/step - loss: 0.0098 - mae: 0.0098 - mse: 1.5930e-04 - val_loss: 0.0098 - val_mae: 0.0098 - val_mse: 1.5884e-04\n",
      "Epoch 167/200\n",
      "33/33 [==============================] - 0s 14ms/step - loss: 0.0098 - mae: 0.0098 - mse: 1.5926e-04 - val_loss: 0.0098 - val_mae: 0.0098 - val_mse: 1.5711e-04\n",
      "Epoch 168/200\n",
      "33/33 [==============================] - 1s 16ms/step - loss: 0.0099 - mae: 0.0099 - mse: 1.6001e-04 - val_loss: 0.0098 - val_mae: 0.0098 - val_mse: 1.5755e-04\n",
      "Epoch 169/200\n",
      "33/33 [==============================] - 0s 15ms/step - loss: 0.0098 - mae: 0.0098 - mse: 1.5929e-04 - val_loss: 0.0098 - val_mae: 0.0098 - val_mse: 1.5813e-04\n",
      "Epoch 170/200\n",
      "33/33 [==============================] - 1s 15ms/step - loss: 0.0098 - mae: 0.0098 - mse: 1.5892e-04 - val_loss: 0.0098 - val_mae: 0.0098 - val_mse: 1.5776e-04\n",
      "Epoch 171/200\n",
      "33/33 [==============================] - 0s 15ms/step - loss: 0.0098 - mae: 0.0098 - mse: 1.5956e-04 - val_loss: 0.0098 - val_mae: 0.0098 - val_mse: 1.6048e-04\n",
      "Epoch 172/200\n",
      "33/33 [==============================] - 0s 15ms/step - loss: 0.0099 - mae: 0.0099 - mse: 1.6037e-04 - val_loss: 0.0098 - val_mae: 0.0098 - val_mse: 1.5701e-04\n",
      "Epoch 173/200\n",
      "33/33 [==============================] - 0s 15ms/step - loss: 0.0098 - mae: 0.0098 - mse: 1.5945e-04 - val_loss: 0.0098 - val_mae: 0.0098 - val_mse: 1.5770e-04\n",
      "Epoch 174/200\n",
      "33/33 [==============================] - 0s 15ms/step - loss: 0.0098 - mae: 0.0098 - mse: 1.5888e-04 - val_loss: 0.0098 - val_mae: 0.0098 - val_mse: 1.5775e-04\n",
      "Epoch 175/200\n",
      "33/33 [==============================] - 1s 17ms/step - loss: 0.0098 - mae: 0.0098 - mse: 1.5968e-04 - val_loss: 0.0098 - val_mae: 0.0098 - val_mse: 1.5824e-04\n",
      "Epoch 176/200\n",
      "33/33 [==============================] - 1s 16ms/step - loss: 0.0099 - mae: 0.0099 - mse: 1.6015e-04 - val_loss: 0.0098 - val_mae: 0.0098 - val_mse: 1.5735e-04\n",
      "Epoch 177/200\n",
      "33/33 [==============================] - 1s 16ms/step - loss: 0.0098 - mae: 0.0098 - mse: 1.5939e-04 - val_loss: 0.0098 - val_mae: 0.0098 - val_mse: 1.5879e-04\n",
      "Epoch 178/200\n",
      "33/33 [==============================] - 1s 16ms/step - loss: 0.0098 - mae: 0.0098 - mse: 1.5928e-04 - val_loss: 0.0098 - val_mae: 0.0098 - val_mse: 1.5706e-04\n",
      "Epoch 179/200\n",
      "33/33 [==============================] - 1s 16ms/step - loss: 0.0098 - mae: 0.0098 - mse: 1.5945e-04 - val_loss: 0.0098 - val_mae: 0.0098 - val_mse: 1.5592e-04\n",
      "Epoch 180/200\n",
      "33/33 [==============================] - 1s 17ms/step - loss: 0.0098 - mae: 0.0098 - mse: 1.5802e-04 - val_loss: 0.0098 - val_mae: 0.0098 - val_mse: 1.6008e-04\n",
      "Epoch 181/200\n",
      "33/33 [==============================] - 1s 17ms/step - loss: 0.0098 - mae: 0.0098 - mse: 1.5955e-04 - val_loss: 0.0098 - val_mae: 0.0098 - val_mse: 1.6054e-04\n",
      "Epoch 182/200\n",
      "33/33 [==============================] - 1s 16ms/step - loss: 0.0098 - mae: 0.0098 - mse: 1.5905e-04 - val_loss: 0.0098 - val_mae: 0.0098 - val_mse: 1.5598e-04\n",
      "Epoch 183/200\n",
      "33/33 [==============================] - 1s 15ms/step - loss: 0.0098 - mae: 0.0098 - mse: 1.5764e-04 - val_loss: 0.0097 - val_mae: 0.0097 - val_mse: 1.5635e-04\n",
      "Epoch 184/200\n",
      "33/33 [==============================] - 1s 16ms/step - loss: 0.0098 - mae: 0.0098 - mse: 1.5830e-04 - val_loss: 0.0098 - val_mae: 0.0098 - val_mse: 1.5763e-04\n",
      "Epoch 185/200\n",
      "33/33 [==============================] - 1s 16ms/step - loss: 0.0098 - mae: 0.0098 - mse: 1.5941e-04 - val_loss: 0.0098 - val_mae: 0.0098 - val_mse: 1.5708e-04\n",
      "Epoch 186/200\n",
      "33/33 [==============================] - 1s 16ms/step - loss: 0.0098 - mae: 0.0098 - mse: 1.5873e-04 - val_loss: 0.0098 - val_mae: 0.0098 - val_mse: 1.5945e-04\n",
      "Epoch 187/200\n",
      "33/33 [==============================] - 1s 15ms/step - loss: 0.0098 - mae: 0.0098 - mse: 1.5925e-04 - val_loss: 0.0099 - val_mae: 0.0099 - val_mse: 1.6278e-04\n",
      "Epoch 188/200\n",
      "33/33 [==============================] - 1s 15ms/step - loss: 0.0098 - mae: 0.0098 - mse: 1.5966e-04 - val_loss: 0.0099 - val_mae: 0.0099 - val_mse: 1.6343e-04\n",
      "Epoch 189/200\n",
      "33/33 [==============================] - 1s 17ms/step - loss: 0.0098 - mae: 0.0098 - mse: 1.5927e-04 - val_loss: 0.0098 - val_mae: 0.0098 - val_mse: 1.6020e-04\n",
      "Epoch 190/200\n",
      "33/33 [==============================] - 1s 16ms/step - loss: 0.0098 - mae: 0.0098 - mse: 1.5913e-04 - val_loss: 0.0098 - val_mae: 0.0098 - val_mse: 1.5939e-04\n",
      "Epoch 191/200\n",
      "33/33 [==============================] - 1s 15ms/step - loss: 0.0098 - mae: 0.0098 - mse: 1.5886e-04 - val_loss: 0.0098 - val_mae: 0.0098 - val_mse: 1.5874e-04\n",
      "Epoch 192/200\n",
      "33/33 [==============================] - 1s 16ms/step - loss: 0.0098 - mae: 0.0098 - mse: 1.5859e-04 - val_loss: 0.0098 - val_mae: 0.0098 - val_mse: 1.5641e-04\n",
      "Epoch 193/200\n",
      "33/33 [==============================] - 1s 16ms/step - loss: 0.0098 - mae: 0.0098 - mse: 1.5978e-04 - val_loss: 0.0098 - val_mae: 0.0098 - val_mse: 1.5643e-04\n",
      "Epoch 194/200\n",
      "33/33 [==============================] - 1s 16ms/step - loss: 0.0098 - mae: 0.0098 - mse: 1.5987e-04 - val_loss: 0.0098 - val_mae: 0.0098 - val_mse: 1.5829e-04\n",
      "Epoch 195/200\n",
      "33/33 [==============================] - 1s 17ms/step - loss: 0.0098 - mae: 0.0098 - mse: 1.5814e-04 - val_loss: 0.0098 - val_mae: 0.0098 - val_mse: 1.5915e-04\n",
      "Epoch 196/200\n",
      "33/33 [==============================] - 0s 15ms/step - loss: 0.0098 - mae: 0.0098 - mse: 1.5910e-04 - val_loss: 0.0098 - val_mae: 0.0098 - val_mse: 1.5584e-04\n",
      "Epoch 197/200\n",
      "33/33 [==============================] - 0s 15ms/step - loss: 0.0098 - mae: 0.0098 - mse: 1.5804e-04 - val_loss: 0.0097 - val_mae: 0.0097 - val_mse: 1.5883e-04\n",
      "Epoch 198/200\n",
      "33/33 [==============================] - 1s 16ms/step - loss: 0.0098 - mae: 0.0098 - mse: 1.5836e-04 - val_loss: 0.0098 - val_mae: 0.0098 - val_mse: 1.5927e-04\n",
      "Epoch 199/200\n",
      "33/33 [==============================] - 1s 15ms/step - loss: 0.0098 - mae: 0.0098 - mse: 1.5944e-04 - val_loss: 0.0098 - val_mae: 0.0098 - val_mse: 1.5655e-04\n",
      "Epoch 200/200\n",
      "33/33 [==============================] - 1s 17ms/step - loss: 0.0098 - mae: 0.0098 - mse: 1.5779e-04 - val_loss: 0.0097 - val_mae: 0.0097 - val_mse: 1.5610e-04\n",
      "324/324 [==============================] - 0s 1ms/step\n"
     ]
    }
   ],
   "source": [
    "history=model.fit(X_train, y_train, epochs=200, \n",
    "                  batch_size=1024, verbose=1, \n",
    "                  validation_split=0.2)"
   ]
  },
  {
   "cell_type": "code",
   "execution_count": 13,
   "metadata": {},
   "outputs": [
    {
     "data": {
      "image/png": "[encoded data removed]",
      "text/plain": [
       "<Figure size 640x480 with 1 Axes>"
      ]
     },
     "metadata": {},
     "output_type": "display_data"
    }
   ],
   "source": [
    "plt.plot(history.history['loss'])\n",
    "plt.plot(history.history['val_loss'])\n",
    "plt.title('model loss')\n",
    "plt.ylabel('loss')\n",
    "plt.xlabel('epoch')\n",
    "plt.legend(['train', 'validation'], loc='upper left')\n",
    "plt.show()"
   ]
  },
  {
   "cell_type": "code",
   "execution_count": 14,
   "metadata": {},
   "outputs": [
    {
     "name": "stdout",
     "output_type": "stream",
     "text": [
      "324/324 [==============================] - 0s 1ms/step\n"
     ]
    },
    {
     "data": {
      "text/plain": [
       "0.00986597657352614"
      ]
     },
     "execution_count": 14,
     "metadata": {},
     "output_type": "execute_result"
    }
   ],
   "source": [
    "y_test_pred = model.predict(X_test)\n",
    "mean_absolute_error(y_test, y_test_pred)"
   ]
  },
  {
   "cell_type": "code",
   "execution_count": 15,
   "metadata": {},
   "outputs": [
    {
     "data": {
      "text/plain": [
       "[<matplotlib.lines.Line2D at 0x291db7430>]"
      ]
     },
     "execution_count": 15,
     "metadata": {},
     "output_type": "execute_result"
    },
    {
     "data": {
      "image/png": "[encoded data removed]",
      "text/plain": [
       "<Figure size 640x480 with 1 Axes>"
      ]
     },
     "metadata": {},
     "output_type": "display_data"
    }
   ],
   "source": [
    "plt.plot(y_test, y_test_pred, 'bo')"
   ]
  },
  {
   "cell_type": "markdown",
   "metadata": {},
   "source": [
    "### Regularization with drop-outs"
   ]
  },
  {
   "cell_type": "code",
   "execution_count": 18,
   "metadata": {},
   "outputs": [
    {
     "ename": "SyntaxError",
     "evalue": "invalid syntax. Maybe you meant '==' or ':=' instead of '='? (2386758261.py, line 12)",
     "output_type": "error",
     "traceback": [
      "\u001b[0;36m  Cell \u001b[0;32mIn[18], line 12\u001b[0;36m\u001b[0m\n\u001b[0;31m    name=\"Dropout\"\u001b[0m\n\u001b[0m    ^\u001b[0m\n\u001b[0;31mSyntaxError\u001b[0m\u001b[0;31m:\u001b[0m invalid syntax. Maybe you meant '==' or ':=' instead of '='?\n"
     ]
    }
   ],
   "source": [
    "model = models.Sequential([\n",
    "  layers.Dense(512, activation='relu', input_shape=(n_feat,)),\n",
    "  layers.Dropout(0.2),\n",
    "  layers.Dense(512, activation='relu'),\n",
    "  layers.Dropout(0.2),\n",
    "  layers.Dense(256, activation='relu'),\n",
    "  layers.Dropout(0.2),\n",
    "  layers.Dense(256, activation='relu'),\n",
    "  layers.Dropout(0.2),\n",
    "  layers.Dense(128, activation='relu'),\n",
    "  layers.Dense(1, activation='linear')\n",
    "], name=\"Dropout\")\n",
    "model.summary()"
   ]
  },
  {
   "cell_type": "code",
   "execution_count": null,
   "metadata": {},
   "outputs": [],
   "source": [
    "# Compile the model\n",
    "model.compile(loss='mae', metrics=['mae', 'mse'], optimizer='adam')"
   ]
  },
  {
   "cell_type": "code",
   "execution_count": null,
   "metadata": {},
   "outputs": [],
   "source": [
    "history=model.fit(X_train, y_train, epochs=200, \n",
    "                  batch_size=1024, verbose=1, \n",
    "                  validation_split=0.2)"
   ]
  },
  {
   "cell_type": "code",
   "execution_count": null,
   "metadata": {},
   "outputs": [],
   "source": []
  }
 ],
 "metadata": {
  "kernelspec": {
   "display_name": "dk",
   "language": "python",
   "name": "python3"
  },
  "language_info": {
   "codemirror_mode": {
    "name": "ipython",
    "version": 3
   },
   "file_extension": ".py",
   "mimetype": "text/x-python",
   "name": "python",
   "nbconvert_exporter": "python",
   "pygments_lexer": "ipython3",
   "version": "3.10.13"
  }
 },
 "nbformat": 4,
 "nbformat_minor": 2
}
