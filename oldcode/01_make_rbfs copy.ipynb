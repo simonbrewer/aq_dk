{
 "cells": [
  {
   "cell_type": "code",
   "execution_count": 1,
   "metadata": {},
   "outputs": [],
   "source": [
    "import pandas as pd\n",
    "import numpy as np\n",
    "import matplotlib.pyplot as plt\n",
    "import geopandas"
   ]
  },
  {
   "cell_type": "code",
   "execution_count": 2,
   "metadata": {},
   "outputs": [],
   "source": [
    "## Read PM2.5 data at June 05, 2019\n",
    "df1 = pd.read_csv('./data/covariate0605.csv')\n",
    "df2 = pd.read_csv('./data/pm25_0605.csv')"
   ]
  },
  {
   "cell_type": "code",
   "execution_count": 3,
   "metadata": {
    "scrolled": true
   },
   "outputs": [
    {
     "data": {
      "text/html": [
       "<div>\n",
       "<style scoped>\n",
       "    .dataframe tbody tr th:only-of-type {\n",
       "        vertical-align: middle;\n",
       "    }\n",
       "\n",
       "    .dataframe tbody tr th {\n",
       "        vertical-align: top;\n",
       "    }\n",
       "\n",
       "    .dataframe thead th {\n",
       "        text-align: right;\n",
       "    }\n",
       "</style>\n",
       "<table border=\"1\" class=\"dataframe\">\n",
       "  <thead>\n",
       "    <tr style=\"text-align: right;\">\n",
       "      <th></th>\n",
       "      <th>Unnamed: 0</th>\n",
       "      <th>long</th>\n",
       "      <th>lat</th>\n",
       "      <th>prec</th>\n",
       "      <th>temp</th>\n",
       "      <th>pres</th>\n",
       "      <th>rh</th>\n",
       "      <th>uwind</th>\n",
       "      <th>vwind</th>\n",
       "    </tr>\n",
       "  </thead>\n",
       "  <tbody>\n",
       "    <tr>\n",
       "      <th>0</th>\n",
       "      <td>41242</td>\n",
       "      <td>-69.111491</td>\n",
       "      <td>47.386418</td>\n",
       "      <td>0.283942</td>\n",
       "      <td>278.605652</td>\n",
       "      <td>96929.570312</td>\n",
       "      <td>79.589600</td>\n",
       "      <td>4.852976</td>\n",
       "      <td>1.651037</td>\n",
       "    </tr>\n",
       "    <tr>\n",
       "      <th>1</th>\n",
       "      <td>41243</td>\n",
       "      <td>-68.736976</td>\n",
       "      <td>47.244262</td>\n",
       "      <td>0.276129</td>\n",
       "      <td>278.605652</td>\n",
       "      <td>97242.070312</td>\n",
       "      <td>79.589600</td>\n",
       "      <td>4.470163</td>\n",
       "      <td>1.646155</td>\n",
       "    </tr>\n",
       "    <tr>\n",
       "      <th>2</th>\n",
       "      <td>41244</td>\n",
       "      <td>-68.364554</td>\n",
       "      <td>47.100850</td>\n",
       "      <td>0.276129</td>\n",
       "      <td>279.753113</td>\n",
       "      <td>98692.070312</td>\n",
       "      <td>75.652100</td>\n",
       "      <td>4.477976</td>\n",
       "      <td>1.624670</td>\n",
       "    </tr>\n",
       "    <tr>\n",
       "      <th>3</th>\n",
       "      <td>41245</td>\n",
       "      <td>-67.994227</td>\n",
       "      <td>46.956192</td>\n",
       "      <td>0.604254</td>\n",
       "      <td>280.398621</td>\n",
       "      <td>98792.070312</td>\n",
       "      <td>77.417725</td>\n",
       "      <td>4.096140</td>\n",
       "      <td>1.615881</td>\n",
       "    </tr>\n",
       "    <tr>\n",
       "      <th>4</th>\n",
       "      <td>41589</td>\n",
       "      <td>-69.318835</td>\n",
       "      <td>47.131182</td>\n",
       "      <td>0.174567</td>\n",
       "      <td>278.424988</td>\n",
       "      <td>96567.070312</td>\n",
       "      <td>77.456787</td>\n",
       "      <td>5.140085</td>\n",
       "      <td>1.481116</td>\n",
       "    </tr>\n",
       "  </tbody>\n",
       "</table>\n",
       "</div>"
      ],
      "text/plain": [
       "   Unnamed: 0       long        lat      prec        temp          pres  \\\n",
       "0       41242 -69.111491  47.386418  0.283942  278.605652  96929.570312   \n",
       "1       41243 -68.736976  47.244262  0.276129  278.605652  97242.070312   \n",
       "2       41244 -68.364554  47.100850  0.276129  279.753113  98692.070312   \n",
       "3       41245 -67.994227  46.956192  0.604254  280.398621  98792.070312   \n",
       "4       41589 -69.318835  47.131182  0.174567  278.424988  96567.070312   \n",
       "\n",
       "          rh     uwind     vwind  \n",
       "0  79.589600  4.852976  1.651037  \n",
       "1  79.589600  4.470163  1.646155  \n",
       "2  75.652100  4.477976  1.624670  \n",
       "3  77.417725  4.096140  1.615881  \n",
       "4  77.456787  5.140085  1.481116  "
      ]
     },
     "execution_count": 3,
     "metadata": {},
     "output_type": "execute_result"
    }
   ],
   "source": [
    "df1.head(5)"
   ]
  },
  {
   "cell_type": "code",
   "execution_count": 4,
   "metadata": {},
   "outputs": [
    {
     "data": {
      "text/html": [
       "<div>\n",
       "<style scoped>\n",
       "    .dataframe tbody tr th:only-of-type {\n",
       "        vertical-align: middle;\n",
       "    }\n",
       "\n",
       "    .dataframe tbody tr th {\n",
       "        vertical-align: top;\n",
       "    }\n",
       "\n",
       "    .dataframe thead th {\n",
       "        text-align: right;\n",
       "    }\n",
       "</style>\n",
       "<table border=\"1\" class=\"dataframe\">\n",
       "  <thead>\n",
       "    <tr style=\"text-align: right;\">\n",
       "      <th></th>\n",
       "      <th>Unnamed: 0</th>\n",
       "      <th>Longitude</th>\n",
       "      <th>Latitude</th>\n",
       "      <th>PM25</th>\n",
       "      <th>PM_class</th>\n",
       "    </tr>\n",
       "  </thead>\n",
       "  <tbody>\n",
       "    <tr>\n",
       "      <th>0</th>\n",
       "      <td>1</td>\n",
       "      <td>-80.482778</td>\n",
       "      <td>25.471944</td>\n",
       "      <td>4.400000</td>\n",
       "      <td>1</td>\n",
       "    </tr>\n",
       "    <tr>\n",
       "      <th>1</th>\n",
       "      <td>2</td>\n",
       "      <td>-80.215556</td>\n",
       "      <td>25.794222</td>\n",
       "      <td>4.929167</td>\n",
       "      <td>1</td>\n",
       "    </tr>\n",
       "    <tr>\n",
       "      <th>2</th>\n",
       "      <td>3</td>\n",
       "      <td>-97.493830</td>\n",
       "      <td>25.892518</td>\n",
       "      <td>8.213636</td>\n",
       "      <td>1</td>\n",
       "    </tr>\n",
       "    <tr>\n",
       "      <th>3</th>\n",
       "      <td>4</td>\n",
       "      <td>-80.326389</td>\n",
       "      <td>25.941944</td>\n",
       "      <td>4.100000</td>\n",
       "      <td>1</td>\n",
       "    </tr>\n",
       "    <tr>\n",
       "      <th>4</th>\n",
       "      <td>5</td>\n",
       "      <td>-80.256944</td>\n",
       "      <td>26.053889</td>\n",
       "      <td>4.992754</td>\n",
       "      <td>1</td>\n",
       "    </tr>\n",
       "  </tbody>\n",
       "</table>\n",
       "</div>"
      ],
      "text/plain": [
       "   Unnamed: 0  Longitude   Latitude      PM25  PM_class\n",
       "0           1 -80.482778  25.471944  4.400000         1\n",
       "1           2 -80.215556  25.794222  4.929167         1\n",
       "2           3 -97.493830  25.892518  8.213636         1\n",
       "3           4 -80.326389  25.941944  4.100000         1\n",
       "4           5 -80.256944  26.053889  4.992754         1"
      ]
     },
     "execution_count": 4,
     "metadata": {},
     "output_type": "execute_result"
    }
   ],
   "source": [
    "df2.head(5)"
   ]
  },
  {
   "cell_type": "code",
   "execution_count": 5,
   "metadata": {},
   "outputs": [
    {
     "data": {
      "text/plain": [
       "(7706, 6)"
      ]
     },
     "execution_count": 5,
     "metadata": {},
     "output_type": "execute_result"
    }
   ],
   "source": [
    "covariates = df1.values[:,3:]\n",
    "covariates.shape"
   ]
  },
  {
   "cell_type": "code",
   "execution_count": 6,
   "metadata": {},
   "outputs": [
    {
     "data": {
      "text/plain": [
       "(842, 2)"
      ]
     },
     "execution_count": 6,
     "metadata": {},
     "output_type": "execute_result"
    }
   ],
   "source": [
    "aqs_lonlat=df2.values[:,[1,2]]\n",
    "aqs_lonlat.shape"
   ]
  },
  {
   "cell_type": "markdown",
   "metadata": {},
   "source": [
    "### Pair the long and lat based on the nearest neighbor"
   ]
  },
  {
   "cell_type": "code",
   "execution_count": 7,
   "metadata": {},
   "outputs": [],
   "source": [
    "from scipy import spatial\n",
    "near = df1.values[:,[1,2]]\n",
    "tree = spatial.KDTree(list(zip(near[:,0].ravel(), near[:,1].ravel())))\n",
    "tree.data\n",
    "idx = tree.query(aqs_lonlat)[1]"
   ]
  },
  {
   "cell_type": "code",
   "execution_count": 8,
   "metadata": {},
   "outputs": [],
   "source": [
    "df2_new = df2.assign(neighbor = idx)\n",
    "df_pm25 = df2_new.groupby('neighbor')['PM25'].mean()\n",
    "df_pm25_class = pd.cut(df_pm25,bins=[0,12.1,35.5],labels=[\"0\",\"1\"])\n",
    "idx_new = df_pm25.index.values"
   ]
  },
  {
   "cell_type": "code",
   "execution_count": 34,
   "metadata": {},
   "outputs": [
    {
     "data": {
      "text/plain": [
       "neighbor\n",
       "2       5.020834\n",
       "7       3.837500\n",
       "50      2.041666\n",
       "59      3.669444\n",
       "70      1.020833\n",
       "          ...   \n",
       "7671    5.168750\n",
       "7672    6.041666\n",
       "7678    8.704166\n",
       "7703    8.725000\n",
       "7705    8.213636\n",
       "Name: PM25, Length: 605, dtype: float64"
      ]
     },
     "execution_count": 34,
     "metadata": {},
     "output_type": "execute_result"
    }
   ],
   "source": [
    "df_pm25"
   ]
  },
  {
   "cell_type": "code",
   "execution_count": 9,
   "metadata": {},
   "outputs": [
    {
     "data": {
      "text/plain": [
       "array([ 0,  0,  0,  0,  0,  0,  0,  0,  0,  0,  0,  0,  0,  0,  0,  0,  0,\n",
       "        0,  0,  0,  0,  0,  0,  0,  0,  0,  0,  1,  1,  0,  0,  0,  0,  0,\n",
       "        0,  0,  0,  0,  0,  0,  0,  0,  0,  0,  1,  0,  1,  0,  0,  0,  0,\n",
       "        0,  0,  0,  1,  1,  0,  0,  0,  0,  0,  0,  0,  1,  0,  0,  0,  0,\n",
       "        0,  0,  0,  0,  0,  0,  1,  0,  0,  0,  0,  0,  0,  0,  0,  0,  0,\n",
       "        0,  1,  1,  0,  0,  0,  0,  0,  1,  0,  0,  0,  0,  0,  0,  0,  1,\n",
       "        0,  0,  1,  0,  0,  1,  0,  0,  0,  1,  1,  0,  0,  0,  0,  0,  0,\n",
       "        1,  0,  0,  0,  0,  0,  0,  1,  0,  1,  1,  0,  0,  0,  0,  0,  0,\n",
       "        0,  0,  0,  0,  1,  1,  0,  1,  0,  0,  0,  0,  0,  0,  0,  0,  0,\n",
       "        1,  0,  1,  1,  0,  0,  0,  0,  0,  0,  0,  0,  0,  0,  1,  1,  1,\n",
       "        1,  0,  0,  0,  1,  1,  0,  0,  0,  0,  0,  0,  1,  1,  1,  1,  1,\n",
       "        0,  1,  1,  0,  0,  0,  0,  0,  0,  0,  1,  1,  1,  0,  1,  0,  0,\n",
       "        0,  0,  0,  0,  0,  0,  1,  1,  0,  0,  1,  1,  1,  0,  0,  0,  0,\n",
       "        0,  0,  0,  0,  0,  0,  0,  0,  0,  1,  0,  0,  1,  1,  1,  0,  0,\n",
       "        0,  0,  0,  1,  1,  0,  0,  0,  0,  0,  0,  0,  0,  0,  0,  0,  0,\n",
       "        0,  1,  0,  0,  0,  0,  1,  0,  1,  0,  0,  0,  0,  0,  0,  1,  0,\n",
       "        0,  0,  0,  0,  0,  0,  1,  0,  1,  0,  0,  0,  0,  0,  0,  0,  0,\n",
       "        0,  0,  1,  1,  0,  0,  0,  0,  0,  0,  0,  0,  1,  1,  1, -1,  0,\n",
       "        0,  0,  0,  0,  0,  0,  1,  1,  1,  0,  0,  0,  0,  0,  0,  0,  0,\n",
       "        0,  0,  0,  0,  1,  1,  1,  1,  0,  0,  0,  0,  0,  0,  0,  0,  0,\n",
       "        0,  0,  1,  1,  0,  0,  0,  0,  0,  0,  0,  0,  0,  0,  0,  1,  1,\n",
       "        1,  1,  1,  1,  0,  0,  0,  0,  0,  0,  0,  0,  0,  0,  0,  1,  1,\n",
       "        1,  1,  0,  0,  0,  1,  1,  1,  1,  1,  1,  0,  1,  1,  0,  0,  0,\n",
       "        0,  0,  1,  1,  1,  1,  0,  1,  1,  0,  0,  1,  1,  1,  1,  1,  1,\n",
       "        1,  1,  0,  1,  0,  0,  0,  0,  1,  1,  1,  1,  0,  1,  0,  0,  0,\n",
       "        1,  1,  0,  1,  1,  1,  1,  1,  0,  1,  0,  0,  1,  1,  1,  1,  0,\n",
       "        0,  0,  0,  1,  1,  0,  0,  0,  1,  1,  1,  1,  1,  0,  0,  0,  0,\n",
       "        0,  0,  1,  1,  1,  1,  0,  0,  0,  0,  0,  0,  0,  1,  1,  1,  0,\n",
       "        1,  0,  0,  0,  0,  0,  0,  1,  1,  0,  0,  0,  0,  0,  0,  0,  0,\n",
       "        0,  0,  0,  0,  0,  0,  1,  1,  0,  1,  1,  1,  0,  0,  1,  0,  0,\n",
       "        1,  1,  0,  1,  0,  1,  0,  0,  0,  0,  0,  0,  1,  0,  0,  0,  0,\n",
       "        0,  0,  1,  0,  0,  0,  0,  0,  0,  0,  0,  0,  0,  0,  0,  0,  0,\n",
       "        0,  0,  0,  0,  0,  0,  0,  0,  0,  0,  0,  0,  0,  0,  0,  0,  0,\n",
       "        0,  0,  0,  0,  0,  0,  0,  0,  0,  0,  0,  0,  0,  0,  0,  0,  0,\n",
       "        0,  0,  0,  0,  0,  0,  0,  0,  0,  0,  0,  0,  0,  0,  0,  0,  0,\n",
       "        0,  0,  0,  0,  0,  0,  0,  0,  0,  0])"
      ]
     },
     "execution_count": 9,
     "metadata": {},
     "output_type": "execute_result"
    }
   ],
   "source": [
    "np.array(pd.Categorical(df_pm25_class).codes, dtype = int)\n"
   ]
  },
  {
   "cell_type": "code",
   "execution_count": 10,
   "metadata": {},
   "outputs": [],
   "source": [
    "pm25 = df_pm25.values\n",
    "#pm25_class = np.array(df_pm25_class.values,dtype=int)\n",
    "pm25_class = np.array(pd.Categorical(df_pm25_class).codes, dtype = int)\n",
    "z = pm25[:,None]\n",
    "z_class = pm25_class[:,None]"
   ]
  },
  {
   "cell_type": "code",
   "execution_count": 11,
   "metadata": {},
   "outputs": [],
   "source": [
    "lon = df1.values[:,1]\n",
    "lat = df1.values[:,2]\n",
    "normalized_lon = (lon-min(lon))/(max(lon)-min(lon))\n",
    "normalized_lat = (lat-min(lat))/(max(lat)-min(lat))\n",
    "N = lon.shape[0]"
   ]
  },
  {
   "cell_type": "code",
   "execution_count": 35,
   "metadata": {},
   "outputs": [
    {
     "data": {
      "text/plain": [
       "7706"
      ]
     },
     "execution_count": 35,
     "metadata": {},
     "output_type": "execute_result"
    }
   ],
   "source": [
    "N"
   ]
  },
  {
   "cell_type": "code",
   "execution_count": 13,
   "metadata": {},
   "outputs": [
    {
     "name": "stdout",
     "output_type": "stream",
     "text": [
      "[0.         0.11111111 0.22222222 0.33333333 0.44444444 0.55555556\n",
      " 0.66666667 0.77777778 0.88888889 1.        ]\n",
      "[0.         0.05555556 0.11111111 0.16666667 0.22222222 0.27777778\n",
      " 0.33333333 0.38888889 0.44444444 0.5        0.55555556 0.61111111\n",
      " 0.66666667 0.72222222 0.77777778 0.83333333 0.88888889 0.94444444\n",
      " 1.        ]\n",
      "[0.         0.02777778 0.05555556 0.08333333 0.11111111 0.13888889\n",
      " 0.16666667 0.19444444 0.22222222 0.25       0.27777778 0.30555556\n",
      " 0.33333333 0.36111111 0.38888889 0.41666667 0.44444444 0.47222222\n",
      " 0.5        0.52777778 0.55555556 0.58333333 0.61111111 0.63888889\n",
      " 0.66666667 0.69444444 0.72222222 0.75       0.77777778 0.80555556\n",
      " 0.83333333 0.86111111 0.88888889 0.91666667 0.94444444 0.97222222\n",
      " 1.        ]\n"
     ]
    }
   ],
   "source": [
    "num_basis = [10**2,19**2,37**2]\n",
    "for i in num_basis:\n",
    "    print(np.linspace(0,1,np.sqrt(i).astype(int)))\n",
    "\n",
    "knots_1dx = [np.linspace(0,1,np.sqrt(i).astype(int)) for i in num_basis]\n",
    "knots_1dy = [np.linspace(0,1,np.sqrt(i).astype(int)) for i in num_basis]\n"
   ]
  },
  {
   "cell_type": "code",
   "execution_count": 36,
   "metadata": {},
   "outputs": [
    {
     "data": {
      "text/plain": [
       "[array([0.        , 0.11111111, 0.22222222, 0.33333333, 0.44444444,\n",
       "        0.55555556, 0.66666667, 0.77777778, 0.88888889, 1.        ]),\n",
       " array([0.        , 0.05555556, 0.11111111, 0.16666667, 0.22222222,\n",
       "        0.27777778, 0.33333333, 0.38888889, 0.44444444, 0.5       ,\n",
       "        0.55555556, 0.61111111, 0.66666667, 0.72222222, 0.77777778,\n",
       "        0.83333333, 0.88888889, 0.94444444, 1.        ]),\n",
       " array([0.        , 0.02777778, 0.05555556, 0.08333333, 0.11111111,\n",
       "        0.13888889, 0.16666667, 0.19444444, 0.22222222, 0.25      ,\n",
       "        0.27777778, 0.30555556, 0.33333333, 0.36111111, 0.38888889,\n",
       "        0.41666667, 0.44444444, 0.47222222, 0.5       , 0.52777778,\n",
       "        0.55555556, 0.58333333, 0.61111111, 0.63888889, 0.66666667,\n",
       "        0.69444444, 0.72222222, 0.75      , 0.77777778, 0.80555556,\n",
       "        0.83333333, 0.86111111, 0.88888889, 0.91666667, 0.94444444,\n",
       "        0.97222222, 1.        ])]"
      ]
     },
     "execution_count": 36,
     "metadata": {},
     "output_type": "execute_result"
    }
   ],
   "source": [
    "knots_1dx"
   ]
  },
  {
   "cell_type": "code",
   "execution_count": 37,
   "metadata": {},
   "outputs": [],
   "source": [
    "num_basis = [10**2,19**2,37**2]\n",
    "knots_1dx = [np.linspace(0,1,np.sqrt(i).astype(int)) for i in num_basis]\n",
    "knots_1dy = [np.linspace(0,1,np.sqrt(i).astype(int)) for i in num_basis]\n",
    "##Wendland kernel\n",
    "basis_size = 0\n",
    "phi = np.zeros((N, sum(num_basis)))\n",
    "for res in range(len(num_basis)):\n",
    "    theta = 1/np.sqrt(num_basis[res])*2.5\n",
    "    knots_x, knots_y = np.meshgrid(knots_1dx[res],knots_1dy[res])\n",
    "    knots = np.column_stack((knots_x.flatten(),knots_y.flatten()))\n",
    "    for i in range(num_basis[res]):\n",
    "        d = np.linalg.norm(np.vstack((normalized_lon,normalized_lat)).T-knots[i,:],axis=1)/theta\n",
    "        for j in range(len(d)):\n",
    "            if d[j] >= 0 and d[j] <= 1:\n",
    "                phi[j,i + basis_size] = (1-d[j])**6 * (35 * d[j]**2 + 18 * d[j] + 3)/3\n",
    "            else:\n",
    "                phi[j,i + basis_size] = 0\n",
    "    basis_size = basis_size + num_basis[res]"
   ]
  },
  {
   "cell_type": "code",
   "execution_count": 73,
   "metadata": {},
   "outputs": [
    {
     "data": {
      "text/plain": [
       "0.9560186481952521"
      ]
     },
     "execution_count": 73,
     "metadata": {},
     "output_type": "execute_result"
    }
   ],
   "source": [
    "phi[3,:].max()"
   ]
  },
  {
   "cell_type": "code",
   "execution_count": 66,
   "metadata": {},
   "outputs": [
    {
     "name": "stdout",
     "output_type": "stream",
     "text": [
      "[0. 0. 0. 0. 0. 0. 0. 0. 0.]\n"
     ]
    }
   ],
   "source": [
    "res = 0\n",
    "theta = 1/np.sqrt(num_basis[res])*2.5\n",
    "knots_x, knots_y = np.meshgrid(knots_1dx[res],knots_1dy[res])\n",
    "knots = np.column_stack((knots_x.flatten(),knots_y.flatten()))\n",
    "#for i in range(num_basis[res]):\n",
    "#    print(i)\n",
    "#   print(knots[i,:])\n",
    "\n",
    "d = np.linalg.norm(np.vstack((normalized_lon,normalized_lat)).T-knots[i,:],axis=1)/theta\n",
    "basis_size = 0\n",
    "for j in range(len(d)):\n",
    "            if d[j] >= 0 and d[j] <= 1:\n",
    "                phi[j,i + basis_size] = (1-d[j])**6 * (35 * d[j]**2 + 18 * d[j] + 3)/3\n",
    "            else:\n",
    "                phi[j,i + basis_size] = 0\n",
    "print(phi[0:9,0])\n"
   ]
  },
  {
   "cell_type": "code",
   "execution_count": 64,
   "metadata": {},
   "outputs": [
    {
     "name": "stdout",
     "output_type": "stream",
     "text": [
      "[0. 0.]\n",
      "[[0.96725502 0.91812118]\n",
      " [0.97380125 0.9122209 ]\n",
      " [0.98031088 0.90626846]\n",
      " ...\n",
      " [0.46017898 0.03567999]\n",
      " [0.46538939 0.03432521]\n",
      " [0.47059468 0.03292622]]\n",
      "[1.33361493 1.33432974 1.33504005 ... 0.46156013 0.46665351 0.47174515]\n",
      "[5.33445972 5.33731896 5.34016021 ... 1.84624053 1.86661405 1.8869806 ]\n"
     ]
    }
   ],
   "source": [
    "print(knots[0,:])\n",
    "print(np.vstack((normalized_lon,normalized_lat)).T-knots[0,:])\n",
    "print(np.linalg.norm(np.vstack((normalized_lon,normalized_lat)).T-knots[0,:], axis = 1))\n",
    "print(np.linalg.norm(np.vstack((normalized_lon,normalized_lat)).T-knots[0,:], axis = 1) / theta)"
   ]
  },
  {
   "cell_type": "code",
   "execution_count": 61,
   "metadata": {},
   "outputs": [
    {
     "data": {
      "text/plain": [
       "1.3336149275108586"
      ]
     },
     "execution_count": 61,
     "metadata": {},
     "output_type": "execute_result"
    }
   ],
   "source": [
    "np.sqrt((0.96725502**2 + 0.91812118**2))"
   ]
  },
  {
   "cell_type": "code",
   "execution_count": 45,
   "metadata": {},
   "outputs": [
    {
     "data": {
      "text/plain": [
       "array([[0.        , 0.        ],\n",
       "       [0.11111111, 0.        ],\n",
       "       [0.22222222, 0.        ],\n",
       "       [0.33333333, 0.        ],\n",
       "       [0.44444444, 0.        ],\n",
       "       [0.55555556, 0.        ],\n",
       "       [0.66666667, 0.        ],\n",
       "       [0.77777778, 0.        ],\n",
       "       [0.88888889, 0.        ],\n",
       "       [1.        , 0.        ],\n",
       "       [0.        , 0.11111111],\n",
       "       [0.11111111, 0.11111111],\n",
       "       [0.22222222, 0.11111111],\n",
       "       [0.33333333, 0.11111111],\n",
       "       [0.44444444, 0.11111111],\n",
       "       [0.55555556, 0.11111111],\n",
       "       [0.66666667, 0.11111111],\n",
       "       [0.77777778, 0.11111111],\n",
       "       [0.88888889, 0.11111111],\n",
       "       [1.        , 0.11111111],\n",
       "       [0.        , 0.22222222],\n",
       "       [0.11111111, 0.22222222],\n",
       "       [0.22222222, 0.22222222],\n",
       "       [0.33333333, 0.22222222],\n",
       "       [0.44444444, 0.22222222],\n",
       "       [0.55555556, 0.22222222],\n",
       "       [0.66666667, 0.22222222],\n",
       "       [0.77777778, 0.22222222],\n",
       "       [0.88888889, 0.22222222],\n",
       "       [1.        , 0.22222222],\n",
       "       [0.        , 0.33333333],\n",
       "       [0.11111111, 0.33333333],\n",
       "       [0.22222222, 0.33333333],\n",
       "       [0.33333333, 0.33333333],\n",
       "       [0.44444444, 0.33333333],\n",
       "       [0.55555556, 0.33333333],\n",
       "       [0.66666667, 0.33333333],\n",
       "       [0.77777778, 0.33333333],\n",
       "       [0.88888889, 0.33333333],\n",
       "       [1.        , 0.33333333],\n",
       "       [0.        , 0.44444444],\n",
       "       [0.11111111, 0.44444444],\n",
       "       [0.22222222, 0.44444444],\n",
       "       [0.33333333, 0.44444444],\n",
       "       [0.44444444, 0.44444444],\n",
       "       [0.55555556, 0.44444444],\n",
       "       [0.66666667, 0.44444444],\n",
       "       [0.77777778, 0.44444444],\n",
       "       [0.88888889, 0.44444444],\n",
       "       [1.        , 0.44444444],\n",
       "       [0.        , 0.55555556],\n",
       "       [0.11111111, 0.55555556],\n",
       "       [0.22222222, 0.55555556],\n",
       "       [0.33333333, 0.55555556],\n",
       "       [0.44444444, 0.55555556],\n",
       "       [0.55555556, 0.55555556],\n",
       "       [0.66666667, 0.55555556],\n",
       "       [0.77777778, 0.55555556],\n",
       "       [0.88888889, 0.55555556],\n",
       "       [1.        , 0.55555556],\n",
       "       [0.        , 0.66666667],\n",
       "       [0.11111111, 0.66666667],\n",
       "       [0.22222222, 0.66666667],\n",
       "       [0.33333333, 0.66666667],\n",
       "       [0.44444444, 0.66666667],\n",
       "       [0.55555556, 0.66666667],\n",
       "       [0.66666667, 0.66666667],\n",
       "       [0.77777778, 0.66666667],\n",
       "       [0.88888889, 0.66666667],\n",
       "       [1.        , 0.66666667],\n",
       "       [0.        , 0.77777778],\n",
       "       [0.11111111, 0.77777778],\n",
       "       [0.22222222, 0.77777778],\n",
       "       [0.33333333, 0.77777778],\n",
       "       [0.44444444, 0.77777778],\n",
       "       [0.55555556, 0.77777778],\n",
       "       [0.66666667, 0.77777778],\n",
       "       [0.77777778, 0.77777778],\n",
       "       [0.88888889, 0.77777778],\n",
       "       [1.        , 0.77777778],\n",
       "       [0.        , 0.88888889],\n",
       "       [0.11111111, 0.88888889],\n",
       "       [0.22222222, 0.88888889],\n",
       "       [0.33333333, 0.88888889],\n",
       "       [0.44444444, 0.88888889],\n",
       "       [0.55555556, 0.88888889],\n",
       "       [0.66666667, 0.88888889],\n",
       "       [0.77777778, 0.88888889],\n",
       "       [0.88888889, 0.88888889],\n",
       "       [1.        , 0.88888889],\n",
       "       [0.        , 1.        ],\n",
       "       [0.11111111, 1.        ],\n",
       "       [0.22222222, 1.        ],\n",
       "       [0.33333333, 1.        ],\n",
       "       [0.44444444, 1.        ],\n",
       "       [0.55555556, 1.        ],\n",
       "       [0.66666667, 1.        ],\n",
       "       [0.77777778, 1.        ],\n",
       "       [0.88888889, 1.        ],\n",
       "       [1.        , 1.        ]])"
      ]
     },
     "execution_count": 45,
     "metadata": {},
     "output_type": "execute_result"
    }
   ],
   "source": [
    "knots"
   ]
  },
  {
   "cell_type": "code",
   "execution_count": 15,
   "metadata": {},
   "outputs": [],
   "source": [
    "## Romove the all-zero columns\n",
    "idx_zero = np.array([], dtype=int)\n",
    "for i in range(phi.shape[1]):\n",
    "    if sum(phi[:,i]!=0)==0:\n",
    "        idx_zero = np.append(idx_zero,int(i))"
   ]
  },
  {
   "cell_type": "code",
   "execution_count": 16,
   "metadata": {},
   "outputs": [
    {
     "name": "stdout",
     "output_type": "stream",
     "text": [
      "(7706, 1830)\n",
      "(7706, 1486)\n"
     ]
    }
   ],
   "source": [
    "phi_reduce = np.delete(phi,idx_zero,1)\n",
    "print(phi.shape)\n",
    "print(phi_reduce.shape)"
   ]
  },
  {
   "cell_type": "code",
   "execution_count": 17,
   "metadata": {},
   "outputs": [],
   "source": [
    "phi_obs = phi_reduce[idx_new,:]\n",
    "s_obs = np.vstack((normalized_lon[idx_new],normalized_lat[idx_new])).T\n",
    "X = covariates[idx_new,:]\n",
    "normalized_X = X\n",
    "for i in range(X.shape[1]):\n",
    "    normalized_X[:,i] = (X[:,i]-min(X[:,i]))/(max(X[:,i])-min(X[:,i]))\n",
    "N_obs = X.shape[0]"
   ]
  },
  {
   "cell_type": "code",
   "execution_count": 18,
   "metadata": {},
   "outputs": [
    {
     "data": {
      "image/png": "[encoded data removed]",
      "text/plain": [
       "<Figure size 640x480 with 1 Axes>"
      ]
     },
     "metadata": {},
     "output_type": "display_data"
    }
   ],
   "source": [
    "# scatter plot of the circles dataset with points colored by class\n",
    "from numpy import where\n",
    "from matplotlib import pyplot\n",
    "# select indices of points with each class label\n",
    "for i in range(2):\n",
    "\tsamples_ix = where(z_class[:,0] == i)\n",
    "\tpyplot.scatter(s_obs[samples_ix, 0], s_obs[samples_ix, 1], label=str(i))\n",
    "pyplot.legend()\n",
    "pyplot.show()"
   ]
  },
  {
   "cell_type": "code",
   "execution_count": 19,
   "metadata": {},
   "outputs": [
    {
     "name": "stderr",
     "output_type": "stream",
     "text": [
      "/var/folders/ws/m03sh3xd4ns621mckfrht3r0000_08/T/ipykernel_82217/195722182.py:2: RuntimeWarning: divide by zero encountered in log\n",
      "  z_log = np.log(z)\n"
     ]
    }
   ],
   "source": [
    "## Save the prepocessed data for Kriging\n",
    "z_log = np.log(z)\n",
    "kriging = np.concatenate((s_obs, normalized_X, z, z_class,z_log),axis=1)\n",
    "traindf=pd.DataFrame(kriging)\n",
    "traindf.to_csv('./data/kriging.csv')"
   ]
  },
  {
   "cell_type": "markdown",
   "metadata": {},
   "source": [
    "## DeepKriging and baseline DNN performance"
   ]
  },
  {
   "cell_type": "markdown",
   "metadata": {},
   "source": [
    "### Load the useful functions"
   ]
  },
  {
   "cell_type": "code",
   "execution_count": null,
   "metadata": {},
   "outputs": [],
   "source": [
    "def deep_model(model, X_train, y_train, X_valid, y_valid, data_type):\n",
    "    '''\n",
    "    Function to train a multi-class model. The number of epochs and \n",
    "    batch_size are set by the constants at the top of the\n",
    "    notebook. \n",
    "    \n",
    "    Parameters:\n",
    "        model : model with the chosen architecture\n",
    "        X_train : training features\n",
    "        y_train : training target\n",
    "        X_valid : validation features\n",
    "        Y_valid : validation target\n",
    "    Output:\n",
    "        model training history\n",
    "    '''\n",
    "    if data_type == 'continuous':\n",
    "        model.compile(optimizer='adam'\n",
    "                      , loss='mse'\n",
    "                      , metrics=['mse','mae'])\n",
    "    if data_type == 'discrete':\n",
    "        model.compile(loss='binary_crossentropy', optimizer='adam', metrics=['accuracy'])\n",
    "    \n",
    "    history = model.fit(X_train\n",
    "                       , y_train\n",
    "                       , epochs=NB_START_EPOCHS\n",
    "                       , batch_size=BATCH_SIZE\n",
    "                       , validation_data=(X_valid, y_valid)\n",
    "                       , verbose=0)\n",
    "    return history\n",
    "\n",
    "def test_model(model, X_train, y_train, X_test, y_test, epoch_stop):\n",
    "    '''\n",
    "    Function to test the model on new data after training it\n",
    "    on the full training data with the optimal number of epochs.\n",
    "    \n",
    "    Parameters:\n",
    "        model : trained model\n",
    "        X_train : training features\n",
    "        y_train : training target\n",
    "        X_test : test features\n",
    "        y_test : test target\n",
    "        epochs : optimal number of epochs\n",
    "    Output:\n",
    "        test accuracy and test loss\n",
    "    '''\n",
    "    model.fit(X_train\n",
    "              , y_train\n",
    "              , epochs=epoch_stop\n",
    "              , batch_size=BATCH_SIZE\n",
    "              , verbose=0)\n",
    "    results = model.evaluate(X_test, y_test, verbose=0)\n",
    "    return results\n",
    "    \n",
    "def optimal_epoch(model_hist):\n",
    "    '''\n",
    "    Function to return the epoch number where the validation loss is\n",
    "    at its minimum\n",
    "    \n",
    "    Parameters:\n",
    "        model_hist : training history of model\n",
    "    Output:\n",
    "        epoch number with minimum validation loss\n",
    "    '''\n",
    "    min_epoch = np.argmin(model_hist.history['val_loss']) + 1\n",
    "    return min_epoch"
   ]
  },
  {
   "cell_type": "markdown",
   "metadata": {},
   "source": [
    "### Specify the model structure"
   ]
  },
  {
   "cell_type": "code",
   "execution_count": null,
   "metadata": {},
   "outputs": [],
   "source": [
    "# DeepKriging model for continuous data\n",
    "p = covariates.shape[1] + phi_reduce.shape[1]\n",
    "model = Sequential()\n",
    "model.add(Dense(100, input_dim = p,  kernel_initializer='he_uniform', activation='relu'))\n",
    "model.add(Dropout(rate=0.5))\n",
    "model.add(BatchNormalization())\n",
    "model.add(Dense(100, activation='relu'))\n",
    "model.add(Dropout(rate=0.5))\n",
    "model.add(Dense(100, activation='relu'))\n",
    "model.add(BatchNormalization())\n",
    "model.add(Dense(1, activation='linear'))"
   ]
  },
  {
   "cell_type": "code",
   "execution_count": null,
   "metadata": {},
   "outputs": [],
   "source": [
    "# DeepKriging model for categorical data\n",
    "model_class = Sequential()\n",
    "model_class.add(Dense(100, input_dim = p,  kernel_initializer='he_uniform', activation='relu'))\n",
    "model_class.add(Dropout(rate=0.5))\n",
    "model_class.add(BatchNormalization())\n",
    "model_class.add(Dense(100, activation='relu'))\n",
    "model_class.add(Dropout(rate=0.5))\n",
    "model_class.add(Dense(100, activation='relu'))\n",
    "model_class.add(BatchNormalization())\n",
    "model_class.add(Dense(1, activation='sigmoid'))"
   ]
  },
  {
   "cell_type": "code",
   "execution_count": null,
   "metadata": {},
   "outputs": [],
   "source": [
    "# Baseline DNN only with covariates and coordinates\n",
    "p_base = covariates.shape[1] + s_obs.shape[1]\n",
    "# Neural network\n",
    "model_base = Sequential()\n",
    "model_base.add(Dense(100, input_dim=p_base,  kernel_initializer='he_uniform', activation='relu'))\n",
    "model_base.add(Dropout(rate=0.5))\n",
    "model_base.add(BatchNormalization())\n",
    "model_base.add(Dense(100, activation='relu'))\n",
    "model_base.add(Dropout(rate=0.5))\n",
    "model_base.add(Dense(100, activation='relu'))\n",
    "model_base.add(BatchNormalization())\n",
    "model_base.add(Dense(1, activation='linear'))"
   ]
  },
  {
   "cell_type": "code",
   "execution_count": null,
   "metadata": {},
   "outputs": [],
   "source": [
    "# Baseline DNN for classification\n",
    "model_base_class = Sequential()\n",
    "model_base_class.add(Dense(100, input_dim=p_base,  kernel_initializer='he_uniform', activation='relu'))\n",
    "model_base_class.add(Dropout(rate=0.5))\n",
    "model_base_class.add(BatchNormalization())\n",
    "model_base_class.add(Dense(100, activation='relu'))\n",
    "model_base_class.add(Dropout(rate=0.5))\n",
    "model_base_class.add(Dense(100, activation='relu'))\n",
    "model_base_class.add(BatchNormalization())\n",
    "model_base_class.add(Dense(1, activation='sigmoid'))"
   ]
  },
  {
   "cell_type": "markdown",
   "metadata": {},
   "source": [
    "### Run cross-validation"
   ]
  },
  {
   "cell_type": "code",
   "execution_count": null,
   "metadata": {},
   "outputs": [],
   "source": [
    "from sklearn.model_selection import KFold\n",
    "NB_START_EPOCHS = 200  # Number of epochs we usually start to train with\n",
    "BATCH_SIZE = 64  # Size of the batches used in the mini-batch gradient descent"
   ]
  },
  {
   "cell_type": "code",
   "execution_count": null,
   "metadata": {},
   "outputs": [],
   "source": [
    "normalized_X"
   ]
  },
  {
   "cell_type": "code",
   "execution_count": null,
   "metadata": {},
   "outputs": [],
   "source": [
    "num_folds = 10\n",
    "kfold = KFold(n_splits=num_folds, shuffle=True, random_state = 123)\n",
    "fold_no = 1\n",
    "inputs = np.hstack((normalized_X,phi_obs))\n",
    "inputs_base = np.hstack((normalized_X,s_obs))\n",
    "targets = z\n",
    "targets_class = z_class\n",
    "mse_per_fold = []\n",
    "mse_per_fold_base = []\n",
    "mae_per_fold = []\n",
    "mae_per_fold_base = []\n",
    "acc_per_fold = []\n",
    "acc_per_fold_base = []\n",
    "for train_idx, test_idx in kfold.split(inputs, targets):\n",
    "    print('------------------------------------------------------------------------')\n",
    "    print(f'Training for fold {fold_no} ...')\n",
    "    history = deep_model(model, inputs[train_idx], targets[train_idx,0:1]\\\n",
    "                              , inputs[test_idx], targets[test_idx,0:1],'continuous')\n",
    "    history_base = deep_model(model_base, inputs_base[train_idx], targets[train_idx,0:1]\\\n",
    "                              , inputs_base[test_idx], targets[test_idx,0:1],'continuous')\n",
    "    ## Classification\n",
    "    history_class = deep_model(model_class, inputs[train_idx], targets_class[train_idx,0:1]\\\n",
    "                              , inputs[test_idx], targets_class[test_idx,0:1],'discrete')\n",
    "    history_base_class = deep_model(model_base_class, inputs_base[train_idx], targets_class[train_idx,0:1]\\\n",
    "                              , inputs_base[test_idx], targets_class[test_idx,0:1],'discrete')\n",
    "    model_optim = 200#optimal_epoch(history)\n",
    "    model_optim_base = 200#optimal_epoch(history_base)\n",
    "    result = test_model(model, inputs[train_idx], targets[train_idx,0:1], inputs[test_idx]\\\n",
    "                        , targets[test_idx,0:1], model_optim)\n",
    "    result_base = test_model(model_base, inputs_base[train_idx], targets[train_idx,0:1], inputs_base[test_idx]\\\n",
    "                             , targets[test_idx,0:1], model_optim_base)\n",
    "    scores = result\n",
    "    scores_base = result_base\n",
    "    print(f'The performance of DeepKriging: MSE = {scores[1]}, MAE = {scores[2]}')\n",
    "    print(f'The performance of classical DNN: MSE = {scores_base[1]}, MAE = {scores_base[2]}')\n",
    "    model_optim_class = 200#optimal_epoch(history_class)\n",
    "    model_optim_base_class = 200#optimal_epoch(history_base_class)\n",
    "    result_class = test_model(model_class, inputs[train_idx], targets_class[train_idx,0:1], inputs[test_idx]\\\n",
    "                        , targets_class[test_idx,0:1], model_optim_class)\n",
    "    result_base_class = test_model(model_base_class, inputs_base[train_idx], targets_class[train_idx,0:1], inputs_base[test_idx]\\\n",
    "                             , targets_class[test_idx,0:1], model_optim_base_class)\n",
    "    scores_class = result_class\n",
    "    scores_base_class = result_base_class\n",
    "    print(f'The performance of DeepKriging: accuracy = {scores_class[1]}')\n",
    "    print(f'The performance of classical DNN: accuracy = {result_base_class[1]}')\n",
    "    fold_no = fold_no + 1\n",
    "    acc_per_fold.append(scores_class[1])\n",
    "    acc_per_fold_base.append(scores_base_class[1])\n",
    "    mse_per_fold.append(scores[1])\n",
    "    mse_per_fold_base.append(scores_base[1])\n",
    "    mae_per_fold.append(scores[2])\n",
    "    mae_per_fold_base.append(scores_base[2])"
   ]
  },
  {
   "cell_type": "code",
   "execution_count": null,
   "metadata": {},
   "outputs": [],
   "source": [
    "##Summerize the results\n",
    "print(np.mean(mse_per_fold))\n",
    "print(np.std(mse_per_fold))\n",
    "print(np.mean(mse_per_fold_base))\n",
    "print(np.std(mse_per_fold_base))\n",
    "print(np.mean(mae_per_fold))\n",
    "print(np.std(mae_per_fold))\n",
    "print(np.mean(mae_per_fold_base))\n",
    "print(np.std(mae_per_fold_base))\n",
    "print(np.mean(acc_per_fold))\n",
    "print(np.std(acc_per_fold))\n",
    "print(np.mean(acc_per_fold_base))\n",
    "print(np.std(acc_per_fold_base))"
   ]
  },
  {
   "cell_type": "code",
   "execution_count": null,
   "metadata": {},
   "outputs": [],
   "source": [
    "## Save the same test index for Kriging\n",
    "train_idx_combine = []\n",
    "test_idx_combine = []\n",
    "for train_idx, test_idx in kfold.split(inputs, targets):\n",
    "    train_idx_combine.append(train_idx)\n",
    "    test_idx_combine.append(test_idx)  \n",
    "test_df = pd.DataFrame(test_idx_combine).T\n",
    "test_df.to_csv('./data/test_idx.csv')"
   ]
  },
  {
   "cell_type": "markdown",
   "metadata": {},
   "source": [
    "### The case without covariates"
   ]
  },
  {
   "cell_type": "code",
   "execution_count": null,
   "metadata": {},
   "outputs": [],
   "source": [
    "# DeepKriging model for continuous data\n",
    "p2 =  phi_reduce.shape[1]\n",
    "model_nx = Sequential()\n",
    "model_nx.add(Dense(100, input_dim = p2,  kernel_initializer='he_uniform', activation='relu'))\n",
    "model_nx.add(Dropout(rate=0.5))\n",
    "model_nx.add(BatchNormalization())\n",
    "model_nx.add(Dense(100, activation='relu'))\n",
    "model_nx.add(Dropout(rate=0.5))\n",
    "model_nx.add(Dense(100, activation='relu'))\n",
    "model_nx.add(BatchNormalization())\n",
    "model_nx.add(Dense(1, activation='linear'))"
   ]
  },
  {
   "cell_type": "code",
   "execution_count": null,
   "metadata": {},
   "outputs": [],
   "source": [
    "# DeepKriging model for categorical data\n",
    "model_class_nx = Sequential()\n",
    "model_class_nx.add(Dense(100, input_dim = p2,  kernel_initializer='he_uniform', activation='relu'))\n",
    "model_class_nx.add(Dropout(rate=0.5))\n",
    "model_class_nx.add(BatchNormalization())\n",
    "model_class_nx.add(Dense(100, activation='relu'))\n",
    "model_class_nx.add(Dropout(rate=0.5))\n",
    "model_class_nx.add(Dense(100, activation='relu'))\n",
    "model_class_nx.add(BatchNormalization())\n",
    "model_class_nx.add(Dense(1, activation='sigmoid'))"
   ]
  },
  {
   "cell_type": "code",
   "execution_count": null,
   "metadata": {},
   "outputs": [],
   "source": [
    "inputs = phi_obs\n",
    "inputs_base = s_obs\n",
    "targets = z\n",
    "targets_class = z_class\n",
    "mse_per_fold_nx = []\n",
    "mae_per_fold_nx = []\n",
    "acc_per_fold_nx = []\n",
    "fold_no = 1\n",
    "for train_idx, test_idx in kfold.split(inputs, targets):\n",
    "    print('------------------------------------------------------------------------')\n",
    "    print(f'Training for fold {fold_no} ...')\n",
    "    history_nx = deep_model(model_nx, inputs[train_idx], targets[train_idx,0:1]\\\n",
    "                              , inputs[test_idx], targets[test_idx,0:1],'continuous')\n",
    "    ## Classification\n",
    "    history_class_nx = deep_model(model_class_nx, inputs[train_idx], targets_class[train_idx,0:1]\\\n",
    "                              , inputs[test_idx], targets_class[test_idx,0:1],'discrete')\n",
    "    model_optim_nx = 200#optimal_epoch(history_nx)\n",
    "    result_nx = test_model(model_nx, inputs[train_idx], targets[train_idx,0:1], inputs[test_idx]\\\n",
    "                        , targets[test_idx,0:1], model_optim_nx)\n",
    "    scores_nx = result_nx\n",
    "    print(f'The performance of DeepKriging without X: MSE = {scores_nx[1]}, MAE = {scores_nx[2]}')\n",
    "    model_optim_class_nx = 200#optimal_epoch(history_class_nx)\n",
    "    result_class_nx = test_model(model_class_nx, inputs[train_idx], targets_class[train_idx,0:1], inputs[test_idx]\\\n",
    "                        , targets_class[test_idx,0:1], model_optim_class_nx)\n",
    "    scores_class_nx = result_class_nx\n",
    "    print(f'The performance of DeepKriging without X: accuracy = {scores_class_nx[1]}')\n",
    "    fold_no = fold_no + 1\n",
    "    acc_per_fold_nx.append(scores_class_nx[1])\n",
    "    mse_per_fold_nx.append(scores_nx[1])\n",
    "    mae_per_fold_nx.append(scores_nx[2])"
   ]
  },
  {
   "cell_type": "code",
   "execution_count": null,
   "metadata": {},
   "outputs": [],
   "source": [
    "print(np.mean(mse_per_fold_nx))\n",
    "print(np.std(mse_per_fold_nx))\n",
    "print(np.mean(mae_per_fold_nx))\n",
    "print(np.std(mae_per_fold_nx))\n",
    "print(np.mean(acc_per_fold_nx))\n",
    "print(np.std(acc_per_fold_nx))"
   ]
  },
  {
   "cell_type": "markdown",
   "metadata": {},
   "source": [
    "## Prediction"
   ]
  },
  {
   "cell_type": "code",
   "execution_count": null,
   "metadata": {},
   "outputs": [],
   "source": [
    "covariates"
   ]
  },
  {
   "cell_type": "code",
   "execution_count": null,
   "metadata": {},
   "outputs": [],
   "source": [
    "inputs = np.hstack((normalized_X,phi_obs))\n",
    "targets = z\n",
    "history = deep_model(model, inputs, targets[:,0:1], inputs, targets[:,0:1],'continuous')"
   ]
  },
  {
   "cell_type": "code",
   "execution_count": null,
   "metadata": {},
   "outputs": [],
   "source": [
    "X_pred = covariates\n",
    "normalized_X_pred = X_pred\n",
    "for i in range(X_pred.shape[1]):\n",
    "    normalized_X_pred[:,i] = (X_pred[:,i]-min(X[:,i]))/(max(X[:,i])-min(X[:,i]))"
   ]
  },
  {
   "cell_type": "code",
   "execution_count": null,
   "metadata": {},
   "outputs": [],
   "source": [
    "X_RBF_pred = np.hstack((normalized_X_pred,phi_reduce))\n",
    "PM25_pred = model.predict(X_RBF_pred)"
   ]
  },
  {
   "cell_type": "code",
   "execution_count": null,
   "metadata": {},
   "outputs": [],
   "source": [
    "s = np.vstack((normalized_lon,normalized_lat)).T\n",
    "PM25_pred_combine = np.concatenate((s,normalized_X_pred,PM25_pred),axis=1)\n",
    "PM25_pred_df=pd.DataFrame(PM25_pred_combine)\n",
    "PM25_pred_df.to_csv('./data/PM25_pred_0605.csv')"
   ]
  },
  {
   "cell_type": "markdown",
   "metadata": {},
   "source": [
    "### Risk"
   ]
  },
  {
   "cell_type": "code",
   "execution_count": null,
   "metadata": {},
   "outputs": [],
   "source": [
    "import sys\n",
    "sys.path.append('../')\n",
    "from dcdr.deep_hist import Binning_CDF\n",
    "from scipy.stats import iqr\n",
    "%matplotlib inline\n",
    "%config InlineBackend.figure_format = 'svg'\n",
    "import matplotlib;matplotlib.rcParams['figure.figsize'] = (8,6)\n",
    "init_seed=1\n",
    "num_cut = int((max(z)-min(z))*N**(1/3)/(2*iqr(z)))\n",
    "hidden_list = [100,100,100]\n",
    "dropout_list = [0.5,0.5,0.5]\n",
    "histogram_bin = 'random'\n",
    "loss_model = 'multi-binary'\n",
    "seeding = 1"
   ]
  },
  {
   "cell_type": "code",
   "execution_count": null,
   "metadata": {},
   "outputs": [],
   "source": [
    "dcdr_model = Binning_CDF(num_cut=num_cut, hidden_list=hidden_list,\n",
    "                         histogram_bin=histogram_bin, dropout_list=dropout_list,\n",
    "                         seeding=seeding, loss_model=loss_model, \n",
    "                         niter=10)\n",
    "    \n",
    "dcdr_model.fit_cdf(inputs, targets, batch_size=32, merge_empty_bin=True)"
   ]
  },
  {
   "cell_type": "code",
   "execution_count": null,
   "metadata": {},
   "outputs": [],
   "source": [
    "risk = dcdr_model.predict_cdf(X_RBF_pred,pred_lim=[12,12],ngrid=1)"
   ]
  },
  {
   "cell_type": "code",
   "execution_count": null,
   "metadata": {},
   "outputs": [],
   "source": [
    "riskdf=pd.DataFrame(risk)\n",
    "riskdf.to_csv('./data/risk_pred.csv')"
   ]
  },
  {
   "cell_type": "code",
   "execution_count": null,
   "metadata": {},
   "outputs": [],
   "source": []
  }
 ],
 "metadata": {
  "kernelspec": {
   "display_name": "Python 3",
   "language": "python",
   "name": "python3"
  },
  "language_info": {
   "codemirror_mode": {
    "name": "ipython",
    "version": 3
   },
   "file_extension": ".py",
   "mimetype": "text/x-python",
   "name": "python",
   "nbconvert_exporter": "python",
   "pygments_lexer": "ipython3",
   "version": "3.10.13"
  }
 },
 "nbformat": 4,
 "nbformat_minor": 2
}
