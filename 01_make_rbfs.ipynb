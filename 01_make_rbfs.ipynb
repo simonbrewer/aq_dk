{
 "cells": [
  {
   "cell_type": "markdown",
   "metadata": {},
   "source": [
    "# Basis function construction\n",
    "\n"
   ]
  },
  {
   "cell_type": "code",
   "execution_count": 1,
   "metadata": {},
   "outputs": [],
   "source": [
    "import pandas as pd\n",
    "import numpy as np\n",
    "import matplotlib.pyplot as plt\n",
    "import geopandas"
   ]
  },
  {
   "cell_type": "markdown",
   "metadata": {},
   "source": [
    "Load monitor data"
   ]
  },
  {
   "cell_type": "code",
   "execution_count": 3,
   "metadata": {},
   "outputs": [
    {
     "data": {
      "text/html": [
       "<div>\n",
       "<style scoped>\n",
       "    .dataframe tbody tr th:only-of-type {\n",
       "        vertical-align: middle;\n",
       "    }\n",
       "\n",
       "    .dataframe tbody tr th {\n",
       "        vertical-align: top;\n",
       "    }\n",
       "\n",
       "    .dataframe thead th {\n",
       "        text-align: right;\n",
       "    }\n",
       "</style>\n",
       "<table border=\"1\" class=\"dataframe\">\n",
       "  <thead>\n",
       "    <tr style=\"text-align: right;\">\n",
       "      <th></th>\n",
       "      <th>Unnamed: 0</th>\n",
       "      <th>udaq.site</th>\n",
       "      <th>name</th>\n",
       "      <th>lat</th>\n",
       "      <th>lon</th>\n",
       "    </tr>\n",
       "  </thead>\n",
       "  <tbody>\n",
       "    <tr>\n",
       "      <th>0</th>\n",
       "      <td>1</td>\n",
       "      <td>49-035-2005</td>\n",
       "      <td>Copperview</td>\n",
       "      <td>40.597911</td>\n",
       "      <td>-111.894162</td>\n",
       "    </tr>\n",
       "    <tr>\n",
       "      <th>1</th>\n",
       "      <td>2</td>\n",
       "      <td>49-035-3015</td>\n",
       "      <td>Environmental Quality</td>\n",
       "      <td>40.777028</td>\n",
       "      <td>-111.945850</td>\n",
       "    </tr>\n",
       "    <tr>\n",
       "      <th>2</th>\n",
       "      <td>3</td>\n",
       "      <td>49-035-3006</td>\n",
       "      <td>Hawthorne</td>\n",
       "      <td>40.734367</td>\n",
       "      <td>-111.872221</td>\n",
       "    </tr>\n",
       "    <tr>\n",
       "      <th>3</th>\n",
       "      <td>4</td>\n",
       "      <td>49-035-3013</td>\n",
       "      <td>Herriman #3</td>\n",
       "      <td>40.496412</td>\n",
       "      <td>-112.036329</td>\n",
       "    </tr>\n",
       "    <tr>\n",
       "      <th>4</th>\n",
       "      <td>5</td>\n",
       "      <td>49-035-3014</td>\n",
       "      <td>Lake Park</td>\n",
       "      <td>40.709905</td>\n",
       "      <td>-112.008684</td>\n",
       "    </tr>\n",
       "  </tbody>\n",
       "</table>\n",
       "</div>"
      ],
      "text/plain": [
       "   Unnamed: 0    udaq.site                   name        lat         lon\n",
       "0           1  49-035-2005             Copperview  40.597911 -111.894162\n",
       "1           2  49-035-3015  Environmental Quality  40.777028 -111.945850\n",
       "2           3  49-035-3006              Hawthorne  40.734367 -111.872221\n",
       "3           4  49-035-3013            Herriman #3  40.496412 -112.036329\n",
       "4           5  49-035-3014              Lake Park  40.709905 -112.008684"
      ]
     },
     "execution_count": 3,
     "metadata": {},
     "output_type": "execute_result"
    }
   ],
   "source": [
    "monitor_df = pd.read_csv(\"./data/monitors.csv\")\n",
    "monitor_df.head()"
   ]
  },
  {
   "cell_type": "markdown",
   "metadata": {},
   "source": [
    "Load grid (we'll need to filter this down)"
   ]
  },
  {
   "cell_type": "code",
   "execution_count": 4,
   "metadata": {},
   "outputs": [],
   "source": [
    "grid_gdf = geopandas.read_file(\"./data/coarse_grid_pts/grid_pts_coarse.shp\")"
   ]
  },
  {
   "cell_type": "code",
   "execution_count": 5,
   "metadata": {},
   "outputs": [
    {
     "data": {
      "text/plain": [
       "<Axes: >"
      ]
     },
     "execution_count": 5,
     "metadata": {},
     "output_type": "execute_result"
    },
    {
     "data": {
      "image/png": "[encoded data removed]",
      "text/plain": [
       "<Figure size 640x480 with 1 Axes>"
      ]
     },
     "metadata": {},
     "output_type": "display_data"
    }
   ],
   "source": [
    "grid_gdf.plot()"
   ]
  },
  {
   "cell_type": "code",
   "execution_count": 22,
   "metadata": {},
   "outputs": [
    {
     "data": {
      "text/plain": [
       "<bound method NDFrame.describe of                   Timestamp   Latitude   Longitude Elevation GPS_Speed  \\\n",
       "                        UTC       ddeg        ddeg         m       m/s   \n",
       "0       2023-06-01T00:00:00  40.767262 -111.865799    1348.7      0.00   \n",
       "1       2023-06-01T00:00:05  40.767262 -111.865799    1348.7      0.00   \n",
       "2       2023-06-01T00:00:10  40.767262 -111.865799    1348.7      0.00   \n",
       "3       2023-06-01T00:00:15  40.767262 -111.865799    1348.7      0.00   \n",
       "4       2023-06-01T00:00:20  40.767262 -111.865799    1348.7      0.00   \n",
       "...                     ...        ...         ...       ...       ...   \n",
       "151532  2023-06-30T23:59:35  40.704048 -111.977150    1293.3      0.00   \n",
       "151533  2023-06-30T23:59:40  40.704052 -111.977150    1293.3      0.00   \n",
       "151534  2023-06-30T23:59:45  40.704052 -111.977150    1293.3      0.87   \n",
       "151535  2023-06-30T23:59:50  40.703819 -111.977165    1292.8      7.31   \n",
       "151536  2023-06-30T23:59:55  40.703548 -111.977219    1293.0      3.91   \n",
       "\n",
       "       GPS_Direction GPS_RMC_Valid Battery_Voltage Bus_Box_Temperature  \\\n",
       "                 deg        binary           volts                degC   \n",
       "0              275.8           1.0           13.39               25.76   \n",
       "1              275.8           1.0           13.38               25.76   \n",
       "2              275.8           1.0           13.39               25.76   \n",
       "3              275.8           1.0           13.38               25.76   \n",
       "4              275.8           1.0           13.39               25.76   \n",
       "...              ...           ...             ...                 ...   \n",
       "151532         179.9           1.0           13.17               31.58   \n",
       "151533         179.9           1.0           13.18               31.58   \n",
       "151534         180.0           1.0           13.18               31.58   \n",
       "151535         188.3           1.0           13.18               31.57   \n",
       "151536         183.9           1.0           13.18               31.57   \n",
       "\n",
       "       Bus_Top_Temperature  ... ES405_Internal_Relative_Humidity  \\\n",
       "                      degC  ...                                %   \n",
       "0                    24.68  ...                             21.1   \n",
       "1                    24.68  ...                              NaN   \n",
       "2                    24.68  ...                              NaN   \n",
       "3                    24.70  ...                              NaN   \n",
       "4                    24.70  ...                              NaN   \n",
       "...                    ...  ...                              ...   \n",
       "151532               29.43  ...                              NaN   \n",
       "151533               29.41  ...                              NaN   \n",
       "151534               29.43  ...                              NaN   \n",
       "151535               29.45  ...                              NaN   \n",
       "151536               29.46  ...                              NaN   \n",
       "\n",
       "       ES405_Internal_Air_Pressure ES405_Error_Code 2B_Ozone_Concentration  \\\n",
       "                               hpa             code                   ppbv   \n",
       "0                            643.9              0.0                   51.5   \n",
       "1                              NaN              NaN                   44.2   \n",
       "2                              NaN              NaN                   49.4   \n",
       "3                              NaN              NaN                   49.4   \n",
       "4                              NaN              NaN                   46.0   \n",
       "...                            ...              ...                    ...   \n",
       "151532                         NaN              NaN                   56.4   \n",
       "151533                         NaN              NaN                   58.2   \n",
       "151534                         NaN              NaN                   57.7   \n",
       "151535                         NaN              NaN                   61.2   \n",
       "151536                         NaN              NaN                   56.3   \n",
       "\n",
       "       2B_Air_Flow_Rate 2B_Internal_Air_Temperature 2B_Internal_Air_Pressure  \\\n",
       "                  L/min                        degC                      hpa   \n",
       "0                  2.14                        37.0                    826.4   \n",
       "1                  2.13                        37.0                    826.7   \n",
       "2                  2.14                        37.0                    826.8   \n",
       "3                  2.15                        37.0                    826.5   \n",
       "4                  2.14                        37.0                    826.4   \n",
       "...                 ...                         ...                      ...   \n",
       "151532             2.13                        42.8                    842.5   \n",
       "151533             2.11                        42.8                    842.5   \n",
       "151534             2.14                        42.8                    842.9   \n",
       "151535             2.13                        42.8                    842.8   \n",
       "151536             2.13                        42.8                    842.5   \n",
       "\n",
       "       PM2.5_Data_Flagged Ozone_Data_Flagged GPS_Data_Flagged  \n",
       "                   binary             binary           binary  \n",
       "0                       0                  0                0  \n",
       "1                       0                  0                0  \n",
       "2                       0                  0                0  \n",
       "3                       0                  0                0  \n",
       "4                       0                  0                0  \n",
       "...                   ...                ...              ...  \n",
       "151532                  0                  0                0  \n",
       "151533                  0                  0                0  \n",
       "151534                  0                  0                0  \n",
       "151535                  0                  0                0  \n",
       "151536                  0                  0                0  \n",
       "\n",
       "[151537 rows x 27 columns]>"
      ]
     },
     "execution_count": 22,
     "metadata": {},
     "output_type": "execute_result"
    }
   ],
   "source": [
    "ebus = pd.read_csv(\"./data/EBUS_TEST_DATA/BUS04_2023_06.csv\", header = [0,1],  \n",
    "                 na_values = -9999.00)\n",
    "ebus.describe\n"
   ]
  },
  {
   "cell_type": "code",
   "execution_count": 23,
   "metadata": {},
   "outputs": [
    {
     "data": {
      "text/plain": [
       "[<matplotlib.lines.Line2D at 0x176c956c0>]"
      ]
     },
     "execution_count": 23,
     "metadata": {},
     "output_type": "execute_result"
    },
    {
     "data": {
      "image/png": "[encoded data removed]",
      "text/plain": [
       "<Figure size 640x480 with 1 Axes>"
      ]
     },
     "metadata": {},
     "output_type": "display_data"
    }
   ],
   "source": [
    "plt.plot(ebus['2B_Ozone_Concentration'])"
   ]
  },
  {
   "cell_type": "code",
   "execution_count": 21,
   "metadata": {},
   "outputs": [
    {
     "data": {
      "text/html": [
       "<div>\n",
       "<style scoped>\n",
       "    .dataframe tbody tr th:only-of-type {\n",
       "        vertical-align: middle;\n",
       "    }\n",
       "\n",
       "    .dataframe tbody tr th {\n",
       "        vertical-align: top;\n",
       "    }\n",
       "\n",
       "    .dataframe thead th {\n",
       "        text-align: right;\n",
       "    }\n",
       "</style>\n",
       "<table border=\"1\" class=\"dataframe\">\n",
       "  <thead>\n",
       "    <tr style=\"text-align: right;\">\n",
       "      <th></th>\n",
       "      <th>ug/m3</th>\n",
       "    </tr>\n",
       "  </thead>\n",
       "  <tbody>\n",
       "    <tr>\n",
       "      <th>0</th>\n",
       "      <td>1.9</td>\n",
       "    </tr>\n",
       "    <tr>\n",
       "      <th>1</th>\n",
       "      <td>NaN</td>\n",
       "    </tr>\n",
       "    <tr>\n",
       "      <th>2</th>\n",
       "      <td>NaN</td>\n",
       "    </tr>\n",
       "    <tr>\n",
       "      <th>3</th>\n",
       "      <td>NaN</td>\n",
       "    </tr>\n",
       "    <tr>\n",
       "      <th>4</th>\n",
       "      <td>NaN</td>\n",
       "    </tr>\n",
       "    <tr>\n",
       "      <th>...</th>\n",
       "      <td>...</td>\n",
       "    </tr>\n",
       "    <tr>\n",
       "      <th>151532</th>\n",
       "      <td>NaN</td>\n",
       "    </tr>\n",
       "    <tr>\n",
       "      <th>151533</th>\n",
       "      <td>NaN</td>\n",
       "    </tr>\n",
       "    <tr>\n",
       "      <th>151534</th>\n",
       "      <td>NaN</td>\n",
       "    </tr>\n",
       "    <tr>\n",
       "      <th>151535</th>\n",
       "      <td>NaN</td>\n",
       "    </tr>\n",
       "    <tr>\n",
       "      <th>151536</th>\n",
       "      <td>NaN</td>\n",
       "    </tr>\n",
       "  </tbody>\n",
       "</table>\n",
       "<p>151537 rows × 1 columns</p>\n",
       "</div>"
      ],
      "text/plain": [
       "        ug/m3\n",
       "0         1.9\n",
       "1         NaN\n",
       "2         NaN\n",
       "3         NaN\n",
       "4         NaN\n",
       "...       ...\n",
       "151532    NaN\n",
       "151533    NaN\n",
       "151534    NaN\n",
       "151535    NaN\n",
       "151536    NaN\n",
       "\n",
       "[151537 rows x 1 columns]"
      ]
     },
     "execution_count": 21,
     "metadata": {},
     "output_type": "execute_result"
    }
   ],
   "source": [
    "ebus['ES405_PM2.5_Concentration']"
   ]
  }
 ],
 "metadata": {
  "kernelspec": {
   "display_name": "Python 3",
   "language": "python",
   "name": "python3"
  },
  "language_info": {
   "codemirror_mode": {
    "name": "ipython",
    "version": 3
   },
   "file_extension": ".py",
   "mimetype": "text/x-python",
   "name": "python",
   "nbconvert_exporter": "python",
   "pygments_lexer": "ipython3",
   "version": "3.10.13"
  }
 },
 "nbformat": 4,
 "nbformat_minor": 2
}
