{
 "cells": [
  {
   "cell_type": "markdown",
   "metadata": {},
   "source": [
    "# Random forest cross-validation"
   ]
  },
  {
   "cell_type": "markdown",
   "metadata": {},
   "source": [
    "Run cross validation by station (leave-one out)"
   ]
  },
  {
   "cell_type": "code",
   "execution_count": null,
   "metadata": {},
   "outputs": [],
   "source": [
    "import numpy as np\n",
    "import matplotlib.pyplot as plt\n",
    "import pandas as pd\n",
    "\n",
    "from sklearn.model_selection import train_test_split\n",
    "from sklearn import ensemble\n",
    "from sklearn.metrics import mean_absolute_error\n",
    "from sklearn.metrics import mean_squared_error\n",
    "from sklearn.model_selection import LeaveOneGroupOut"
   ]
  },
  {
   "cell_type": "code",
   "execution_count": null,
   "metadata": {},
   "outputs": [],
   "source": [
    "dat = pd.read_csv(\"./rbfs/phi_short_reduce.csv\")\n",
    "dat.head()\n",
    "#X = np.load(\"./rbfs/phi_reduce.npy\")\n",
    "#y = np.load(\"./rbfs/y.npy\")"
   ]
  },
  {
   "cell_type": "code",
   "execution_count": null,
   "metadata": {},
   "outputs": [],
   "source": [
    "dat2 = dat[dat['date'] == \"2023-01-01\"]\n",
    "dat2.shape"
   ]
  },
  {
   "cell_type": "code",
   "execution_count": null,
   "metadata": {},
   "outputs": [],
   "source": [
    "dat2 = dat2.groupby('site')"
   ]
  },
  {
   "cell_type": "code",
   "execution_count": null,
   "metadata": {},
   "outputs": [],
   "source": [
    "# Plot\n",
    "fig, ax = plt.subplots()\n",
    "\n",
    "ax.margins(0.05) # Optional, just adds 5% padding to the autoscaling\n",
    "for name, group in dat2:\n",
    "    ax.plot(group.y, marker='o', linestyle='', ms=12, label=name)\n",
    "ax.legend()\n",
    "\n",
    "plt.show()"
   ]
  },
  {
   "cell_type": "code",
   "execution_count": null,
   "metadata": {},
   "outputs": [],
   "source": [
    "X = dat.iloc[:, 1:218]\n",
    "y = dat['y']\n",
    "groups = dat['site']\n",
    "logo = LeaveOneGroupOut()\n",
    "logo.get_n_splits(X, y, groups)"
   ]
  },
  {
   "cell_type": "code",
   "execution_count": null,
   "metadata": {},
   "outputs": [],
   "source": [
    "mygrps = groups.unique()\n",
    "n_grps = len(mygrps)"
   ]
  },
  {
   "cell_type": "markdown",
   "metadata": {},
   "source": [
    "## Cross-validation loop"
   ]
  },
  {
   "cell_type": "code",
   "execution_count": null,
   "metadata": {},
   "outputs": [],
   "source": [
    "my_mae = np.empty(n_grps)\n",
    "my_y_true = []\n",
    "my_y_pred = []"
   ]
  },
  {
   "cell_type": "code",
   "execution_count": null,
   "metadata": {},
   "outputs": [],
   "source": [
    "for i, (train_index, test_index) in enumerate(logo.split(X, y, groups)):\n",
    "    print(f\"Fold {i}:\")\n",
    "    print(f\"Site {mygrps[i]}:\")\n",
    "    #print(f\"  Train: index={train_index}, group={groups[train_index]}\")\n",
    "    #print(f\"  Test:  index={test_index}, group={groups[test_index]}\")\n",
    "\n",
    "    # Split out data\n",
    "    X_train = X.iloc[train_index, :]\n",
    "    print(X_train.shape)\n",
    "    y_train = y[train_index]\n",
    "    n_feat = X_train.shape[1]\n",
    "    \n",
    "    X_test = X.iloc[test_index, :]\n",
    "    print(X_test.shape)\n",
    "    y_test = y[test_index]\n",
    "\n",
    "    # Build model\n",
    "    aq_rf = ensemble.RandomForestRegressor()\n",
    "\n",
    "    # Train model\n",
    "    aq_rf.fit(X_train, y_train)\n",
    "    \n",
    "    ## Predict for test set\n",
    "    y_test_pred = aq_rf.predict(X_test)\n",
    "    my_mae[i] = mean_absolute_error(y_test, y_test_pred)\n",
    "    print(f\"MAE: {my_mae[i]}\")\n",
    "    \n",
    "    my_y_true.append(y_test.to_numpy())\n",
    "    my_y_pred.append(y_test_pred)\n"
   ]
  },
  {
   "cell_type": "code",
   "execution_count": null,
   "metadata": {},
   "outputs": [],
   "source": [
    "my_y_pred"
   ]
  },
  {
   "cell_type": "code",
   "execution_count": null,
   "metadata": {},
   "outputs": [],
   "source": [
    "plt.figure()\n",
    "for i in range(len(mygrps)):\n",
    "    plt.plot(my_y_true[i], my_y_pred[i], 'o', label = mygrps[i])\n",
    "\n",
    "plt.legend()\n",
    "plt.show()"
   ]
  },
  {
   "cell_type": "code",
   "execution_count": null,
   "metadata": {},
   "outputs": [],
   "source": [
    "for i in range(len(mygrps)):\n",
    "    plt.plot(my_y_true[i], label = \"Obs\")\n",
    "    plt.plot(my_y_pred[i], label = \"Pred\")\n",
    "    plt.legend()\n",
    "    plt.show()"
   ]
  }
 ],
 "metadata": {
  "kernelspec": {
   "display_name": "dk",
   "language": "python",
   "name": "python3"
  },
  "language_info": {
   "codemirror_mode": {
    "name": "ipython",
    "version": 3
   },
   "file_extension": ".py",
   "mimetype": "text/x-python",
   "name": "python",
   "nbconvert_exporter": "python",
   "pygments_lexer": "ipython3",
   "version": "3.10.13"
  }
 },
 "nbformat": 4,
 "nbformat_minor": 2
}
